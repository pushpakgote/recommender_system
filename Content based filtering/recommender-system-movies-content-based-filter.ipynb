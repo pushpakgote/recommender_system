{
 "cells": [
  {
   "cell_type": "code",
   "execution_count": 1,
   "id": "994cfb3f",
   "metadata": {
    "_cell_guid": "b1076dfc-b9ad-4769-8c92-a6c4dae69d19",
    "_uuid": "8f2839f25d086af736a60e9eeb907d3b93b6e0e5",
    "execution": {
     "iopub.execute_input": "2022-08-24T12:18:01.114414Z",
     "iopub.status.busy": "2022-08-24T12:18:01.112599Z",
     "iopub.status.idle": "2022-08-24T12:18:01.129860Z",
     "shell.execute_reply": "2022-08-24T12:18:01.128726Z"
    },
    "papermill": {
     "duration": 0.037719,
     "end_time": "2022-08-24T12:18:01.133034",
     "exception": false,
     "start_time": "2022-08-24T12:18:01.095315",
     "status": "completed"
    },
    "tags": []
   },
   "outputs": [],
   "source": [
    "import numpy as np # linear algebra\n",
    "import pandas as pd # data processing, CSV file I/O (e.g. pd.read_csv)\n",
    "import ast"
   ]
  },
  {
   "cell_type": "code",
   "execution_count": 2,
   "id": "5a6b2d8d",
   "metadata": {
    "execution": {
     "iopub.execute_input": "2022-08-24T12:18:01.162544Z",
     "iopub.status.busy": "2022-08-24T12:18:01.161371Z",
     "iopub.status.idle": "2022-08-24T12:18:02.280296Z",
     "shell.execute_reply": "2022-08-24T12:18:02.278613Z"
    },
    "papermill": {
     "duration": 1.136863,
     "end_time": "2022-08-24T12:18:02.283454",
     "exception": false,
     "start_time": "2022-08-24T12:18:01.146591",
     "status": "completed"
    },
    "tags": []
   },
   "outputs": [],
   "source": [
    "credits=pd.read_csv('../input/tmdb-movie-metadata/tmdb_5000_credits.csv')\n",
    "movies=pd.read_csv('../input/tmdb-movie-metadata/tmdb_5000_movies.csv')"
   ]
  },
  {
   "cell_type": "code",
   "execution_count": 3,
   "id": "005fb17a",
   "metadata": {
    "execution": {
     "iopub.execute_input": "2022-08-24T12:18:02.316442Z",
     "iopub.status.busy": "2022-08-24T12:18:02.315849Z",
     "iopub.status.idle": "2022-08-24T12:18:02.353323Z",
     "shell.execute_reply": "2022-08-24T12:18:02.351905Z"
    },
    "papermill": {
     "duration": 0.056491,
     "end_time": "2022-08-24T12:18:02.355798",
     "exception": false,
     "start_time": "2022-08-24T12:18:02.299307",
     "status": "completed"
    },
    "tags": []
   },
   "outputs": [
    {
     "data": {
      "text/html": [
       "<div>\n",
       "<style scoped>\n",
       "    .dataframe tbody tr th:only-of-type {\n",
       "        vertical-align: middle;\n",
       "    }\n",
       "\n",
       "    .dataframe tbody tr th {\n",
       "        vertical-align: top;\n",
       "    }\n",
       "\n",
       "    .dataframe thead th {\n",
       "        text-align: right;\n",
       "    }\n",
       "</style>\n",
       "<table border=\"1\" class=\"dataframe\">\n",
       "  <thead>\n",
       "    <tr style=\"text-align: right;\">\n",
       "      <th></th>\n",
       "      <th>budget</th>\n",
       "      <th>genres</th>\n",
       "      <th>homepage</th>\n",
       "      <th>id</th>\n",
       "      <th>keywords</th>\n",
       "      <th>original_language</th>\n",
       "      <th>original_title</th>\n",
       "      <th>overview</th>\n",
       "      <th>popularity</th>\n",
       "      <th>production_companies</th>\n",
       "      <th>production_countries</th>\n",
       "      <th>release_date</th>\n",
       "      <th>revenue</th>\n",
       "      <th>runtime</th>\n",
       "      <th>spoken_languages</th>\n",
       "      <th>status</th>\n",
       "      <th>tagline</th>\n",
       "      <th>title</th>\n",
       "      <th>vote_average</th>\n",
       "      <th>vote_count</th>\n",
       "    </tr>\n",
       "  </thead>\n",
       "  <tbody>\n",
       "    <tr>\n",
       "      <th>0</th>\n",
       "      <td>237000000</td>\n",
       "      <td>[{\"id\": 28, \"name\": \"Action\"}, {\"id\": 12, \"nam...</td>\n",
       "      <td>http://www.avatarmovie.com/</td>\n",
       "      <td>19995</td>\n",
       "      <td>[{\"id\": 1463, \"name\": \"culture clash\"}, {\"id\":...</td>\n",
       "      <td>en</td>\n",
       "      <td>Avatar</td>\n",
       "      <td>In the 22nd century, a paraplegic Marine is di...</td>\n",
       "      <td>150.437577</td>\n",
       "      <td>[{\"name\": \"Ingenious Film Partners\", \"id\": 289...</td>\n",
       "      <td>[{\"iso_3166_1\": \"US\", \"name\": \"United States o...</td>\n",
       "      <td>2009-12-10</td>\n",
       "      <td>2787965087</td>\n",
       "      <td>162.0</td>\n",
       "      <td>[{\"iso_639_1\": \"en\", \"name\": \"English\"}, {\"iso...</td>\n",
       "      <td>Released</td>\n",
       "      <td>Enter the World of Pandora.</td>\n",
       "      <td>Avatar</td>\n",
       "      <td>7.2</td>\n",
       "      <td>11800</td>\n",
       "    </tr>\n",
       "    <tr>\n",
       "      <th>1</th>\n",
       "      <td>300000000</td>\n",
       "      <td>[{\"id\": 12, \"name\": \"Adventure\"}, {\"id\": 14, \"...</td>\n",
       "      <td>http://disney.go.com/disneypictures/pirates/</td>\n",
       "      <td>285</td>\n",
       "      <td>[{\"id\": 270, \"name\": \"ocean\"}, {\"id\": 726, \"na...</td>\n",
       "      <td>en</td>\n",
       "      <td>Pirates of the Caribbean: At World's End</td>\n",
       "      <td>Captain Barbossa, long believed to be dead, ha...</td>\n",
       "      <td>139.082615</td>\n",
       "      <td>[{\"name\": \"Walt Disney Pictures\", \"id\": 2}, {\"...</td>\n",
       "      <td>[{\"iso_3166_1\": \"US\", \"name\": \"United States o...</td>\n",
       "      <td>2007-05-19</td>\n",
       "      <td>961000000</td>\n",
       "      <td>169.0</td>\n",
       "      <td>[{\"iso_639_1\": \"en\", \"name\": \"English\"}]</td>\n",
       "      <td>Released</td>\n",
       "      <td>At the end of the world, the adventure begins.</td>\n",
       "      <td>Pirates of the Caribbean: At World's End</td>\n",
       "      <td>6.9</td>\n",
       "      <td>4500</td>\n",
       "    </tr>\n",
       "    <tr>\n",
       "      <th>2</th>\n",
       "      <td>245000000</td>\n",
       "      <td>[{\"id\": 28, \"name\": \"Action\"}, {\"id\": 12, \"nam...</td>\n",
       "      <td>http://www.sonypictures.com/movies/spectre/</td>\n",
       "      <td>206647</td>\n",
       "      <td>[{\"id\": 470, \"name\": \"spy\"}, {\"id\": 818, \"name...</td>\n",
       "      <td>en</td>\n",
       "      <td>Spectre</td>\n",
       "      <td>A cryptic message from Bond’s past sends him o...</td>\n",
       "      <td>107.376788</td>\n",
       "      <td>[{\"name\": \"Columbia Pictures\", \"id\": 5}, {\"nam...</td>\n",
       "      <td>[{\"iso_3166_1\": \"GB\", \"name\": \"United Kingdom\"...</td>\n",
       "      <td>2015-10-26</td>\n",
       "      <td>880674609</td>\n",
       "      <td>148.0</td>\n",
       "      <td>[{\"iso_639_1\": \"fr\", \"name\": \"Fran\\u00e7ais\"},...</td>\n",
       "      <td>Released</td>\n",
       "      <td>A Plan No One Escapes</td>\n",
       "      <td>Spectre</td>\n",
       "      <td>6.3</td>\n",
       "      <td>4466</td>\n",
       "    </tr>\n",
       "    <tr>\n",
       "      <th>3</th>\n",
       "      <td>250000000</td>\n",
       "      <td>[{\"id\": 28, \"name\": \"Action\"}, {\"id\": 80, \"nam...</td>\n",
       "      <td>http://www.thedarkknightrises.com/</td>\n",
       "      <td>49026</td>\n",
       "      <td>[{\"id\": 849, \"name\": \"dc comics\"}, {\"id\": 853,...</td>\n",
       "      <td>en</td>\n",
       "      <td>The Dark Knight Rises</td>\n",
       "      <td>Following the death of District Attorney Harve...</td>\n",
       "      <td>112.312950</td>\n",
       "      <td>[{\"name\": \"Legendary Pictures\", \"id\": 923}, {\"...</td>\n",
       "      <td>[{\"iso_3166_1\": \"US\", \"name\": \"United States o...</td>\n",
       "      <td>2012-07-16</td>\n",
       "      <td>1084939099</td>\n",
       "      <td>165.0</td>\n",
       "      <td>[{\"iso_639_1\": \"en\", \"name\": \"English\"}]</td>\n",
       "      <td>Released</td>\n",
       "      <td>The Legend Ends</td>\n",
       "      <td>The Dark Knight Rises</td>\n",
       "      <td>7.6</td>\n",
       "      <td>9106</td>\n",
       "    </tr>\n",
       "    <tr>\n",
       "      <th>4</th>\n",
       "      <td>260000000</td>\n",
       "      <td>[{\"id\": 28, \"name\": \"Action\"}, {\"id\": 12, \"nam...</td>\n",
       "      <td>http://movies.disney.com/john-carter</td>\n",
       "      <td>49529</td>\n",
       "      <td>[{\"id\": 818, \"name\": \"based on novel\"}, {\"id\":...</td>\n",
       "      <td>en</td>\n",
       "      <td>John Carter</td>\n",
       "      <td>John Carter is a war-weary, former military ca...</td>\n",
       "      <td>43.926995</td>\n",
       "      <td>[{\"name\": \"Walt Disney Pictures\", \"id\": 2}]</td>\n",
       "      <td>[{\"iso_3166_1\": \"US\", \"name\": \"United States o...</td>\n",
       "      <td>2012-03-07</td>\n",
       "      <td>284139100</td>\n",
       "      <td>132.0</td>\n",
       "      <td>[{\"iso_639_1\": \"en\", \"name\": \"English\"}]</td>\n",
       "      <td>Released</td>\n",
       "      <td>Lost in our world, found in another.</td>\n",
       "      <td>John Carter</td>\n",
       "      <td>6.1</td>\n",
       "      <td>2124</td>\n",
       "    </tr>\n",
       "  </tbody>\n",
       "</table>\n",
       "</div>"
      ],
      "text/plain": [
       "      budget                                             genres  \\\n",
       "0  237000000  [{\"id\": 28, \"name\": \"Action\"}, {\"id\": 12, \"nam...   \n",
       "1  300000000  [{\"id\": 12, \"name\": \"Adventure\"}, {\"id\": 14, \"...   \n",
       "2  245000000  [{\"id\": 28, \"name\": \"Action\"}, {\"id\": 12, \"nam...   \n",
       "3  250000000  [{\"id\": 28, \"name\": \"Action\"}, {\"id\": 80, \"nam...   \n",
       "4  260000000  [{\"id\": 28, \"name\": \"Action\"}, {\"id\": 12, \"nam...   \n",
       "\n",
       "                                       homepage      id  \\\n",
       "0                   http://www.avatarmovie.com/   19995   \n",
       "1  http://disney.go.com/disneypictures/pirates/     285   \n",
       "2   http://www.sonypictures.com/movies/spectre/  206647   \n",
       "3            http://www.thedarkknightrises.com/   49026   \n",
       "4          http://movies.disney.com/john-carter   49529   \n",
       "\n",
       "                                            keywords original_language  \\\n",
       "0  [{\"id\": 1463, \"name\": \"culture clash\"}, {\"id\":...                en   \n",
       "1  [{\"id\": 270, \"name\": \"ocean\"}, {\"id\": 726, \"na...                en   \n",
       "2  [{\"id\": 470, \"name\": \"spy\"}, {\"id\": 818, \"name...                en   \n",
       "3  [{\"id\": 849, \"name\": \"dc comics\"}, {\"id\": 853,...                en   \n",
       "4  [{\"id\": 818, \"name\": \"based on novel\"}, {\"id\":...                en   \n",
       "\n",
       "                             original_title  \\\n",
       "0                                    Avatar   \n",
       "1  Pirates of the Caribbean: At World's End   \n",
       "2                                   Spectre   \n",
       "3                     The Dark Knight Rises   \n",
       "4                               John Carter   \n",
       "\n",
       "                                            overview  popularity  \\\n",
       "0  In the 22nd century, a paraplegic Marine is di...  150.437577   \n",
       "1  Captain Barbossa, long believed to be dead, ha...  139.082615   \n",
       "2  A cryptic message from Bond’s past sends him o...  107.376788   \n",
       "3  Following the death of District Attorney Harve...  112.312950   \n",
       "4  John Carter is a war-weary, former military ca...   43.926995   \n",
       "\n",
       "                                production_companies  \\\n",
       "0  [{\"name\": \"Ingenious Film Partners\", \"id\": 289...   \n",
       "1  [{\"name\": \"Walt Disney Pictures\", \"id\": 2}, {\"...   \n",
       "2  [{\"name\": \"Columbia Pictures\", \"id\": 5}, {\"nam...   \n",
       "3  [{\"name\": \"Legendary Pictures\", \"id\": 923}, {\"...   \n",
       "4        [{\"name\": \"Walt Disney Pictures\", \"id\": 2}]   \n",
       "\n",
       "                                production_countries release_date     revenue  \\\n",
       "0  [{\"iso_3166_1\": \"US\", \"name\": \"United States o...   2009-12-10  2787965087   \n",
       "1  [{\"iso_3166_1\": \"US\", \"name\": \"United States o...   2007-05-19   961000000   \n",
       "2  [{\"iso_3166_1\": \"GB\", \"name\": \"United Kingdom\"...   2015-10-26   880674609   \n",
       "3  [{\"iso_3166_1\": \"US\", \"name\": \"United States o...   2012-07-16  1084939099   \n",
       "4  [{\"iso_3166_1\": \"US\", \"name\": \"United States o...   2012-03-07   284139100   \n",
       "\n",
       "   runtime                                   spoken_languages    status  \\\n",
       "0    162.0  [{\"iso_639_1\": \"en\", \"name\": \"English\"}, {\"iso...  Released   \n",
       "1    169.0           [{\"iso_639_1\": \"en\", \"name\": \"English\"}]  Released   \n",
       "2    148.0  [{\"iso_639_1\": \"fr\", \"name\": \"Fran\\u00e7ais\"},...  Released   \n",
       "3    165.0           [{\"iso_639_1\": \"en\", \"name\": \"English\"}]  Released   \n",
       "4    132.0           [{\"iso_639_1\": \"en\", \"name\": \"English\"}]  Released   \n",
       "\n",
       "                                          tagline  \\\n",
       "0                     Enter the World of Pandora.   \n",
       "1  At the end of the world, the adventure begins.   \n",
       "2                           A Plan No One Escapes   \n",
       "3                                 The Legend Ends   \n",
       "4            Lost in our world, found in another.   \n",
       "\n",
       "                                      title  vote_average  vote_count  \n",
       "0                                    Avatar           7.2       11800  \n",
       "1  Pirates of the Caribbean: At World's End           6.9        4500  \n",
       "2                                   Spectre           6.3        4466  \n",
       "3                     The Dark Knight Rises           7.6        9106  \n",
       "4                               John Carter           6.1        2124  "
      ]
     },
     "execution_count": 3,
     "metadata": {},
     "output_type": "execute_result"
    }
   ],
   "source": [
    "movies.head()"
   ]
  },
  {
   "cell_type": "code",
   "execution_count": 4,
   "id": "863dd9c5",
   "metadata": {
    "execution": {
     "iopub.execute_input": "2022-08-24T12:18:02.386387Z",
     "iopub.status.busy": "2022-08-24T12:18:02.384934Z",
     "iopub.status.idle": "2022-08-24T12:18:02.401587Z",
     "shell.execute_reply": "2022-08-24T12:18:02.400182Z"
    },
    "papermill": {
     "duration": 0.034694,
     "end_time": "2022-08-24T12:18:02.404271",
     "exception": false,
     "start_time": "2022-08-24T12:18:02.369577",
     "status": "completed"
    },
    "tags": []
   },
   "outputs": [
    {
     "data": {
      "text/html": [
       "<div>\n",
       "<style scoped>\n",
       "    .dataframe tbody tr th:only-of-type {\n",
       "        vertical-align: middle;\n",
       "    }\n",
       "\n",
       "    .dataframe tbody tr th {\n",
       "        vertical-align: top;\n",
       "    }\n",
       "\n",
       "    .dataframe thead th {\n",
       "        text-align: right;\n",
       "    }\n",
       "</style>\n",
       "<table border=\"1\" class=\"dataframe\">\n",
       "  <thead>\n",
       "    <tr style=\"text-align: right;\">\n",
       "      <th></th>\n",
       "      <th>movie_id</th>\n",
       "      <th>title</th>\n",
       "      <th>cast</th>\n",
       "      <th>crew</th>\n",
       "    </tr>\n",
       "  </thead>\n",
       "  <tbody>\n",
       "    <tr>\n",
       "      <th>0</th>\n",
       "      <td>19995</td>\n",
       "      <td>Avatar</td>\n",
       "      <td>[{\"cast_id\": 242, \"character\": \"Jake Sully\", \"...</td>\n",
       "      <td>[{\"credit_id\": \"52fe48009251416c750aca23\", \"de...</td>\n",
       "    </tr>\n",
       "    <tr>\n",
       "      <th>1</th>\n",
       "      <td>285</td>\n",
       "      <td>Pirates of the Caribbean: At World's End</td>\n",
       "      <td>[{\"cast_id\": 4, \"character\": \"Captain Jack Spa...</td>\n",
       "      <td>[{\"credit_id\": \"52fe4232c3a36847f800b579\", \"de...</td>\n",
       "    </tr>\n",
       "    <tr>\n",
       "      <th>2</th>\n",
       "      <td>206647</td>\n",
       "      <td>Spectre</td>\n",
       "      <td>[{\"cast_id\": 1, \"character\": \"James Bond\", \"cr...</td>\n",
       "      <td>[{\"credit_id\": \"54805967c3a36829b5002c41\", \"de...</td>\n",
       "    </tr>\n",
       "    <tr>\n",
       "      <th>3</th>\n",
       "      <td>49026</td>\n",
       "      <td>The Dark Knight Rises</td>\n",
       "      <td>[{\"cast_id\": 2, \"character\": \"Bruce Wayne / Ba...</td>\n",
       "      <td>[{\"credit_id\": \"52fe4781c3a36847f81398c3\", \"de...</td>\n",
       "    </tr>\n",
       "    <tr>\n",
       "      <th>4</th>\n",
       "      <td>49529</td>\n",
       "      <td>John Carter</td>\n",
       "      <td>[{\"cast_id\": 5, \"character\": \"John Carter\", \"c...</td>\n",
       "      <td>[{\"credit_id\": \"52fe479ac3a36847f813eaa3\", \"de...</td>\n",
       "    </tr>\n",
       "  </tbody>\n",
       "</table>\n",
       "</div>"
      ],
      "text/plain": [
       "   movie_id                                     title  \\\n",
       "0     19995                                    Avatar   \n",
       "1       285  Pirates of the Caribbean: At World's End   \n",
       "2    206647                                   Spectre   \n",
       "3     49026                     The Dark Knight Rises   \n",
       "4     49529                               John Carter   \n",
       "\n",
       "                                                cast  \\\n",
       "0  [{\"cast_id\": 242, \"character\": \"Jake Sully\", \"...   \n",
       "1  [{\"cast_id\": 4, \"character\": \"Captain Jack Spa...   \n",
       "2  [{\"cast_id\": 1, \"character\": \"James Bond\", \"cr...   \n",
       "3  [{\"cast_id\": 2, \"character\": \"Bruce Wayne / Ba...   \n",
       "4  [{\"cast_id\": 5, \"character\": \"John Carter\", \"c...   \n",
       "\n",
       "                                                crew  \n",
       "0  [{\"credit_id\": \"52fe48009251416c750aca23\", \"de...  \n",
       "1  [{\"credit_id\": \"52fe4232c3a36847f800b579\", \"de...  \n",
       "2  [{\"credit_id\": \"54805967c3a36829b5002c41\", \"de...  \n",
       "3  [{\"credit_id\": \"52fe4781c3a36847f81398c3\", \"de...  \n",
       "4  [{\"credit_id\": \"52fe479ac3a36847f813eaa3\", \"de...  "
      ]
     },
     "execution_count": 4,
     "metadata": {},
     "output_type": "execute_result"
    }
   ],
   "source": [
    "credits.head()"
   ]
  },
  {
   "cell_type": "code",
   "execution_count": 5,
   "id": "679db3b7",
   "metadata": {
    "execution": {
     "iopub.execute_input": "2022-08-24T12:18:02.435213Z",
     "iopub.status.busy": "2022-08-24T12:18:02.434609Z",
     "iopub.status.idle": "2022-08-24T12:18:02.443269Z",
     "shell.execute_reply": "2022-08-24T12:18:02.442278Z"
    },
    "papermill": {
     "duration": 0.026951,
     "end_time": "2022-08-24T12:18:02.445485",
     "exception": false,
     "start_time": "2022-08-24T12:18:02.418534",
     "status": "completed"
    },
    "tags": []
   },
   "outputs": [
    {
     "data": {
      "text/plain": [
       "((4803, 20), (4803, 4))"
      ]
     },
     "execution_count": 5,
     "metadata": {},
     "output_type": "execute_result"
    }
   ],
   "source": [
    "movies.shape,credits.shape"
   ]
  },
  {
   "cell_type": "code",
   "execution_count": 6,
   "id": "b5d92b4b",
   "metadata": {
    "execution": {
     "iopub.execute_input": "2022-08-24T12:18:02.475093Z",
     "iopub.status.busy": "2022-08-24T12:18:02.474615Z",
     "iopub.status.idle": "2022-08-24T12:18:02.514625Z",
     "shell.execute_reply": "2022-08-24T12:18:02.512736Z"
    },
    "papermill": {
     "duration": 0.058836,
     "end_time": "2022-08-24T12:18:02.517886",
     "exception": false,
     "start_time": "2022-08-24T12:18:02.459050",
     "status": "completed"
    },
    "tags": []
   },
   "outputs": [],
   "source": [
    "movies=movies.merge(credits,on='title')"
   ]
  },
  {
   "cell_type": "code",
   "execution_count": 7,
   "id": "ab4e5e8e",
   "metadata": {
    "execution": {
     "iopub.execute_input": "2022-08-24T12:18:02.547566Z",
     "iopub.status.busy": "2022-08-24T12:18:02.547119Z",
     "iopub.status.idle": "2022-08-24T12:18:02.555689Z",
     "shell.execute_reply": "2022-08-24T12:18:02.554244Z"
    },
    "papermill": {
     "duration": 0.026728,
     "end_time": "2022-08-24T12:18:02.558489",
     "exception": false,
     "start_time": "2022-08-24T12:18:02.531761",
     "status": "completed"
    },
    "tags": []
   },
   "outputs": [
    {
     "data": {
      "text/plain": [
       "(4809, 23)"
      ]
     },
     "execution_count": 7,
     "metadata": {},
     "output_type": "execute_result"
    }
   ],
   "source": [
    "movies.shape"
   ]
  },
  {
   "cell_type": "code",
   "execution_count": 8,
   "id": "de01a072",
   "metadata": {
    "execution": {
     "iopub.execute_input": "2022-08-24T12:18:02.588087Z",
     "iopub.status.busy": "2022-08-24T12:18:02.587687Z",
     "iopub.status.idle": "2022-08-24T12:18:02.596774Z",
     "shell.execute_reply": "2022-08-24T12:18:02.595303Z"
    },
    "papermill": {
     "duration": 0.027089,
     "end_time": "2022-08-24T12:18:02.599664",
     "exception": false,
     "start_time": "2022-08-24T12:18:02.572575",
     "status": "completed"
    },
    "tags": []
   },
   "outputs": [
    {
     "data": {
      "text/plain": [
       "Index(['budget', 'genres', 'homepage', 'id', 'keywords', 'original_language',\n",
       "       'original_title', 'overview', 'popularity', 'production_companies',\n",
       "       'production_countries', 'release_date', 'revenue', 'runtime',\n",
       "       'spoken_languages', 'status', 'tagline', 'title', 'vote_average',\n",
       "       'vote_count', 'movie_id', 'cast', 'crew'],\n",
       "      dtype='object')"
      ]
     },
     "execution_count": 8,
     "metadata": {},
     "output_type": "execute_result"
    }
   ],
   "source": [
    "movies.columns"
   ]
  },
  {
   "cell_type": "markdown",
   "id": "3f928237",
   "metadata": {
    "papermill": {
     "duration": 0.013639,
     "end_time": "2022-08-24T12:18:02.628291",
     "exception": false,
     "start_time": "2022-08-24T12:18:02.614652",
     "status": "completed"
    },
    "tags": []
   },
   "source": [
    "keeping title as it contains movie names in english whereas original_title has title in different languages"
   ]
  },
  {
   "cell_type": "code",
   "execution_count": 9,
   "id": "54b66f8e",
   "metadata": {
    "execution": {
     "iopub.execute_input": "2022-08-24T12:18:02.657884Z",
     "iopub.status.busy": "2022-08-24T12:18:02.657459Z",
     "iopub.status.idle": "2022-08-24T12:18:02.663705Z",
     "shell.execute_reply": "2022-08-24T12:18:02.662160Z"
    },
    "papermill": {
     "duration": 0.024781,
     "end_time": "2022-08-24T12:18:02.666861",
     "exception": false,
     "start_time": "2022-08-24T12:18:02.642080",
     "status": "completed"
    },
    "tags": []
   },
   "outputs": [],
   "source": [
    "useful_features=[ 'id','genres', 'keywords', 'overview', 'title',  'cast', 'crew']"
   ]
  },
  {
   "cell_type": "code",
   "execution_count": 10,
   "id": "638543d5",
   "metadata": {
    "execution": {
     "iopub.execute_input": "2022-08-24T12:18:02.697920Z",
     "iopub.status.busy": "2022-08-24T12:18:02.696271Z",
     "iopub.status.idle": "2022-08-24T12:18:02.711841Z",
     "shell.execute_reply": "2022-08-24T12:18:02.710089Z"
    },
    "papermill": {
     "duration": 0.03417,
     "end_time": "2022-08-24T12:18:02.715160",
     "exception": false,
     "start_time": "2022-08-24T12:18:02.680990",
     "status": "completed"
    },
    "tags": []
   },
   "outputs": [],
   "source": [
    "movies=movies[useful_features]"
   ]
  },
  {
   "cell_type": "code",
   "execution_count": 11,
   "id": "b16d76c0",
   "metadata": {
    "execution": {
     "iopub.execute_input": "2022-08-24T12:18:02.746962Z",
     "iopub.status.busy": "2022-08-24T12:18:02.746407Z",
     "iopub.status.idle": "2022-08-24T12:18:02.769302Z",
     "shell.execute_reply": "2022-08-24T12:18:02.767836Z"
    },
    "papermill": {
     "duration": 0.042918,
     "end_time": "2022-08-24T12:18:02.772742",
     "exception": false,
     "start_time": "2022-08-24T12:18:02.729824",
     "status": "completed"
    },
    "tags": []
   },
   "outputs": [
    {
     "data": {
      "text/html": [
       "<div>\n",
       "<style scoped>\n",
       "    .dataframe tbody tr th:only-of-type {\n",
       "        vertical-align: middle;\n",
       "    }\n",
       "\n",
       "    .dataframe tbody tr th {\n",
       "        vertical-align: top;\n",
       "    }\n",
       "\n",
       "    .dataframe thead th {\n",
       "        text-align: right;\n",
       "    }\n",
       "</style>\n",
       "<table border=\"1\" class=\"dataframe\">\n",
       "  <thead>\n",
       "    <tr style=\"text-align: right;\">\n",
       "      <th></th>\n",
       "      <th>id</th>\n",
       "      <th>genres</th>\n",
       "      <th>keywords</th>\n",
       "      <th>overview</th>\n",
       "      <th>title</th>\n",
       "      <th>cast</th>\n",
       "      <th>crew</th>\n",
       "    </tr>\n",
       "  </thead>\n",
       "  <tbody>\n",
       "    <tr>\n",
       "      <th>0</th>\n",
       "      <td>19995</td>\n",
       "      <td>[{\"id\": 28, \"name\": \"Action\"}, {\"id\": 12, \"nam...</td>\n",
       "      <td>[{\"id\": 1463, \"name\": \"culture clash\"}, {\"id\":...</td>\n",
       "      <td>In the 22nd century, a paraplegic Marine is di...</td>\n",
       "      <td>Avatar</td>\n",
       "      <td>[{\"cast_id\": 242, \"character\": \"Jake Sully\", \"...</td>\n",
       "      <td>[{\"credit_id\": \"52fe48009251416c750aca23\", \"de...</td>\n",
       "    </tr>\n",
       "    <tr>\n",
       "      <th>1</th>\n",
       "      <td>285</td>\n",
       "      <td>[{\"id\": 12, \"name\": \"Adventure\"}, {\"id\": 14, \"...</td>\n",
       "      <td>[{\"id\": 270, \"name\": \"ocean\"}, {\"id\": 726, \"na...</td>\n",
       "      <td>Captain Barbossa, long believed to be dead, ha...</td>\n",
       "      <td>Pirates of the Caribbean: At World's End</td>\n",
       "      <td>[{\"cast_id\": 4, \"character\": \"Captain Jack Spa...</td>\n",
       "      <td>[{\"credit_id\": \"52fe4232c3a36847f800b579\", \"de...</td>\n",
       "    </tr>\n",
       "    <tr>\n",
       "      <th>2</th>\n",
       "      <td>206647</td>\n",
       "      <td>[{\"id\": 28, \"name\": \"Action\"}, {\"id\": 12, \"nam...</td>\n",
       "      <td>[{\"id\": 470, \"name\": \"spy\"}, {\"id\": 818, \"name...</td>\n",
       "      <td>A cryptic message from Bond’s past sends him o...</td>\n",
       "      <td>Spectre</td>\n",
       "      <td>[{\"cast_id\": 1, \"character\": \"James Bond\", \"cr...</td>\n",
       "      <td>[{\"credit_id\": \"54805967c3a36829b5002c41\", \"de...</td>\n",
       "    </tr>\n",
       "    <tr>\n",
       "      <th>3</th>\n",
       "      <td>49026</td>\n",
       "      <td>[{\"id\": 28, \"name\": \"Action\"}, {\"id\": 80, \"nam...</td>\n",
       "      <td>[{\"id\": 849, \"name\": \"dc comics\"}, {\"id\": 853,...</td>\n",
       "      <td>Following the death of District Attorney Harve...</td>\n",
       "      <td>The Dark Knight Rises</td>\n",
       "      <td>[{\"cast_id\": 2, \"character\": \"Bruce Wayne / Ba...</td>\n",
       "      <td>[{\"credit_id\": \"52fe4781c3a36847f81398c3\", \"de...</td>\n",
       "    </tr>\n",
       "    <tr>\n",
       "      <th>4</th>\n",
       "      <td>49529</td>\n",
       "      <td>[{\"id\": 28, \"name\": \"Action\"}, {\"id\": 12, \"nam...</td>\n",
       "      <td>[{\"id\": 818, \"name\": \"based on novel\"}, {\"id\":...</td>\n",
       "      <td>John Carter is a war-weary, former military ca...</td>\n",
       "      <td>John Carter</td>\n",
       "      <td>[{\"cast_id\": 5, \"character\": \"John Carter\", \"c...</td>\n",
       "      <td>[{\"credit_id\": \"52fe479ac3a36847f813eaa3\", \"de...</td>\n",
       "    </tr>\n",
       "    <tr>\n",
       "      <th>...</th>\n",
       "      <td>...</td>\n",
       "      <td>...</td>\n",
       "      <td>...</td>\n",
       "      <td>...</td>\n",
       "      <td>...</td>\n",
       "      <td>...</td>\n",
       "      <td>...</td>\n",
       "    </tr>\n",
       "    <tr>\n",
       "      <th>4804</th>\n",
       "      <td>9367</td>\n",
       "      <td>[{\"id\": 28, \"name\": \"Action\"}, {\"id\": 80, \"nam...</td>\n",
       "      <td>[{\"id\": 5616, \"name\": \"united states\\u2013mexi...</td>\n",
       "      <td>El Mariachi just wants to play his guitar and ...</td>\n",
       "      <td>El Mariachi</td>\n",
       "      <td>[{\"cast_id\": 1, \"character\": \"El Mariachi\", \"c...</td>\n",
       "      <td>[{\"credit_id\": \"52fe44eec3a36847f80b280b\", \"de...</td>\n",
       "    </tr>\n",
       "    <tr>\n",
       "      <th>4805</th>\n",
       "      <td>72766</td>\n",
       "      <td>[{\"id\": 35, \"name\": \"Comedy\"}, {\"id\": 10749, \"...</td>\n",
       "      <td>[]</td>\n",
       "      <td>A newlywed couple's honeymoon is upended by th...</td>\n",
       "      <td>Newlyweds</td>\n",
       "      <td>[{\"cast_id\": 1, \"character\": \"Buzzy\", \"credit_...</td>\n",
       "      <td>[{\"credit_id\": \"52fe487dc3a368484e0fb013\", \"de...</td>\n",
       "    </tr>\n",
       "    <tr>\n",
       "      <th>4806</th>\n",
       "      <td>231617</td>\n",
       "      <td>[{\"id\": 35, \"name\": \"Comedy\"}, {\"id\": 18, \"nam...</td>\n",
       "      <td>[{\"id\": 248, \"name\": \"date\"}, {\"id\": 699, \"nam...</td>\n",
       "      <td>\"Signed, Sealed, Delivered\" introduces a dedic...</td>\n",
       "      <td>Signed, Sealed, Delivered</td>\n",
       "      <td>[{\"cast_id\": 8, \"character\": \"Oliver O\\u2019To...</td>\n",
       "      <td>[{\"credit_id\": \"52fe4df3c3a36847f8275ecf\", \"de...</td>\n",
       "    </tr>\n",
       "    <tr>\n",
       "      <th>4807</th>\n",
       "      <td>126186</td>\n",
       "      <td>[]</td>\n",
       "      <td>[]</td>\n",
       "      <td>When ambitious New York attorney Sam is sent t...</td>\n",
       "      <td>Shanghai Calling</td>\n",
       "      <td>[{\"cast_id\": 3, \"character\": \"Sam\", \"credit_id...</td>\n",
       "      <td>[{\"credit_id\": \"52fe4ad9c3a368484e16a36b\", \"de...</td>\n",
       "    </tr>\n",
       "    <tr>\n",
       "      <th>4808</th>\n",
       "      <td>25975</td>\n",
       "      <td>[{\"id\": 99, \"name\": \"Documentary\"}]</td>\n",
       "      <td>[{\"id\": 1523, \"name\": \"obsession\"}, {\"id\": 224...</td>\n",
       "      <td>Ever since the second grade when he first saw ...</td>\n",
       "      <td>My Date with Drew</td>\n",
       "      <td>[{\"cast_id\": 3, \"character\": \"Herself\", \"credi...</td>\n",
       "      <td>[{\"credit_id\": \"58ce021b9251415a390165d9\", \"de...</td>\n",
       "    </tr>\n",
       "  </tbody>\n",
       "</table>\n",
       "<p>4809 rows × 7 columns</p>\n",
       "</div>"
      ],
      "text/plain": [
       "          id                                             genres  \\\n",
       "0      19995  [{\"id\": 28, \"name\": \"Action\"}, {\"id\": 12, \"nam...   \n",
       "1        285  [{\"id\": 12, \"name\": \"Adventure\"}, {\"id\": 14, \"...   \n",
       "2     206647  [{\"id\": 28, \"name\": \"Action\"}, {\"id\": 12, \"nam...   \n",
       "3      49026  [{\"id\": 28, \"name\": \"Action\"}, {\"id\": 80, \"nam...   \n",
       "4      49529  [{\"id\": 28, \"name\": \"Action\"}, {\"id\": 12, \"nam...   \n",
       "...      ...                                                ...   \n",
       "4804    9367  [{\"id\": 28, \"name\": \"Action\"}, {\"id\": 80, \"nam...   \n",
       "4805   72766  [{\"id\": 35, \"name\": \"Comedy\"}, {\"id\": 10749, \"...   \n",
       "4806  231617  [{\"id\": 35, \"name\": \"Comedy\"}, {\"id\": 18, \"nam...   \n",
       "4807  126186                                                 []   \n",
       "4808   25975                [{\"id\": 99, \"name\": \"Documentary\"}]   \n",
       "\n",
       "                                               keywords  \\\n",
       "0     [{\"id\": 1463, \"name\": \"culture clash\"}, {\"id\":...   \n",
       "1     [{\"id\": 270, \"name\": \"ocean\"}, {\"id\": 726, \"na...   \n",
       "2     [{\"id\": 470, \"name\": \"spy\"}, {\"id\": 818, \"name...   \n",
       "3     [{\"id\": 849, \"name\": \"dc comics\"}, {\"id\": 853,...   \n",
       "4     [{\"id\": 818, \"name\": \"based on novel\"}, {\"id\":...   \n",
       "...                                                 ...   \n",
       "4804  [{\"id\": 5616, \"name\": \"united states\\u2013mexi...   \n",
       "4805                                                 []   \n",
       "4806  [{\"id\": 248, \"name\": \"date\"}, {\"id\": 699, \"nam...   \n",
       "4807                                                 []   \n",
       "4808  [{\"id\": 1523, \"name\": \"obsession\"}, {\"id\": 224...   \n",
       "\n",
       "                                               overview  \\\n",
       "0     In the 22nd century, a paraplegic Marine is di...   \n",
       "1     Captain Barbossa, long believed to be dead, ha...   \n",
       "2     A cryptic message from Bond’s past sends him o...   \n",
       "3     Following the death of District Attorney Harve...   \n",
       "4     John Carter is a war-weary, former military ca...   \n",
       "...                                                 ...   \n",
       "4804  El Mariachi just wants to play his guitar and ...   \n",
       "4805  A newlywed couple's honeymoon is upended by th...   \n",
       "4806  \"Signed, Sealed, Delivered\" introduces a dedic...   \n",
       "4807  When ambitious New York attorney Sam is sent t...   \n",
       "4808  Ever since the second grade when he first saw ...   \n",
       "\n",
       "                                         title  \\\n",
       "0                                       Avatar   \n",
       "1     Pirates of the Caribbean: At World's End   \n",
       "2                                      Spectre   \n",
       "3                        The Dark Knight Rises   \n",
       "4                                  John Carter   \n",
       "...                                        ...   \n",
       "4804                               El Mariachi   \n",
       "4805                                 Newlyweds   \n",
       "4806                 Signed, Sealed, Delivered   \n",
       "4807                          Shanghai Calling   \n",
       "4808                         My Date with Drew   \n",
       "\n",
       "                                                   cast  \\\n",
       "0     [{\"cast_id\": 242, \"character\": \"Jake Sully\", \"...   \n",
       "1     [{\"cast_id\": 4, \"character\": \"Captain Jack Spa...   \n",
       "2     [{\"cast_id\": 1, \"character\": \"James Bond\", \"cr...   \n",
       "3     [{\"cast_id\": 2, \"character\": \"Bruce Wayne / Ba...   \n",
       "4     [{\"cast_id\": 5, \"character\": \"John Carter\", \"c...   \n",
       "...                                                 ...   \n",
       "4804  [{\"cast_id\": 1, \"character\": \"El Mariachi\", \"c...   \n",
       "4805  [{\"cast_id\": 1, \"character\": \"Buzzy\", \"credit_...   \n",
       "4806  [{\"cast_id\": 8, \"character\": \"Oliver O\\u2019To...   \n",
       "4807  [{\"cast_id\": 3, \"character\": \"Sam\", \"credit_id...   \n",
       "4808  [{\"cast_id\": 3, \"character\": \"Herself\", \"credi...   \n",
       "\n",
       "                                                   crew  \n",
       "0     [{\"credit_id\": \"52fe48009251416c750aca23\", \"de...  \n",
       "1     [{\"credit_id\": \"52fe4232c3a36847f800b579\", \"de...  \n",
       "2     [{\"credit_id\": \"54805967c3a36829b5002c41\", \"de...  \n",
       "3     [{\"credit_id\": \"52fe4781c3a36847f81398c3\", \"de...  \n",
       "4     [{\"credit_id\": \"52fe479ac3a36847f813eaa3\", \"de...  \n",
       "...                                                 ...  \n",
       "4804  [{\"credit_id\": \"52fe44eec3a36847f80b280b\", \"de...  \n",
       "4805  [{\"credit_id\": \"52fe487dc3a368484e0fb013\", \"de...  \n",
       "4806  [{\"credit_id\": \"52fe4df3c3a36847f8275ecf\", \"de...  \n",
       "4807  [{\"credit_id\": \"52fe4ad9c3a368484e16a36b\", \"de...  \n",
       "4808  [{\"credit_id\": \"58ce021b9251415a390165d9\", \"de...  \n",
       "\n",
       "[4809 rows x 7 columns]"
      ]
     },
     "execution_count": 11,
     "metadata": {},
     "output_type": "execute_result"
    }
   ],
   "source": [
    "movies"
   ]
  },
  {
   "cell_type": "code",
   "execution_count": 12,
   "id": "51b144ec",
   "metadata": {
    "execution": {
     "iopub.execute_input": "2022-08-24T12:18:02.806508Z",
     "iopub.status.busy": "2022-08-24T12:18:02.805308Z",
     "iopub.status.idle": "2022-08-24T12:18:02.823177Z",
     "shell.execute_reply": "2022-08-24T12:18:02.821233Z"
    },
    "papermill": {
     "duration": 0.037852,
     "end_time": "2022-08-24T12:18:02.826295",
     "exception": false,
     "start_time": "2022-08-24T12:18:02.788443",
     "status": "completed"
    },
    "tags": []
   },
   "outputs": [
    {
     "data": {
      "text/plain": [
       "id          0\n",
       "genres      0\n",
       "keywords    0\n",
       "overview    3\n",
       "title       0\n",
       "cast        0\n",
       "crew        0\n",
       "dtype: int64"
      ]
     },
     "execution_count": 12,
     "metadata": {},
     "output_type": "execute_result"
    }
   ],
   "source": [
    "movies.isna().sum()"
   ]
  },
  {
   "cell_type": "code",
   "execution_count": 13,
   "id": "fd732163",
   "metadata": {
    "execution": {
     "iopub.execute_input": "2022-08-24T12:18:02.859392Z",
     "iopub.status.busy": "2022-08-24T12:18:02.858827Z",
     "iopub.status.idle": "2022-08-24T12:18:02.877920Z",
     "shell.execute_reply": "2022-08-24T12:18:02.876389Z"
    },
    "papermill": {
     "duration": 0.039022,
     "end_time": "2022-08-24T12:18:02.880581",
     "exception": false,
     "start_time": "2022-08-24T12:18:02.841559",
     "status": "completed"
    },
    "tags": []
   },
   "outputs": [
    {
     "data": {
      "text/html": [
       "<div>\n",
       "<style scoped>\n",
       "    .dataframe tbody tr th:only-of-type {\n",
       "        vertical-align: middle;\n",
       "    }\n",
       "\n",
       "    .dataframe tbody tr th {\n",
       "        vertical-align: top;\n",
       "    }\n",
       "\n",
       "    .dataframe thead th {\n",
       "        text-align: right;\n",
       "    }\n",
       "</style>\n",
       "<table border=\"1\" class=\"dataframe\">\n",
       "  <thead>\n",
       "    <tr style=\"text-align: right;\">\n",
       "      <th></th>\n",
       "      <th>id</th>\n",
       "      <th>genres</th>\n",
       "      <th>keywords</th>\n",
       "      <th>overview</th>\n",
       "      <th>title</th>\n",
       "      <th>cast</th>\n",
       "      <th>crew</th>\n",
       "    </tr>\n",
       "  </thead>\n",
       "  <tbody>\n",
       "    <tr>\n",
       "      <th>2662</th>\n",
       "      <td>370980</td>\n",
       "      <td>[{\"id\": 18, \"name\": \"Drama\"}]</td>\n",
       "      <td>[{\"id\": 717, \"name\": \"pope\"}, {\"id\": 5565, \"na...</td>\n",
       "      <td>NaN</td>\n",
       "      <td>Chiamatemi Francesco - Il Papa della gente</td>\n",
       "      <td>[{\"cast_id\": 5, \"character\": \"Jorge Mario Berg...</td>\n",
       "      <td>[{\"credit_id\": \"5660019ac3a36875f100252b\", \"de...</td>\n",
       "    </tr>\n",
       "    <tr>\n",
       "      <th>4147</th>\n",
       "      <td>459488</td>\n",
       "      <td>[{\"id\": 99, \"name\": \"Documentary\"}]</td>\n",
       "      <td>[{\"id\": 6027, \"name\": \"music\"}, {\"id\": 225822,...</td>\n",
       "      <td>NaN</td>\n",
       "      <td>To Be Frank, Sinatra at 100</td>\n",
       "      <td>[{\"cast_id\": 0, \"character\": \"Narrator\", \"cred...</td>\n",
       "      <td>[{\"credit_id\": \"592b25e4c3a368783e065a2f\", \"de...</td>\n",
       "    </tr>\n",
       "    <tr>\n",
       "      <th>4437</th>\n",
       "      <td>292539</td>\n",
       "      <td>[{\"id\": 99, \"name\": \"Documentary\"}]</td>\n",
       "      <td>[]</td>\n",
       "      <td>NaN</td>\n",
       "      <td>Food Chains</td>\n",
       "      <td>[]</td>\n",
       "      <td>[{\"credit_id\": \"5470c3b1c3a368085e000abd\", \"de...</td>\n",
       "    </tr>\n",
       "  </tbody>\n",
       "</table>\n",
       "</div>"
      ],
      "text/plain": [
       "          id                               genres  \\\n",
       "2662  370980        [{\"id\": 18, \"name\": \"Drama\"}]   \n",
       "4147  459488  [{\"id\": 99, \"name\": \"Documentary\"}]   \n",
       "4437  292539  [{\"id\": 99, \"name\": \"Documentary\"}]   \n",
       "\n",
       "                                               keywords overview  \\\n",
       "2662  [{\"id\": 717, \"name\": \"pope\"}, {\"id\": 5565, \"na...      NaN   \n",
       "4147  [{\"id\": 6027, \"name\": \"music\"}, {\"id\": 225822,...      NaN   \n",
       "4437                                                 []      NaN   \n",
       "\n",
       "                                           title  \\\n",
       "2662  Chiamatemi Francesco - Il Papa della gente   \n",
       "4147                 To Be Frank, Sinatra at 100   \n",
       "4437                                 Food Chains   \n",
       "\n",
       "                                                   cast  \\\n",
       "2662  [{\"cast_id\": 5, \"character\": \"Jorge Mario Berg...   \n",
       "4147  [{\"cast_id\": 0, \"character\": \"Narrator\", \"cred...   \n",
       "4437                                                 []   \n",
       "\n",
       "                                                   crew  \n",
       "2662  [{\"credit_id\": \"5660019ac3a36875f100252b\", \"de...  \n",
       "4147  [{\"credit_id\": \"592b25e4c3a368783e065a2f\", \"de...  \n",
       "4437  [{\"credit_id\": \"5470c3b1c3a368085e000abd\", \"de...  "
      ]
     },
     "execution_count": 13,
     "metadata": {},
     "output_type": "execute_result"
    }
   ],
   "source": [
    "#Check data of mull overview \n",
    "movies[movies['overview'].isna()]"
   ]
  },
  {
   "cell_type": "code",
   "execution_count": 14,
   "id": "9d63e6a3",
   "metadata": {
    "execution": {
     "iopub.execute_input": "2022-08-24T12:18:02.915406Z",
     "iopub.status.busy": "2022-08-24T12:18:02.914916Z",
     "iopub.status.idle": "2022-08-24T12:18:02.930626Z",
     "shell.execute_reply": "2022-08-24T12:18:02.928702Z"
    },
    "papermill": {
     "duration": 0.036415,
     "end_time": "2022-08-24T12:18:02.933515",
     "exception": false,
     "start_time": "2022-08-24T12:18:02.897100",
     "status": "completed"
    },
    "tags": []
   },
   "outputs": [],
   "source": [
    "#Only 3 rows, so drop them\n",
    "movies.dropna(inplace=True)"
   ]
  },
  {
   "cell_type": "code",
   "execution_count": 15,
   "id": "634e2963",
   "metadata": {
    "execution": {
     "iopub.execute_input": "2022-08-24T12:18:02.968595Z",
     "iopub.status.busy": "2022-08-24T12:18:02.967554Z",
     "iopub.status.idle": "2022-08-24T12:18:03.082030Z",
     "shell.execute_reply": "2022-08-24T12:18:03.080458Z"
    },
    "papermill": {
     "duration": 0.135057,
     "end_time": "2022-08-24T12:18:03.085332",
     "exception": false,
     "start_time": "2022-08-24T12:18:02.950275",
     "status": "completed"
    },
    "tags": []
   },
   "outputs": [
    {
     "data": {
      "text/plain": [
       "0"
      ]
     },
     "execution_count": 15,
     "metadata": {},
     "output_type": "execute_result"
    }
   ],
   "source": [
    "#Checking duplicates\n",
    "movies.duplicated().sum()"
   ]
  },
  {
   "cell_type": "markdown",
   "id": "c12d50c4",
   "metadata": {
    "papermill": {
     "duration": 0.015684,
     "end_time": "2022-08-24T12:18:03.117336",
     "exception": false,
     "start_time": "2022-08-24T12:18:03.101652",
     "status": "completed"
    },
    "tags": []
   },
   "source": [
    "### Getting genre of every movie. Ex: movie1 = Action,Adventure,Fantasy,Science Fiction "
   ]
  },
  {
   "cell_type": "code",
   "execution_count": 16,
   "id": "c3a752a0",
   "metadata": {
    "execution": {
     "iopub.execute_input": "2022-08-24T12:18:03.151069Z",
     "iopub.status.busy": "2022-08-24T12:18:03.150658Z",
     "iopub.status.idle": "2022-08-24T12:18:03.161665Z",
     "shell.execute_reply": "2022-08-24T12:18:03.160422Z"
    },
    "papermill": {
     "duration": 0.031117,
     "end_time": "2022-08-24T12:18:03.164423",
     "exception": false,
     "start_time": "2022-08-24T12:18:03.133306",
     "status": "completed"
    },
    "tags": []
   },
   "outputs": [
    {
     "data": {
      "text/plain": [
       "'[{\"id\": 28, \"name\": \"Action\"}, {\"id\": 12, \"name\": \"Adventure\"}, {\"id\": 14, \"name\": \"Fantasy\"}, {\"id\": 878, \"name\": \"Science Fiction\"}]'"
      ]
     },
     "execution_count": 16,
     "metadata": {},
     "output_type": "execute_result"
    }
   ],
   "source": [
    "movies.genres[0]"
   ]
  },
  {
   "cell_type": "code",
   "execution_count": 17,
   "id": "3b534d08",
   "metadata": {
    "execution": {
     "iopub.execute_input": "2022-08-24T12:18:03.199312Z",
     "iopub.status.busy": "2022-08-24T12:18:03.198271Z",
     "iopub.status.idle": "2022-08-24T12:18:03.205045Z",
     "shell.execute_reply": "2022-08-24T12:18:03.204015Z"
    },
    "papermill": {
     "duration": 0.02756,
     "end_time": "2022-08-24T12:18:03.207771",
     "exception": false,
     "start_time": "2022-08-24T12:18:03.180211",
     "status": "completed"
    },
    "tags": []
   },
   "outputs": [],
   "source": [
    "# This function has 1 required argument 'obj' and 1 optional argument 'req_count'.\n",
    "# if 'req_count' is 2 then then it returns top 2 items, if 'req_count' is None or not specified then returns all items\n",
    "def convert(obj,req_count=None):\n",
    "    l=[]\n",
    "   \n",
    "    counter=0\n",
    "    for i in ast.literal_eval(obj):\n",
    "        if req_count!= None and counter==req_count:\n",
    "            break\n",
    "        else:\n",
    "            counter+=1\n",
    "        l.append(i['name'])\n",
    "    return l"
   ]
  },
  {
   "cell_type": "code",
   "execution_count": 18,
   "id": "42cbef8f",
   "metadata": {
    "execution": {
     "iopub.execute_input": "2022-08-24T12:18:03.243113Z",
     "iopub.status.busy": "2022-08-24T12:18:03.242318Z",
     "iopub.status.idle": "2022-08-24T12:18:03.408724Z",
     "shell.execute_reply": "2022-08-24T12:18:03.407432Z"
    },
    "papermill": {
     "duration": 0.18651,
     "end_time": "2022-08-24T12:18:03.411573",
     "exception": false,
     "start_time": "2022-08-24T12:18:03.225063",
     "status": "completed"
    },
    "tags": []
   },
   "outputs": [
    {
     "data": {
      "text/plain": [
       "0       [Action, Adventure, Fantasy, Science Fiction]\n",
       "1                        [Adventure, Fantasy, Action]\n",
       "2                          [Action, Adventure, Crime]\n",
       "3                    [Action, Crime, Drama, Thriller]\n",
       "4                [Action, Adventure, Science Fiction]\n",
       "                            ...                      \n",
       "4804                        [Action, Crime, Thriller]\n",
       "4805                                [Comedy, Romance]\n",
       "4806               [Comedy, Drama, Romance, TV Movie]\n",
       "4807                                               []\n",
       "4808                                    [Documentary]\n",
       "Name: genres, Length: 4806, dtype: object"
      ]
     },
     "execution_count": 18,
     "metadata": {},
     "output_type": "execute_result"
    }
   ],
   "source": [
    "movies['genres'].apply(convert)"
   ]
  },
  {
   "cell_type": "code",
   "execution_count": 19,
   "id": "5c3d3731",
   "metadata": {
    "execution": {
     "iopub.execute_input": "2022-08-24T12:18:03.445869Z",
     "iopub.status.busy": "2022-08-24T12:18:03.444115Z",
     "iopub.status.idle": "2022-08-24T12:18:03.605003Z",
     "shell.execute_reply": "2022-08-24T12:18:03.603664Z"
    },
    "papermill": {
     "duration": 0.181183,
     "end_time": "2022-08-24T12:18:03.608361",
     "exception": false,
     "start_time": "2022-08-24T12:18:03.427178",
     "status": "completed"
    },
    "tags": []
   },
   "outputs": [],
   "source": [
    "#replace previous genres with new genres\n",
    "movies['genres']=movies['genres'].apply(convert)\n",
    "\n",
    "#or below (same output as above)\n",
    "# movies['genres']=movies['genres'].apply(lambda x: convert(x))"
   ]
  },
  {
   "cell_type": "markdown",
   "id": "c1313368",
   "metadata": {
    "papermill": {
     "duration": 0.01542,
     "end_time": "2022-08-24T12:18:03.640302",
     "exception": false,
     "start_time": "2022-08-24T12:18:03.624882",
     "status": "completed"
    },
    "tags": []
   },
   "source": [
    "### Getting keywords of every movie. Ex: movie1 = Action,Adventure,Fantasy,Science Fiction "
   ]
  },
  {
   "cell_type": "code",
   "execution_count": 20,
   "id": "8bd90c95",
   "metadata": {
    "execution": {
     "iopub.execute_input": "2022-08-24T12:18:03.674182Z",
     "iopub.status.busy": "2022-08-24T12:18:03.673415Z",
     "iopub.status.idle": "2022-08-24T12:18:03.682055Z",
     "shell.execute_reply": "2022-08-24T12:18:03.680826Z"
    },
    "papermill": {
     "duration": 0.028491,
     "end_time": "2022-08-24T12:18:03.684682",
     "exception": false,
     "start_time": "2022-08-24T12:18:03.656191",
     "status": "completed"
    },
    "tags": []
   },
   "outputs": [
    {
     "data": {
      "text/plain": [
       "'[{\"id\": 1463, \"name\": \"culture clash\"}, {\"id\": 2964, \"name\": \"future\"}, {\"id\": 3386, \"name\": \"space war\"}, {\"id\": 3388, \"name\": \"space colony\"}, {\"id\": 3679, \"name\": \"society\"}, {\"id\": 3801, \"name\": \"space travel\"}, {\"id\": 9685, \"name\": \"futuristic\"}, {\"id\": 9840, \"name\": \"romance\"}, {\"id\": 9882, \"name\": \"space\"}, {\"id\": 9951, \"name\": \"alien\"}, {\"id\": 10148, \"name\": \"tribe\"}, {\"id\": 10158, \"name\": \"alien planet\"}, {\"id\": 10987, \"name\": \"cgi\"}, {\"id\": 11399, \"name\": \"marine\"}, {\"id\": 13065, \"name\": \"soldier\"}, {\"id\": 14643, \"name\": \"battle\"}, {\"id\": 14720, \"name\": \"love affair\"}, {\"id\": 165431, \"name\": \"anti war\"}, {\"id\": 193554, \"name\": \"power relations\"}, {\"id\": 206690, \"name\": \"mind and soul\"}, {\"id\": 209714, \"name\": \"3d\"}]'"
      ]
     },
     "execution_count": 20,
     "metadata": {},
     "output_type": "execute_result"
    }
   ],
   "source": [
    "movies['keywords'][0]"
   ]
  },
  {
   "cell_type": "code",
   "execution_count": 21,
   "id": "bd1d9d8e",
   "metadata": {
    "execution": {
     "iopub.execute_input": "2022-08-24T12:18:03.719949Z",
     "iopub.status.busy": "2022-08-24T12:18:03.719525Z",
     "iopub.status.idle": "2022-08-24T12:18:04.141392Z",
     "shell.execute_reply": "2022-08-24T12:18:04.139551Z"
    },
    "papermill": {
     "duration": 0.443805,
     "end_time": "2022-08-24T12:18:04.145024",
     "exception": false,
     "start_time": "2022-08-24T12:18:03.701219",
     "status": "completed"
    },
    "tags": []
   },
   "outputs": [],
   "source": [
    "#replace previous keywords with new keywords\n",
    "movies['keywords']=movies['keywords'].apply(convert)"
   ]
  },
  {
   "cell_type": "code",
   "execution_count": 22,
   "id": "0b2f1a19",
   "metadata": {
    "execution": {
     "iopub.execute_input": "2022-08-24T12:18:04.180619Z",
     "iopub.status.busy": "2022-08-24T12:18:04.179090Z",
     "iopub.status.idle": "2022-08-24T12:18:07.550877Z",
     "shell.execute_reply": "2022-08-24T12:18:07.549610Z"
    },
    "papermill": {
     "duration": 3.392337,
     "end_time": "2022-08-24T12:18:07.553884",
     "exception": false,
     "start_time": "2022-08-24T12:18:04.161547",
     "status": "completed"
    },
    "tags": []
   },
   "outputs": [],
   "source": [
    "#replace previous cast with top 3 cast\n",
    "no_of_items=3\n",
    "movies['cast']=movies['cast'].apply(lambda x: convert(x,no_of_items))"
   ]
  },
  {
   "cell_type": "code",
   "execution_count": 23,
   "id": "99012166",
   "metadata": {
    "execution": {
     "iopub.execute_input": "2022-08-24T12:18:07.587042Z",
     "iopub.status.busy": "2022-08-24T12:18:07.586512Z",
     "iopub.status.idle": "2022-08-24T12:18:07.593545Z",
     "shell.execute_reply": "2022-08-24T12:18:07.591745Z"
    },
    "papermill": {
     "duration": 0.027118,
     "end_time": "2022-08-24T12:18:07.596506",
     "exception": false,
     "start_time": "2022-08-24T12:18:07.569388",
     "status": "completed"
    },
    "tags": []
   },
   "outputs": [],
   "source": [
    "def fetch_director(obj):\n",
    "    l=[]\n",
    "    for i in ast.literal_eval(obj):\n",
    "        if i['job']==\"Director\":\n",
    "            l.append(i['name'])\n",
    "            break\n",
    "    return l"
   ]
  },
  {
   "cell_type": "code",
   "execution_count": 24,
   "id": "809e3695",
   "metadata": {
    "execution": {
     "iopub.execute_input": "2022-08-24T12:18:07.632116Z",
     "iopub.status.busy": "2022-08-24T12:18:07.631611Z",
     "iopub.status.idle": "2022-08-24T12:18:11.542617Z",
     "shell.execute_reply": "2022-08-24T12:18:11.541283Z"
    },
    "papermill": {
     "duration": 3.932681,
     "end_time": "2022-08-24T12:18:11.546179",
     "exception": false,
     "start_time": "2022-08-24T12:18:07.613498",
     "status": "completed"
    },
    "tags": []
   },
   "outputs": [],
   "source": [
    "#get director of each movie\n",
    "movies['crew']=movies['crew'].apply(fetch_director)"
   ]
  },
  {
   "cell_type": "code",
   "execution_count": 25,
   "id": "54090209",
   "metadata": {
    "execution": {
     "iopub.execute_input": "2022-08-24T12:18:11.579907Z",
     "iopub.status.busy": "2022-08-24T12:18:11.579519Z",
     "iopub.status.idle": "2022-08-24T12:18:11.586679Z",
     "shell.execute_reply": "2022-08-24T12:18:11.585407Z"
    },
    "papermill": {
     "duration": 0.027088,
     "end_time": "2022-08-24T12:18:11.589136",
     "exception": false,
     "start_time": "2022-08-24T12:18:11.562048",
     "status": "completed"
    },
    "tags": []
   },
   "outputs": [
    {
     "data": {
      "text/plain": [
       "'In the 22nd century, a paraplegic Marine is dispatched to the moon Pandora on a unique mission, but becomes torn between following orders and protecting an alien civilization.'"
      ]
     },
     "execution_count": 25,
     "metadata": {},
     "output_type": "execute_result"
    }
   ],
   "source": [
    "movies['overview'][0]"
   ]
  },
  {
   "cell_type": "code",
   "execution_count": 26,
   "id": "1401b052",
   "metadata": {
    "execution": {
     "iopub.execute_input": "2022-08-24T12:18:11.622484Z",
     "iopub.status.busy": "2022-08-24T12:18:11.622052Z",
     "iopub.status.idle": "2022-08-24T12:18:11.662192Z",
     "shell.execute_reply": "2022-08-24T12:18:11.660547Z"
    },
    "papermill": {
     "duration": 0.060673,
     "end_time": "2022-08-24T12:18:11.665299",
     "exception": false,
     "start_time": "2022-08-24T12:18:11.604626",
     "status": "completed"
    },
    "tags": []
   },
   "outputs": [],
   "source": [
    "# Convert every word in overview into list \n",
    "movies['overview']=movies['overview'].apply(lambda x: x.split(' '))"
   ]
  },
  {
   "cell_type": "code",
   "execution_count": 27,
   "id": "948ac861",
   "metadata": {
    "execution": {
     "iopub.execute_input": "2022-08-24T12:18:11.699222Z",
     "iopub.status.busy": "2022-08-24T12:18:11.698815Z",
     "iopub.status.idle": "2022-08-24T12:18:11.749746Z",
     "shell.execute_reply": "2022-08-24T12:18:11.748534Z"
    },
    "papermill": {
     "duration": 0.071251,
     "end_time": "2022-08-24T12:18:11.752630",
     "exception": false,
     "start_time": "2022-08-24T12:18:11.681379",
     "status": "completed"
    },
    "tags": []
   },
   "outputs": [],
   "source": [
    "#Remove all spaces. Ex: change Sam Worthington to SamWorthington\n",
    "movies['genres']=movies['genres'].apply(lambda x: [i.replace(' ','') for i in x] )\n",
    "movies['keywords']=movies['keywords'].apply(lambda x: [i.replace(' ','') for i in x] )\n",
    "movies['cast']=movies['cast'].apply(lambda x: [i.replace(' ','') for i in x] )\n",
    "movies['crew']=movies['crew'].apply(lambda x: [i.replace(' ','') for i in x] )"
   ]
  },
  {
   "cell_type": "code",
   "execution_count": 28,
   "id": "0303c243",
   "metadata": {
    "execution": {
     "iopub.execute_input": "2022-08-24T12:18:11.786489Z",
     "iopub.status.busy": "2022-08-24T12:18:11.786009Z",
     "iopub.status.idle": "2022-08-24T12:18:11.823639Z",
     "shell.execute_reply": "2022-08-24T12:18:11.822503Z"
    },
    "papermill": {
     "duration": 0.057516,
     "end_time": "2022-08-24T12:18:11.826093",
     "exception": false,
     "start_time": "2022-08-24T12:18:11.768577",
     "status": "completed"
    },
    "tags": []
   },
   "outputs": [
    {
     "data": {
      "text/html": [
       "<div>\n",
       "<style scoped>\n",
       "    .dataframe tbody tr th:only-of-type {\n",
       "        vertical-align: middle;\n",
       "    }\n",
       "\n",
       "    .dataframe tbody tr th {\n",
       "        vertical-align: top;\n",
       "    }\n",
       "\n",
       "    .dataframe thead th {\n",
       "        text-align: right;\n",
       "    }\n",
       "</style>\n",
       "<table border=\"1\" class=\"dataframe\">\n",
       "  <thead>\n",
       "    <tr style=\"text-align: right;\">\n",
       "      <th></th>\n",
       "      <th>id</th>\n",
       "      <th>genres</th>\n",
       "      <th>keywords</th>\n",
       "      <th>overview</th>\n",
       "      <th>title</th>\n",
       "      <th>cast</th>\n",
       "      <th>crew</th>\n",
       "    </tr>\n",
       "  </thead>\n",
       "  <tbody>\n",
       "    <tr>\n",
       "      <th>0</th>\n",
       "      <td>19995</td>\n",
       "      <td>[Action, Adventure, Fantasy, ScienceFiction]</td>\n",
       "      <td>[cultureclash, future, spacewar, spacecolony, ...</td>\n",
       "      <td>[In, the, 22nd, century,, a, paraplegic, Marin...</td>\n",
       "      <td>Avatar</td>\n",
       "      <td>[SamWorthington, ZoeSaldana, SigourneyWeaver]</td>\n",
       "      <td>[JamesCameron]</td>\n",
       "    </tr>\n",
       "    <tr>\n",
       "      <th>1</th>\n",
       "      <td>285</td>\n",
       "      <td>[Adventure, Fantasy, Action]</td>\n",
       "      <td>[ocean, drugabuse, exoticisland, eastindiatrad...</td>\n",
       "      <td>[Captain, Barbossa,, long, believed, to, be, d...</td>\n",
       "      <td>Pirates of the Caribbean: At World's End</td>\n",
       "      <td>[JohnnyDepp, OrlandoBloom, KeiraKnightley]</td>\n",
       "      <td>[GoreVerbinski]</td>\n",
       "    </tr>\n",
       "    <tr>\n",
       "      <th>2</th>\n",
       "      <td>206647</td>\n",
       "      <td>[Action, Adventure, Crime]</td>\n",
       "      <td>[spy, basedonnovel, secretagent, sequel, mi6, ...</td>\n",
       "      <td>[A, cryptic, message, from, Bond’s, past, send...</td>\n",
       "      <td>Spectre</td>\n",
       "      <td>[DanielCraig, ChristophWaltz, LéaSeydoux]</td>\n",
       "      <td>[SamMendes]</td>\n",
       "    </tr>\n",
       "    <tr>\n",
       "      <th>3</th>\n",
       "      <td>49026</td>\n",
       "      <td>[Action, Crime, Drama, Thriller]</td>\n",
       "      <td>[dccomics, crimefighter, terrorist, secretiden...</td>\n",
       "      <td>[Following, the, death, of, District, Attorney...</td>\n",
       "      <td>The Dark Knight Rises</td>\n",
       "      <td>[ChristianBale, MichaelCaine, GaryOldman]</td>\n",
       "      <td>[ChristopherNolan]</td>\n",
       "    </tr>\n",
       "    <tr>\n",
       "      <th>4</th>\n",
       "      <td>49529</td>\n",
       "      <td>[Action, Adventure, ScienceFiction]</td>\n",
       "      <td>[basedonnovel, mars, medallion, spacetravel, p...</td>\n",
       "      <td>[John, Carter, is, a, war-weary,, former, mili...</td>\n",
       "      <td>John Carter</td>\n",
       "      <td>[TaylorKitsch, LynnCollins, SamanthaMorton]</td>\n",
       "      <td>[AndrewStanton]</td>\n",
       "    </tr>\n",
       "    <tr>\n",
       "      <th>...</th>\n",
       "      <td>...</td>\n",
       "      <td>...</td>\n",
       "      <td>...</td>\n",
       "      <td>...</td>\n",
       "      <td>...</td>\n",
       "      <td>...</td>\n",
       "      <td>...</td>\n",
       "    </tr>\n",
       "    <tr>\n",
       "      <th>4804</th>\n",
       "      <td>9367</td>\n",
       "      <td>[Action, Crime, Thriller]</td>\n",
       "      <td>[unitedstates–mexicobarrier, legs, arms, paper...</td>\n",
       "      <td>[El, Mariachi, just, wants, to, play, his, gui...</td>\n",
       "      <td>El Mariachi</td>\n",
       "      <td>[CarlosGallardo, JaimedeHoyos, PeterMarquardt]</td>\n",
       "      <td>[RobertRodriguez]</td>\n",
       "    </tr>\n",
       "    <tr>\n",
       "      <th>4805</th>\n",
       "      <td>72766</td>\n",
       "      <td>[Comedy, Romance]</td>\n",
       "      <td>[]</td>\n",
       "      <td>[A, newlywed, couple's, honeymoon, is, upended...</td>\n",
       "      <td>Newlyweds</td>\n",
       "      <td>[EdwardBurns, KerryBishé, MarshaDietlein]</td>\n",
       "      <td>[EdwardBurns]</td>\n",
       "    </tr>\n",
       "    <tr>\n",
       "      <th>4806</th>\n",
       "      <td>231617</td>\n",
       "      <td>[Comedy, Drama, Romance, TVMovie]</td>\n",
       "      <td>[date, loveatfirstsight, narration, investigat...</td>\n",
       "      <td>[\"Signed,, Sealed,, Delivered\", introduces, a,...</td>\n",
       "      <td>Signed, Sealed, Delivered</td>\n",
       "      <td>[EricMabius, KristinBooth, CrystalLowe]</td>\n",
       "      <td>[ScottSmith]</td>\n",
       "    </tr>\n",
       "    <tr>\n",
       "      <th>4807</th>\n",
       "      <td>126186</td>\n",
       "      <td>[]</td>\n",
       "      <td>[]</td>\n",
       "      <td>[When, ambitious, New, York, attorney, Sam, is...</td>\n",
       "      <td>Shanghai Calling</td>\n",
       "      <td>[DanielHenney, ElizaCoupe, BillPaxton]</td>\n",
       "      <td>[DanielHsia]</td>\n",
       "    </tr>\n",
       "    <tr>\n",
       "      <th>4808</th>\n",
       "      <td>25975</td>\n",
       "      <td>[Documentary]</td>\n",
       "      <td>[obsession, camcorder, crush, dreamgirl]</td>\n",
       "      <td>[Ever, since, the, second, grade, when, he, fi...</td>\n",
       "      <td>My Date with Drew</td>\n",
       "      <td>[DrewBarrymore, BrianHerzlinger, CoreyFeldman]</td>\n",
       "      <td>[BrianHerzlinger]</td>\n",
       "    </tr>\n",
       "  </tbody>\n",
       "</table>\n",
       "<p>4806 rows × 7 columns</p>\n",
       "</div>"
      ],
      "text/plain": [
       "          id                                        genres  \\\n",
       "0      19995  [Action, Adventure, Fantasy, ScienceFiction]   \n",
       "1        285                  [Adventure, Fantasy, Action]   \n",
       "2     206647                    [Action, Adventure, Crime]   \n",
       "3      49026              [Action, Crime, Drama, Thriller]   \n",
       "4      49529           [Action, Adventure, ScienceFiction]   \n",
       "...      ...                                           ...   \n",
       "4804    9367                     [Action, Crime, Thriller]   \n",
       "4805   72766                             [Comedy, Romance]   \n",
       "4806  231617             [Comedy, Drama, Romance, TVMovie]   \n",
       "4807  126186                                            []   \n",
       "4808   25975                                 [Documentary]   \n",
       "\n",
       "                                               keywords  \\\n",
       "0     [cultureclash, future, spacewar, spacecolony, ...   \n",
       "1     [ocean, drugabuse, exoticisland, eastindiatrad...   \n",
       "2     [spy, basedonnovel, secretagent, sequel, mi6, ...   \n",
       "3     [dccomics, crimefighter, terrorist, secretiden...   \n",
       "4     [basedonnovel, mars, medallion, spacetravel, p...   \n",
       "...                                                 ...   \n",
       "4804  [unitedstates–mexicobarrier, legs, arms, paper...   \n",
       "4805                                                 []   \n",
       "4806  [date, loveatfirstsight, narration, investigat...   \n",
       "4807                                                 []   \n",
       "4808           [obsession, camcorder, crush, dreamgirl]   \n",
       "\n",
       "                                               overview  \\\n",
       "0     [In, the, 22nd, century,, a, paraplegic, Marin...   \n",
       "1     [Captain, Barbossa,, long, believed, to, be, d...   \n",
       "2     [A, cryptic, message, from, Bond’s, past, send...   \n",
       "3     [Following, the, death, of, District, Attorney...   \n",
       "4     [John, Carter, is, a, war-weary,, former, mili...   \n",
       "...                                                 ...   \n",
       "4804  [El, Mariachi, just, wants, to, play, his, gui...   \n",
       "4805  [A, newlywed, couple's, honeymoon, is, upended...   \n",
       "4806  [\"Signed,, Sealed,, Delivered\", introduces, a,...   \n",
       "4807  [When, ambitious, New, York, attorney, Sam, is...   \n",
       "4808  [Ever, since, the, second, grade, when, he, fi...   \n",
       "\n",
       "                                         title  \\\n",
       "0                                       Avatar   \n",
       "1     Pirates of the Caribbean: At World's End   \n",
       "2                                      Spectre   \n",
       "3                        The Dark Knight Rises   \n",
       "4                                  John Carter   \n",
       "...                                        ...   \n",
       "4804                               El Mariachi   \n",
       "4805                                 Newlyweds   \n",
       "4806                 Signed, Sealed, Delivered   \n",
       "4807                          Shanghai Calling   \n",
       "4808                         My Date with Drew   \n",
       "\n",
       "                                                cast                crew  \n",
       "0      [SamWorthington, ZoeSaldana, SigourneyWeaver]      [JamesCameron]  \n",
       "1         [JohnnyDepp, OrlandoBloom, KeiraKnightley]     [GoreVerbinski]  \n",
       "2          [DanielCraig, ChristophWaltz, LéaSeydoux]         [SamMendes]  \n",
       "3          [ChristianBale, MichaelCaine, GaryOldman]  [ChristopherNolan]  \n",
       "4        [TaylorKitsch, LynnCollins, SamanthaMorton]     [AndrewStanton]  \n",
       "...                                              ...                 ...  \n",
       "4804  [CarlosGallardo, JaimedeHoyos, PeterMarquardt]   [RobertRodriguez]  \n",
       "4805       [EdwardBurns, KerryBishé, MarshaDietlein]       [EdwardBurns]  \n",
       "4806         [EricMabius, KristinBooth, CrystalLowe]        [ScottSmith]  \n",
       "4807          [DanielHenney, ElizaCoupe, BillPaxton]        [DanielHsia]  \n",
       "4808  [DrewBarrymore, BrianHerzlinger, CoreyFeldman]   [BrianHerzlinger]  \n",
       "\n",
       "[4806 rows x 7 columns]"
      ]
     },
     "execution_count": 28,
     "metadata": {},
     "output_type": "execute_result"
    }
   ],
   "source": [
    "movies"
   ]
  },
  {
   "cell_type": "code",
   "execution_count": 29,
   "id": "f2339163",
   "metadata": {
    "execution": {
     "iopub.execute_input": "2022-08-24T12:18:11.861843Z",
     "iopub.status.busy": "2022-08-24T12:18:11.861297Z",
     "iopub.status.idle": "2022-08-24T12:18:11.869127Z",
     "shell.execute_reply": "2022-08-24T12:18:11.867727Z"
    },
    "papermill": {
     "duration": 0.028913,
     "end_time": "2022-08-24T12:18:11.871714",
     "exception": false,
     "start_time": "2022-08-24T12:18:11.842801",
     "status": "completed"
    },
    "tags": []
   },
   "outputs": [
    {
     "data": {
      "text/plain": [
       "Index(['id', 'genres', 'keywords', 'overview', 'title', 'cast', 'crew'], dtype='object')"
      ]
     },
     "execution_count": 29,
     "metadata": {},
     "output_type": "execute_result"
    }
   ],
   "source": [
    "movies.columns"
   ]
  },
  {
   "cell_type": "code",
   "execution_count": 30,
   "id": "c95ca076",
   "metadata": {
    "execution": {
     "iopub.execute_input": "2022-08-24T12:18:11.906916Z",
     "iopub.status.busy": "2022-08-24T12:18:11.906471Z",
     "iopub.status.idle": "2022-08-24T12:18:11.979833Z",
     "shell.execute_reply": "2022-08-24T12:18:11.978648Z"
    },
    "papermill": {
     "duration": 0.093572,
     "end_time": "2022-08-24T12:18:11.982133",
     "exception": false,
     "start_time": "2022-08-24T12:18:11.888561",
     "status": "completed"
    },
    "tags": []
   },
   "outputs": [],
   "source": [
    "movies['tags']=movies['overview']+movies['genres']+movies['keywords']+movies['cast']+movies['crew']"
   ]
  },
  {
   "cell_type": "code",
   "execution_count": 31,
   "id": "998909b3",
   "metadata": {
    "execution": {
     "iopub.execute_input": "2022-08-24T12:18:12.019294Z",
     "iopub.status.busy": "2022-08-24T12:18:12.018574Z",
     "iopub.status.idle": "2022-08-24T12:18:12.037110Z",
     "shell.execute_reply": "2022-08-24T12:18:12.036125Z"
    },
    "papermill": {
     "duration": 0.040223,
     "end_time": "2022-08-24T12:18:12.040016",
     "exception": false,
     "start_time": "2022-08-24T12:18:11.999793",
     "status": "completed"
    },
    "tags": []
   },
   "outputs": [
    {
     "data": {
      "text/html": [
       "<div>\n",
       "<style scoped>\n",
       "    .dataframe tbody tr th:only-of-type {\n",
       "        vertical-align: middle;\n",
       "    }\n",
       "\n",
       "    .dataframe tbody tr th {\n",
       "        vertical-align: top;\n",
       "    }\n",
       "\n",
       "    .dataframe thead th {\n",
       "        text-align: right;\n",
       "    }\n",
       "</style>\n",
       "<table border=\"1\" class=\"dataframe\">\n",
       "  <thead>\n",
       "    <tr style=\"text-align: right;\">\n",
       "      <th></th>\n",
       "      <th>id</th>\n",
       "      <th>title</th>\n",
       "      <th>tags</th>\n",
       "    </tr>\n",
       "  </thead>\n",
       "  <tbody>\n",
       "    <tr>\n",
       "      <th>0</th>\n",
       "      <td>19995</td>\n",
       "      <td>Avatar</td>\n",
       "      <td>[In, the, 22nd, century,, a, paraplegic, Marin...</td>\n",
       "    </tr>\n",
       "    <tr>\n",
       "      <th>1</th>\n",
       "      <td>285</td>\n",
       "      <td>Pirates of the Caribbean: At World's End</td>\n",
       "      <td>[Captain, Barbossa,, long, believed, to, be, d...</td>\n",
       "    </tr>\n",
       "    <tr>\n",
       "      <th>2</th>\n",
       "      <td>206647</td>\n",
       "      <td>Spectre</td>\n",
       "      <td>[A, cryptic, message, from, Bond’s, past, send...</td>\n",
       "    </tr>\n",
       "    <tr>\n",
       "      <th>3</th>\n",
       "      <td>49026</td>\n",
       "      <td>The Dark Knight Rises</td>\n",
       "      <td>[Following, the, death, of, District, Attorney...</td>\n",
       "    </tr>\n",
       "    <tr>\n",
       "      <th>4</th>\n",
       "      <td>49529</td>\n",
       "      <td>John Carter</td>\n",
       "      <td>[John, Carter, is, a, war-weary,, former, mili...</td>\n",
       "    </tr>\n",
       "  </tbody>\n",
       "</table>\n",
       "</div>"
      ],
      "text/plain": [
       "       id                                     title  \\\n",
       "0   19995                                    Avatar   \n",
       "1     285  Pirates of the Caribbean: At World's End   \n",
       "2  206647                                   Spectre   \n",
       "3   49026                     The Dark Knight Rises   \n",
       "4   49529                               John Carter   \n",
       "\n",
       "                                                tags  \n",
       "0  [In, the, 22nd, century,, a, paraplegic, Marin...  \n",
       "1  [Captain, Barbossa,, long, believed, to, be, d...  \n",
       "2  [A, cryptic, message, from, Bond’s, past, send...  \n",
       "3  [Following, the, death, of, District, Attorney...  \n",
       "4  [John, Carter, is, a, war-weary,, former, mili...  "
      ]
     },
     "execution_count": 31,
     "metadata": {},
     "output_type": "execute_result"
    }
   ],
   "source": [
    "new_df=movies[['id','title','tags']]\n",
    "new_df.head()"
   ]
  },
  {
   "cell_type": "code",
   "execution_count": 32,
   "id": "210492aa",
   "metadata": {
    "execution": {
     "iopub.execute_input": "2022-08-24T12:18:12.076374Z",
     "iopub.status.busy": "2022-08-24T12:18:12.075871Z",
     "iopub.status.idle": "2022-08-24T12:18:12.098468Z",
     "shell.execute_reply": "2022-08-24T12:18:12.096729Z"
    },
    "papermill": {
     "duration": 0.044471,
     "end_time": "2022-08-24T12:18:12.101195",
     "exception": false,
     "start_time": "2022-08-24T12:18:12.056724",
     "status": "completed"
    },
    "tags": []
   },
   "outputs": [
    {
     "name": "stderr",
     "output_type": "stream",
     "text": [
      "/opt/conda/lib/python3.7/site-packages/ipykernel_launcher.py:1: SettingWithCopyWarning: \n",
      "A value is trying to be set on a copy of a slice from a DataFrame.\n",
      "Try using .loc[row_indexer,col_indexer] = value instead\n",
      "\n",
      "See the caveats in the documentation: https://pandas.pydata.org/pandas-docs/stable/user_guide/indexing.html#returning-a-view-versus-a-copy\n",
      "  \"\"\"Entry point for launching an IPython kernel.\n"
     ]
    }
   ],
   "source": [
    "new_df['tags']=new_df['tags'].apply(lambda x: ' '.join(x))"
   ]
  },
  {
   "cell_type": "code",
   "execution_count": 33,
   "id": "874d73a6",
   "metadata": {
    "execution": {
     "iopub.execute_input": "2022-08-24T12:18:12.137177Z",
     "iopub.status.busy": "2022-08-24T12:18:12.136290Z",
     "iopub.status.idle": "2022-08-24T12:18:12.153551Z",
     "shell.execute_reply": "2022-08-24T12:18:12.152588Z"
    },
    "papermill": {
     "duration": 0.038774,
     "end_time": "2022-08-24T12:18:12.156818",
     "exception": false,
     "start_time": "2022-08-24T12:18:12.118044",
     "status": "completed"
    },
    "tags": []
   },
   "outputs": [
    {
     "name": "stderr",
     "output_type": "stream",
     "text": [
      "/opt/conda/lib/python3.7/site-packages/ipykernel_launcher.py:2: SettingWithCopyWarning: \n",
      "A value is trying to be set on a copy of a slice from a DataFrame.\n",
      "Try using .loc[row_indexer,col_indexer] = value instead\n",
      "\n",
      "See the caveats in the documentation: https://pandas.pydata.org/pandas-docs/stable/user_guide/indexing.html#returning-a-view-versus-a-copy\n",
      "  \n"
     ]
    }
   ],
   "source": [
    "#Convert text to lower cap\n",
    "new_df['tags']=new_df['tags'].apply(lambda x : x.lower())"
   ]
  },
  {
   "cell_type": "code",
   "execution_count": 34,
   "id": "f24b2e2e",
   "metadata": {
    "execution": {
     "iopub.execute_input": "2022-08-24T12:18:12.193451Z",
     "iopub.status.busy": "2022-08-24T12:18:12.192657Z",
     "iopub.status.idle": "2022-08-24T12:18:12.206088Z",
     "shell.execute_reply": "2022-08-24T12:18:12.204840Z"
    },
    "papermill": {
     "duration": 0.035288,
     "end_time": "2022-08-24T12:18:12.209158",
     "exception": false,
     "start_time": "2022-08-24T12:18:12.173870",
     "status": "completed"
    },
    "tags": []
   },
   "outputs": [
    {
     "data": {
      "text/html": [
       "<div>\n",
       "<style scoped>\n",
       "    .dataframe tbody tr th:only-of-type {\n",
       "        vertical-align: middle;\n",
       "    }\n",
       "\n",
       "    .dataframe tbody tr th {\n",
       "        vertical-align: top;\n",
       "    }\n",
       "\n",
       "    .dataframe thead th {\n",
       "        text-align: right;\n",
       "    }\n",
       "</style>\n",
       "<table border=\"1\" class=\"dataframe\">\n",
       "  <thead>\n",
       "    <tr style=\"text-align: right;\">\n",
       "      <th></th>\n",
       "      <th>id</th>\n",
       "      <th>title</th>\n",
       "      <th>tags</th>\n",
       "    </tr>\n",
       "  </thead>\n",
       "  <tbody>\n",
       "    <tr>\n",
       "      <th>0</th>\n",
       "      <td>19995</td>\n",
       "      <td>Avatar</td>\n",
       "      <td>in the 22nd century, a paraplegic marine is di...</td>\n",
       "    </tr>\n",
       "    <tr>\n",
       "      <th>1</th>\n",
       "      <td>285</td>\n",
       "      <td>Pirates of the Caribbean: At World's End</td>\n",
       "      <td>captain barbossa, long believed to be dead, ha...</td>\n",
       "    </tr>\n",
       "    <tr>\n",
       "      <th>2</th>\n",
       "      <td>206647</td>\n",
       "      <td>Spectre</td>\n",
       "      <td>a cryptic message from bond’s past sends him o...</td>\n",
       "    </tr>\n",
       "    <tr>\n",
       "      <th>3</th>\n",
       "      <td>49026</td>\n",
       "      <td>The Dark Knight Rises</td>\n",
       "      <td>following the death of district attorney harve...</td>\n",
       "    </tr>\n",
       "    <tr>\n",
       "      <th>4</th>\n",
       "      <td>49529</td>\n",
       "      <td>John Carter</td>\n",
       "      <td>john carter is a war-weary, former military ca...</td>\n",
       "    </tr>\n",
       "    <tr>\n",
       "      <th>...</th>\n",
       "      <td>...</td>\n",
       "      <td>...</td>\n",
       "      <td>...</td>\n",
       "    </tr>\n",
       "    <tr>\n",
       "      <th>4804</th>\n",
       "      <td>9367</td>\n",
       "      <td>El Mariachi</td>\n",
       "      <td>el mariachi just wants to play his guitar and ...</td>\n",
       "    </tr>\n",
       "    <tr>\n",
       "      <th>4805</th>\n",
       "      <td>72766</td>\n",
       "      <td>Newlyweds</td>\n",
       "      <td>a newlywed couple's honeymoon is upended by th...</td>\n",
       "    </tr>\n",
       "    <tr>\n",
       "      <th>4806</th>\n",
       "      <td>231617</td>\n",
       "      <td>Signed, Sealed, Delivered</td>\n",
       "      <td>\"signed, sealed, delivered\" introduces a dedic...</td>\n",
       "    </tr>\n",
       "    <tr>\n",
       "      <th>4807</th>\n",
       "      <td>126186</td>\n",
       "      <td>Shanghai Calling</td>\n",
       "      <td>when ambitious new york attorney sam is sent t...</td>\n",
       "    </tr>\n",
       "    <tr>\n",
       "      <th>4808</th>\n",
       "      <td>25975</td>\n",
       "      <td>My Date with Drew</td>\n",
       "      <td>ever since the second grade when he first saw ...</td>\n",
       "    </tr>\n",
       "  </tbody>\n",
       "</table>\n",
       "<p>4806 rows × 3 columns</p>\n",
       "</div>"
      ],
      "text/plain": [
       "          id                                     title  \\\n",
       "0      19995                                    Avatar   \n",
       "1        285  Pirates of the Caribbean: At World's End   \n",
       "2     206647                                   Spectre   \n",
       "3      49026                     The Dark Knight Rises   \n",
       "4      49529                               John Carter   \n",
       "...      ...                                       ...   \n",
       "4804    9367                               El Mariachi   \n",
       "4805   72766                                 Newlyweds   \n",
       "4806  231617                 Signed, Sealed, Delivered   \n",
       "4807  126186                          Shanghai Calling   \n",
       "4808   25975                         My Date with Drew   \n",
       "\n",
       "                                                   tags  \n",
       "0     in the 22nd century, a paraplegic marine is di...  \n",
       "1     captain barbossa, long believed to be dead, ha...  \n",
       "2     a cryptic message from bond’s past sends him o...  \n",
       "3     following the death of district attorney harve...  \n",
       "4     john carter is a war-weary, former military ca...  \n",
       "...                                                 ...  \n",
       "4804  el mariachi just wants to play his guitar and ...  \n",
       "4805  a newlywed couple's honeymoon is upended by th...  \n",
       "4806  \"signed, sealed, delivered\" introduces a dedic...  \n",
       "4807  when ambitious new york attorney sam is sent t...  \n",
       "4808  ever since the second grade when he first saw ...  \n",
       "\n",
       "[4806 rows x 3 columns]"
      ]
     },
     "execution_count": 34,
     "metadata": {},
     "output_type": "execute_result"
    }
   ],
   "source": [
    "new_df"
   ]
  },
  {
   "cell_type": "markdown",
   "id": "690f78eb",
   "metadata": {
    "papermill": {
     "duration": 0.016544,
     "end_time": "2022-08-24T12:18:12.242833",
     "exception": false,
     "start_time": "2022-08-24T12:18:12.226289",
     "status": "completed"
    },
    "tags": []
   },
   "source": [
    "# Bag-of-Words Model\n",
    "First we will use stemmin. If there are words like love,lovely,loved then stemmin changes them to love which removes duplicates.\n",
    "<br>\n",
    "The bag of words model is simple in that it throws away all of the order information in the words and focuses on the occurrence of words in a document.<br>\n",
    "In short we will look at all the words in tags column and choose 5000 most frequently occuring words.\n",
    "<br>\n",
    "We will also eliminate stop words such as in,the,an,a,to,etc\n",
    "<br>\n",
    "We will convert it to vectors and see which vectors are closest to one another for recommendation."
   ]
  },
  {
   "cell_type": "code",
   "execution_count": 35,
   "id": "05570d11",
   "metadata": {
    "execution": {
     "iopub.execute_input": "2022-08-24T12:18:12.280261Z",
     "iopub.status.busy": "2022-08-24T12:18:12.279832Z",
     "iopub.status.idle": "2022-08-24T12:18:14.368446Z",
     "shell.execute_reply": "2022-08-24T12:18:14.367142Z"
    },
    "papermill": {
     "duration": 2.111796,
     "end_time": "2022-08-24T12:18:14.371888",
     "exception": false,
     "start_time": "2022-08-24T12:18:12.260092",
     "status": "completed"
    },
    "tags": []
   },
   "outputs": [],
   "source": [
    "from nltk.stem.porter import PorterStemmer\n",
    "ps=PorterStemmer()"
   ]
  },
  {
   "cell_type": "code",
   "execution_count": 36,
   "id": "03241c25",
   "metadata": {
    "execution": {
     "iopub.execute_input": "2022-08-24T12:18:14.410523Z",
     "iopub.status.busy": "2022-08-24T12:18:14.410025Z",
     "iopub.status.idle": "2022-08-24T12:18:14.415992Z",
     "shell.execute_reply": "2022-08-24T12:18:14.414712Z"
    },
    "papermill": {
     "duration": 0.028923,
     "end_time": "2022-08-24T12:18:14.418586",
     "exception": false,
     "start_time": "2022-08-24T12:18:14.389663",
     "status": "completed"
    },
    "tags": []
   },
   "outputs": [],
   "source": [
    "#use stem on each word\n",
    "def stem(text):\n",
    "    l=[]\n",
    "    for i in text.split():\n",
    "        l.append(ps.stem(i))\n",
    "    \n",
    "    return ' '.join(l)"
   ]
  },
  {
   "cell_type": "code",
   "execution_count": 37,
   "id": "87bf586f",
   "metadata": {
    "execution": {
     "iopub.execute_input": "2022-08-24T12:18:14.455268Z",
     "iopub.status.busy": "2022-08-24T12:18:14.454832Z",
     "iopub.status.idle": "2022-08-24T12:18:22.213471Z",
     "shell.execute_reply": "2022-08-24T12:18:22.212122Z"
    },
    "papermill": {
     "duration": 7.781828,
     "end_time": "2022-08-24T12:18:22.217719",
     "exception": false,
     "start_time": "2022-08-24T12:18:14.435891",
     "status": "completed"
    },
    "tags": []
   },
   "outputs": [
    {
     "name": "stderr",
     "output_type": "stream",
     "text": [
      "/opt/conda/lib/python3.7/site-packages/ipykernel_launcher.py:1: SettingWithCopyWarning: \n",
      "A value is trying to be set on a copy of a slice from a DataFrame.\n",
      "Try using .loc[row_indexer,col_indexer] = value instead\n",
      "\n",
      "See the caveats in the documentation: https://pandas.pydata.org/pandas-docs/stable/user_guide/indexing.html#returning-a-view-versus-a-copy\n",
      "  \"\"\"Entry point for launching an IPython kernel.\n"
     ]
    }
   ],
   "source": [
    "new_df['tags']=new_df['tags'].apply(stem)"
   ]
  },
  {
   "cell_type": "markdown",
   "id": "75da1a5c",
   "metadata": {
    "papermill": {
     "duration": 0.017298,
     "end_time": "2022-08-24T12:18:22.254210",
     "exception": false,
     "start_time": "2022-08-24T12:18:22.236912",
     "status": "completed"
    },
    "tags": []
   },
   "source": [
    "### Index 2662 and 4146 are missing, below code removes them somehow"
   ]
  },
  {
   "cell_type": "code",
   "execution_count": 38,
   "id": "e009ce3f",
   "metadata": {
    "execution": {
     "iopub.execute_input": "2022-08-24T12:18:22.291928Z",
     "iopub.status.busy": "2022-08-24T12:18:22.291125Z",
     "iopub.status.idle": "2022-08-24T12:18:22.307767Z",
     "shell.execute_reply": "2022-08-24T12:18:22.306286Z"
    },
    "papermill": {
     "duration": 0.038588,
     "end_time": "2022-08-24T12:18:22.310622",
     "exception": false,
     "start_time": "2022-08-24T12:18:22.272034",
     "status": "completed"
    },
    "tags": []
   },
   "outputs": [
    {
     "data": {
      "text/html": [
       "<div>\n",
       "<style scoped>\n",
       "    .dataframe tbody tr th:only-of-type {\n",
       "        vertical-align: middle;\n",
       "    }\n",
       "\n",
       "    .dataframe tbody tr th {\n",
       "        vertical-align: top;\n",
       "    }\n",
       "\n",
       "    .dataframe thead th {\n",
       "        text-align: right;\n",
       "    }\n",
       "</style>\n",
       "<table border=\"1\" class=\"dataframe\">\n",
       "  <thead>\n",
       "    <tr style=\"text-align: right;\">\n",
       "      <th></th>\n",
       "      <th>id</th>\n",
       "      <th>title</th>\n",
       "      <th>tags</th>\n",
       "    </tr>\n",
       "  </thead>\n",
       "  <tbody>\n",
       "    <tr>\n",
       "      <th>0</th>\n",
       "      <td>19995</td>\n",
       "      <td>Avatar</td>\n",
       "      <td>in the 22nd century, a parapleg marin is dispa...</td>\n",
       "    </tr>\n",
       "    <tr>\n",
       "      <th>1</th>\n",
       "      <td>285</td>\n",
       "      <td>Pirates of the Caribbean: At World's End</td>\n",
       "      <td>captain barbossa, long believ to be dead, ha c...</td>\n",
       "    </tr>\n",
       "    <tr>\n",
       "      <th>2</th>\n",
       "      <td>206647</td>\n",
       "      <td>Spectre</td>\n",
       "      <td>a cryptic messag from bond’ past send him on a...</td>\n",
       "    </tr>\n",
       "    <tr>\n",
       "      <th>3</th>\n",
       "      <td>49026</td>\n",
       "      <td>The Dark Knight Rises</td>\n",
       "      <td>follow the death of district attorney harvey d...</td>\n",
       "    </tr>\n",
       "    <tr>\n",
       "      <th>4</th>\n",
       "      <td>49529</td>\n",
       "      <td>John Carter</td>\n",
       "      <td>john carter is a war-weary, former militari ca...</td>\n",
       "    </tr>\n",
       "    <tr>\n",
       "      <th>...</th>\n",
       "      <td>...</td>\n",
       "      <td>...</td>\n",
       "      <td>...</td>\n",
       "    </tr>\n",
       "    <tr>\n",
       "      <th>4801</th>\n",
       "      <td>9367</td>\n",
       "      <td>El Mariachi</td>\n",
       "      <td>el mariachi just want to play hi guitar and ca...</td>\n",
       "    </tr>\n",
       "    <tr>\n",
       "      <th>4802</th>\n",
       "      <td>72766</td>\n",
       "      <td>Newlyweds</td>\n",
       "      <td>a newlyw couple' honeymoon is upend by the arr...</td>\n",
       "    </tr>\n",
       "    <tr>\n",
       "      <th>4803</th>\n",
       "      <td>231617</td>\n",
       "      <td>Signed, Sealed, Delivered</td>\n",
       "      <td>\"signed, sealed, delivered\" introduc a dedic q...</td>\n",
       "    </tr>\n",
       "    <tr>\n",
       "      <th>4804</th>\n",
       "      <td>126186</td>\n",
       "      <td>Shanghai Calling</td>\n",
       "      <td>when ambiti new york attorney sam is sent to s...</td>\n",
       "    </tr>\n",
       "    <tr>\n",
       "      <th>4805</th>\n",
       "      <td>25975</td>\n",
       "      <td>My Date with Drew</td>\n",
       "      <td>ever sinc the second grade when he first saw h...</td>\n",
       "    </tr>\n",
       "  </tbody>\n",
       "</table>\n",
       "<p>4806 rows × 3 columns</p>\n",
       "</div>"
      ],
      "text/plain": [
       "          id                                     title  \\\n",
       "0      19995                                    Avatar   \n",
       "1        285  Pirates of the Caribbean: At World's End   \n",
       "2     206647                                   Spectre   \n",
       "3      49026                     The Dark Knight Rises   \n",
       "4      49529                               John Carter   \n",
       "...      ...                                       ...   \n",
       "4801    9367                               El Mariachi   \n",
       "4802   72766                                 Newlyweds   \n",
       "4803  231617                 Signed, Sealed, Delivered   \n",
       "4804  126186                          Shanghai Calling   \n",
       "4805   25975                         My Date with Drew   \n",
       "\n",
       "                                                   tags  \n",
       "0     in the 22nd century, a parapleg marin is dispa...  \n",
       "1     captain barbossa, long believ to be dead, ha c...  \n",
       "2     a cryptic messag from bond’ past send him on a...  \n",
       "3     follow the death of district attorney harvey d...  \n",
       "4     john carter is a war-weary, former militari ca...  \n",
       "...                                                 ...  \n",
       "4801  el mariachi just want to play hi guitar and ca...  \n",
       "4802  a newlyw couple' honeymoon is upend by the arr...  \n",
       "4803  \"signed, sealed, delivered\" introduc a dedic q...  \n",
       "4804  when ambiti new york attorney sam is sent to s...  \n",
       "4805  ever sinc the second grade when he first saw h...  \n",
       "\n",
       "[4806 rows x 3 columns]"
      ]
     },
     "execution_count": 38,
     "metadata": {},
     "output_type": "execute_result"
    }
   ],
   "source": [
    "new_df=pd.concat([new_df.iloc[:2662],new_df.iloc[2662:4146],new_df.iloc[4146:]],ignore_index=True)\n",
    "new_df"
   ]
  },
  {
   "cell_type": "code",
   "execution_count": 39,
   "id": "9ccf9a5c",
   "metadata": {
    "execution": {
     "iopub.execute_input": "2022-08-24T12:18:22.349152Z",
     "iopub.status.busy": "2022-08-24T12:18:22.348731Z",
     "iopub.status.idle": "2022-08-24T12:18:22.863854Z",
     "shell.execute_reply": "2022-08-24T12:18:22.862455Z"
    },
    "papermill": {
     "duration": 0.539398,
     "end_time": "2022-08-24T12:18:22.867584",
     "exception": false,
     "start_time": "2022-08-24T12:18:22.328186",
     "status": "completed"
    },
    "tags": []
   },
   "outputs": [],
   "source": [
    "from sklearn.feature_extraction.text import CountVectorizer\n",
    "\n",
    "#Get most frequently used 5000 words and remove stop words\n",
    "cv=CountVectorizer(max_features=5000,stop_words='english')\n",
    "vectors=cv.fit_transform(new_df['tags']).toarray()"
   ]
  },
  {
   "cell_type": "code",
   "execution_count": 40,
   "id": "112edeb1",
   "metadata": {
    "execution": {
     "iopub.execute_input": "2022-08-24T12:18:22.905770Z",
     "iopub.status.busy": "2022-08-24T12:18:22.904975Z",
     "iopub.status.idle": "2022-08-24T12:18:22.913018Z",
     "shell.execute_reply": "2022-08-24T12:18:22.911813Z"
    },
    "papermill": {
     "duration": 0.030376,
     "end_time": "2022-08-24T12:18:22.915934",
     "exception": false,
     "start_time": "2022-08-24T12:18:22.885558",
     "status": "completed"
    },
    "tags": []
   },
   "outputs": [
    {
     "data": {
      "text/plain": [
       "array([[0, 0, 0, ..., 0, 0, 0],\n",
       "       [0, 0, 0, ..., 0, 0, 0],\n",
       "       [0, 0, 0, ..., 0, 0, 0],\n",
       "       ...,\n",
       "       [0, 0, 0, ..., 0, 0, 0],\n",
       "       [0, 0, 0, ..., 0, 0, 0],\n",
       "       [0, 0, 0, ..., 0, 0, 0]])"
      ]
     },
     "execution_count": 40,
     "metadata": {},
     "output_type": "execute_result"
    }
   ],
   "source": [
    "vectors"
   ]
  },
  {
   "cell_type": "code",
   "execution_count": 41,
   "id": "8b4e89d9",
   "metadata": {
    "execution": {
     "iopub.execute_input": "2022-08-24T12:18:22.954474Z",
     "iopub.status.busy": "2022-08-24T12:18:22.953978Z",
     "iopub.status.idle": "2022-08-24T12:18:22.961088Z",
     "shell.execute_reply": "2022-08-24T12:18:22.959903Z"
    },
    "papermill": {
     "duration": 0.029542,
     "end_time": "2022-08-24T12:18:22.963461",
     "exception": false,
     "start_time": "2022-08-24T12:18:22.933919",
     "status": "completed"
    },
    "tags": []
   },
   "outputs": [
    {
     "data": {
      "text/plain": [
       "(4806, 5000)"
      ]
     },
     "execution_count": 41,
     "metadata": {},
     "output_type": "execute_result"
    }
   ],
   "source": [
    "vectors.shape"
   ]
  },
  {
   "cell_type": "markdown",
   "id": "df47b558",
   "metadata": {
    "papermill": {
     "duration": 0.017212,
     "end_time": "2022-08-24T12:18:22.998729",
     "exception": false,
     "start_time": "2022-08-24T12:18:22.981517",
     "status": "completed"
    },
    "tags": []
   },
   "source": [
    "### Now we have to find similarity between these vectors.\n",
    "We will not use Eucledian distance as it fails as dimension gets higher.\n",
    "<br>\n",
    "So we will use cosine distance which measures the angle between vectors"
   ]
  },
  {
   "cell_type": "code",
   "execution_count": 42,
   "id": "ee1804d1",
   "metadata": {
    "execution": {
     "iopub.execute_input": "2022-08-24T12:18:23.035927Z",
     "iopub.status.busy": "2022-08-24T12:18:23.035334Z",
     "iopub.status.idle": "2022-08-24T12:18:25.456435Z",
     "shell.execute_reply": "2022-08-24T12:18:25.455069Z"
    },
    "papermill": {
     "duration": 2.443183,
     "end_time": "2022-08-24T12:18:25.459236",
     "exception": false,
     "start_time": "2022-08-24T12:18:23.016053",
     "status": "completed"
    },
    "tags": []
   },
   "outputs": [],
   "source": [
    "from sklearn.metrics.pairwise import cosine_similarity\n",
    "\n",
    "#cosine_similarity is measure of similarity between 0 and 1 with 1 being most similar and 0 being not similar at all\n",
    "#this will be matrix showing distance between each movie to all other movies\n",
    "similarity=cosine_similarity(vectors)"
   ]
  },
  {
   "cell_type": "code",
   "execution_count": 43,
   "id": "e531c73b",
   "metadata": {
    "execution": {
     "iopub.execute_input": "2022-08-24T12:18:25.496011Z",
     "iopub.status.busy": "2022-08-24T12:18:25.494987Z",
     "iopub.status.idle": "2022-08-24T12:18:25.504327Z",
     "shell.execute_reply": "2022-08-24T12:18:25.503155Z"
    },
    "papermill": {
     "duration": 0.030531,
     "end_time": "2022-08-24T12:18:25.506989",
     "exception": false,
     "start_time": "2022-08-24T12:18:25.476458",
     "status": "completed"
    },
    "tags": []
   },
   "outputs": [
    {
     "data": {
      "text/plain": [
       "array([[1.        , 0.08346223, 0.0860309 , ..., 0.04499213, 0.        ,\n",
       "        0.        ],\n",
       "       [0.08346223, 1.        , 0.06063391, ..., 0.02378257, 0.        ,\n",
       "        0.02615329],\n",
       "       [0.0860309 , 0.06063391, 1.        , ..., 0.02451452, 0.        ,\n",
       "        0.        ],\n",
       "       ...,\n",
       "       [0.04499213, 0.02378257, 0.02451452, ..., 1.        , 0.03962144,\n",
       "        0.04229549],\n",
       "       [0.        , 0.        , 0.        , ..., 0.03962144, 1.        ,\n",
       "        0.08714204],\n",
       "       [0.        , 0.02615329, 0.        , ..., 0.04229549, 0.08714204,\n",
       "        1.        ]])"
      ]
     },
     "execution_count": 43,
     "metadata": {},
     "output_type": "execute_result"
    }
   ],
   "source": [
    "similarity"
   ]
  },
  {
   "cell_type": "code",
   "execution_count": 44,
   "id": "77ee1f9d",
   "metadata": {
    "execution": {
     "iopub.execute_input": "2022-08-24T12:18:25.545261Z",
     "iopub.status.busy": "2022-08-24T12:18:25.544525Z",
     "iopub.status.idle": "2022-08-24T12:18:25.551933Z",
     "shell.execute_reply": "2022-08-24T12:18:25.551014Z"
    },
    "papermill": {
     "duration": 0.030014,
     "end_time": "2022-08-24T12:18:25.554625",
     "exception": false,
     "start_time": "2022-08-24T12:18:25.524611",
     "status": "completed"
    },
    "tags": []
   },
   "outputs": [],
   "source": [
    "# Now for each movie, sort ratings for all movies\n",
    "#remember each row and each col is index of movie, so for movie i you cant sort directly as after sorting you cant tell index of movie\n",
    "\n",
    "def recommend(movie,similarity):\n",
    "    #get movie index\n",
    "    movie_index=new_df[new_df['title']==movie].index[0]\n",
    "    #print(movie_index)\n",
    "    #find distance to other movies\n",
    "    distance_to_other_movies=similarity[movie_index]\n",
    "    #sort distances and get top 5 similar movies\n",
    "    similar_movie_list=sorted(list(enumerate(distance_to_other_movies)),reverse=True,key=lambda x: x[1])[1:6]\n",
    "    \n",
    "    #sort distances and get all similar movies\n",
    "    #similar_movie_list=sorted(list(enumerate(distance_to_other_movies)),reverse=True,key=lambda x: x[1])\n",
    "    \n",
    "    #print(similar_movie_list)\n",
    "    similar_movies,similar_movies_index=[],[]\n",
    "    for i in similar_movie_list:\n",
    "        #Get title\n",
    "        similar_movies.append(new_df['title'].iloc[i[0]])\n",
    "        \n",
    "        #Get index\n",
    "        similar_movies_index.append(i[0])\n",
    "        \n",
    "        \n",
    "        #print(new_df['title'].iloc[i[0]])\n",
    "    return similar_movies,similar_movies_index"
   ]
  },
  {
   "cell_type": "code",
   "execution_count": 45,
   "id": "314d19aa",
   "metadata": {
    "execution": {
     "iopub.execute_input": "2022-08-24T12:18:25.593107Z",
     "iopub.status.busy": "2022-08-24T12:18:25.592339Z",
     "iopub.status.idle": "2022-08-24T12:18:25.605139Z",
     "shell.execute_reply": "2022-08-24T12:18:25.603697Z"
    },
    "papermill": {
     "duration": 0.035438,
     "end_time": "2022-08-24T12:18:25.608080",
     "exception": false,
     "start_time": "2022-08-24T12:18:25.572642",
     "status": "completed"
    },
    "tags": []
   },
   "outputs": [
    {
     "data": {
      "text/plain": [
       "['Harry Potter and the Order of the Phoenix',\n",
       " 'Harry Potter and the Prisoner of Azkaban',\n",
       " \"Harry Potter and the Philosopher's Stone\",\n",
       " 'Harry Potter and the Goblet of Fire',\n",
       " 'Harry Potter and the Half-Blood Prince']"
      ]
     },
     "execution_count": 45,
     "metadata": {},
     "output_type": "execute_result"
    }
   ],
   "source": [
    "similar_movies=recommend(\"Harry Potter and the Chamber of Secrets\",similarity)[0]\n",
    "similar_movies"
   ]
  },
  {
   "cell_type": "markdown",
   "id": "c600723b",
   "metadata": {
    "papermill": {
     "duration": 0.017438,
     "end_time": "2022-08-24T12:18:25.643511",
     "exception": false,
     "start_time": "2022-08-24T12:18:25.626073",
     "status": "completed"
    },
    "tags": []
   },
   "source": [
    "### Exporting movie list and similarity between movies in JSON file"
   ]
  },
  {
   "cell_type": "code",
   "execution_count": 46,
   "id": "b8f6be4a",
   "metadata": {
    "execution": {
     "iopub.execute_input": "2022-08-24T12:18:25.682250Z",
     "iopub.status.busy": "2022-08-24T12:18:25.681499Z",
     "iopub.status.idle": "2022-08-24T12:18:25.688495Z",
     "shell.execute_reply": "2022-08-24T12:18:25.687075Z"
    },
    "papermill": {
     "duration": 0.029373,
     "end_time": "2022-08-24T12:18:25.691116",
     "exception": false,
     "start_time": "2022-08-24T12:18:25.661743",
     "status": "completed"
    },
    "tags": []
   },
   "outputs": [
    {
     "data": {
      "text/plain": [
       "array(['Avatar', \"Pirates of the Caribbean: At World's End\", 'Spectre',\n",
       "       ..., 'Signed, Sealed, Delivered', 'Shanghai Calling',\n",
       "       'My Date with Drew'], dtype=object)"
      ]
     },
     "execution_count": 46,
     "metadata": {},
     "output_type": "execute_result"
    }
   ],
   "source": [
    "new_df['title'].values"
   ]
  },
  {
   "cell_type": "code",
   "execution_count": 47,
   "id": "f7f3fb45",
   "metadata": {
    "execution": {
     "iopub.execute_input": "2022-08-24T12:18:25.729717Z",
     "iopub.status.busy": "2022-08-24T12:18:25.729205Z",
     "iopub.status.idle": "2022-08-24T12:18:45.165801Z",
     "shell.execute_reply": "2022-08-24T12:18:45.164588Z"
    },
    "papermill": {
     "duration": 19.459945,
     "end_time": "2022-08-24T12:18:45.169250",
     "exception": false,
     "start_time": "2022-08-24T12:18:25.709305",
     "status": "completed"
    },
    "tags": []
   },
   "outputs": [],
   "source": [
    "movie_dict={}\n",
    "for i,title in enumerate(new_df['title'].values):\n",
    "    #print(title,end='')\n",
    "    movie_dict[i]=recommend(title,similarity)[1]"
   ]
  },
  {
   "cell_type": "code",
   "execution_count": 48,
   "id": "17840702",
   "metadata": {
    "execution": {
     "iopub.execute_input": "2022-08-24T12:18:45.207668Z",
     "iopub.status.busy": "2022-08-24T12:18:45.207020Z",
     "iopub.status.idle": "2022-08-24T12:18:45.252424Z",
     "shell.execute_reply": "2022-08-24T12:18:45.250756Z"
    },
    "papermill": {
     "duration": 0.068842,
     "end_time": "2022-08-24T12:18:45.255934",
     "exception": false,
     "start_time": "2022-08-24T12:18:45.187092",
     "status": "completed"
    },
    "tags": []
   },
   "outputs": [],
   "source": [
    "import json\n",
    "with open('movies_similarity.json', 'w') as fp:\n",
    "    json.dump(movie_dict, fp)"
   ]
  },
  {
   "cell_type": "code",
   "execution_count": 49,
   "id": "f5479471",
   "metadata": {
    "execution": {
     "iopub.execute_input": "2022-08-24T12:18:45.295074Z",
     "iopub.status.busy": "2022-08-24T12:18:45.294602Z",
     "iopub.status.idle": "2022-08-24T12:18:45.301958Z",
     "shell.execute_reply": "2022-08-24T12:18:45.300154Z"
    },
    "papermill": {
     "duration": 0.030304,
     "end_time": "2022-08-24T12:18:45.304747",
     "exception": false,
     "start_time": "2022-08-24T12:18:45.274443",
     "status": "completed"
    },
    "tags": []
   },
   "outputs": [],
   "source": [
    "movies_list={}\n",
    "movies_list['movies']=new_df.title.values.tolist()\n",
    "movies_list['id']=new_df.id.values.tolist()"
   ]
  },
  {
   "cell_type": "code",
   "execution_count": 50,
   "id": "3091d94b",
   "metadata": {
    "execution": {
     "iopub.execute_input": "2022-08-24T12:18:45.343691Z",
     "iopub.status.busy": "2022-08-24T12:18:45.343182Z",
     "iopub.status.idle": "2022-08-24T12:18:45.356007Z",
     "shell.execute_reply": "2022-08-24T12:18:45.355071Z"
    },
    "papermill": {
     "duration": 0.036122,
     "end_time": "2022-08-24T12:18:45.359190",
     "exception": false,
     "start_time": "2022-08-24T12:18:45.323068",
     "status": "completed"
    },
    "tags": []
   },
   "outputs": [],
   "source": [
    "#movies_list\n",
    "with open('movie_list.json', 'w') as fp:\n",
    "    json.dump(movies_list, fp)"
   ]
  },
  {
   "cell_type": "code",
   "execution_count": 51,
   "id": "2405dee2",
   "metadata": {
    "execution": {
     "iopub.execute_input": "2022-08-24T12:18:45.398393Z",
     "iopub.status.busy": "2022-08-24T12:18:45.397005Z",
     "iopub.status.idle": "2022-08-24T12:18:45.402179Z",
     "shell.execute_reply": "2022-08-24T12:18:45.401241Z"
    },
    "papermill": {
     "duration": 0.027566,
     "end_time": "2022-08-24T12:18:45.404789",
     "exception": false,
     "start_time": "2022-08-24T12:18:45.377223",
     "status": "completed"
    },
    "tags": []
   },
   "outputs": [],
   "source": [
    "#n=json.load(open('movies_similarity.json'))\n",
    "#j=json.load(open('movie_list.json'))"
   ]
  },
  {
   "cell_type": "code",
   "execution_count": null,
   "id": "7d986425",
   "metadata": {
    "papermill": {
     "duration": 0.018167,
     "end_time": "2022-08-24T12:18:45.442484",
     "exception": false,
     "start_time": "2022-08-24T12:18:45.424317",
     "status": "completed"
    },
    "tags": []
   },
   "outputs": [],
   "source": []
  }
 ],
 "metadata": {
  "kernelspec": {
   "display_name": "Python 3",
   "language": "python",
   "name": "python3"
  },
  "language_info": {
   "codemirror_mode": {
    "name": "ipython",
    "version": 3
   },
   "file_extension": ".py",
   "mimetype": "text/x-python",
   "name": "python",
   "nbconvert_exporter": "python",
   "pygments_lexer": "ipython3",
   "version": "3.7.12"
  },
  "papermill": {
   "default_parameters": {},
   "duration": 57.683599,
   "end_time": "2022-08-24T12:18:46.488122",
   "environment_variables": {},
   "exception": null,
   "input_path": "__notebook__.ipynb",
   "output_path": "__notebook__.ipynb",
   "parameters": {},
   "start_time": "2022-08-24T12:17:48.804523",
   "version": "2.3.4"
  }
 },
 "nbformat": 4,
 "nbformat_minor": 5
}
