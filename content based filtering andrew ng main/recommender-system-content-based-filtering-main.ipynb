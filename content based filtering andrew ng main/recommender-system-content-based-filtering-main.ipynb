{
 "cells": [
  {
   "cell_type": "markdown",
   "id": "83157a59",
   "metadata": {
    "papermill": {
     "duration": 0.016271,
     "end_time": "2022-09-12T12:49:58.574381",
     "exception": false,
     "start_time": "2022-09-12T12:49:58.558110",
     "status": "completed"
    },
    "tags": []
   },
   "source": [
    "# Recommender System Content Based Filtering\n",
    "Reference is taken from Andrew ng's notebook for Content Based Filtering"
   ]
  },
  {
   "cell_type": "markdown",
   "id": "bb059a50",
   "metadata": {
    "papermill": {
     "duration": 0.013787,
     "end_time": "2022-09-12T12:49:58.602505",
     "exception": false,
     "start_time": "2022-09-12T12:49:58.588718",
     "status": "completed"
    },
    "tags": []
   },
   "source": [
    "## Goal\n",
    "In this recommender system we have some user ratings for some movies like in Collaborative filtering and additional information about users and movies , usig this information we will try to predict ratings for the movies which user has not rated and recommend those movies."
   ]
  },
  {
   "cell_type": "markdown",
   "id": "d4c3ba6e",
   "metadata": {
    "papermill": {
     "duration": 0.013916,
     "end_time": "2022-09-12T12:49:58.632123",
     "exception": false,
     "start_time": "2022-09-12T12:49:58.618207",
     "status": "completed"
    },
    "tags": []
   },
   "source": [
    "## Movie ratings dataset\n",
    "\n",
    "The data set is derived from the MovieLens ml-latest-small dataset.\n",
    "\n",
    "[F. Maxwell Harper and Joseph A. Konstan. 2015. The MovieLens Datasets: History and Context. ACM Transactions on Interactive Intelligent Systems (TiiS) 5, 4: 19:1–19:19. https://doi.org/10.1145/2827872]\n",
    "\n",
    "The original dataset has 9000 movies rated by 600 users with ratings on a scale of 0.5 to 5 in 0.5 step increments. The dataset has been reduced in size to focus on movies from the years since 2000 and popular genres. The reduced dataset has Nu=395 users and Nm=694 movies. For each movie, the dataset provides a movie title, release date, and one or more genres. For example \"Toy Story 3\" was released in 2010 and has several genres: \"Adventure|Animation|Children|Comedy|Fantasy|IMAX\". This dataset contains little information about users other than their ratings. This dataset is used to create training vectors for the neural networks described below."
   ]
  },
  {
   "attachments": {
    "a1f7af5a-0b9c-441b-8b4d-2b761554d2b5.png": {
     "image/png": "[encoded data removed]"
    }
   },
   "cell_type": "markdown",
   "id": "1c312044",
   "metadata": {
    "papermill": {
     "duration": 0.013827,
     "end_time": "2022-09-12T12:49:58.660166",
     "exception": false,
     "start_time": "2022-09-12T12:49:58.646339",
     "status": "completed"
    },
    "tags": []
   },
   "source": [
    "## Model : Content-based filtering with a neural network\n",
    "\n",
    "Content-based filtering generates a user and movie feature vector but recognizes there may be other information available about the user and/or movie that may improve the prediction. The additional information is provided to a neural network which then generates the user and movie vector as shown below.\n",
    "\n",
    "![RecSysNN.png](attachment:a1f7af5a-0b9c-441b-8b4d-2b761554d2b5.png)\n",
    "\n",
    "This model will take two inputs, user data and movie data( movies which are rated by user ) and will generate 1D vectors for both data and their dot product will give rating that user may give to the movie."
   ]
  },
  {
   "cell_type": "markdown",
   "id": "9e43ca9c",
   "metadata": {
    "papermill": {
     "duration": 0.018591,
     "end_time": "2022-09-12T12:49:58.692817",
     "exception": false,
     "start_time": "2022-09-12T12:49:58.674226",
     "status": "completed"
    },
    "tags": []
   },
   "source": [
    "## Dataset Files\n",
    "1. content_movie_list.csv : This file contains information of all movies. It has 3 columns : 'movie id','title' and 'genres'\n",
    "<br>\n",
    "2. content_user_to_genre.pickle : This file contains information of all the users. We will use following information:\n",
    "                                      1. 'glist': Average rating of user for different genres of movies\n",
    "                                      2. 'movies': Movie_id and rating that user has given\n",
    "<br>\n",
    "3. content_user_train_header.txt : Contains genres names for above 'glist' \n",
    "                                      "
   ]
  },
  {
   "cell_type": "markdown",
   "id": "5113ed0d",
   "metadata": {
    "papermill": {
     "duration": 0.014364,
     "end_time": "2022-09-12T12:49:58.725720",
     "exception": false,
     "start_time": "2022-09-12T12:49:58.711356",
     "status": "completed"
    },
    "tags": []
   },
   "source": [
    "## Engineered features\n",
    "We have to generate user data and movie data from above files for training our model.\n",
    "<br>\n",
    "Ex: users 1 rated 2 movies : deadpool with gernres: Action|Comedy|Sci-Fi and Logan with gernres Action|Sci-Fi\n",
    "<br>\n",
    "users 2 rated 2 movies : Save the Last Dance  with gernres: Drama|Romance and Wedding Planner with gernres Comedy|Romance\n",
    "\n",
    "Training row:\n",
    "<br>\n",
    "user1| user1_glist | movie | movie_genre\n",
    "<br>\n",
    "usr1| user_1_glist | deadpool| Action\n",
    "<br>\n",
    "usr1| user_1_glist | deadpool| Comedy\n",
    "<br>\n",
    "usr1| user_1_glist | deadpool| Sci-Fi\n",
    "<br>\n",
    "usr1| user_1_glist | Logan| Action\n",
    "<br>\n",
    "usr1| user_1_glist | Logan| Sci-Fi\n",
    "<br>\n",
    "usr2| user_2_glist | Save the Last Dance| Drama\n",
    "<br>\n",
    "usr2| user_2_glist | Save the Last Dance| Romance\n",
    "<br>\n",
    "usr2| user_2_glist | Wedding Planner| Comedy\n",
    "<br>\n",
    "usr2| user_2_glist | Wedding Planner| Romance\n",
    "\n",
    "<br>\n",
    "All the user data will be in 'users' dataframe and all movies data will be in 'items' dataframe.\n",
    "<br>\n",
    "User data will be same for all the movies he/she rated.\n",
    "<br> \n",
    "We will use One hot encoding for movie_genre\n",
    "<br>\n",
    "A training example for our model will be a row from users data and a row from items data and output will be prediction of rating that user may have given to the item or movie"
   ]
  },
  {
   "cell_type": "code",
   "execution_count": 1,
   "id": "d858df0a",
   "metadata": {
    "_cell_guid": "b1076dfc-b9ad-4769-8c92-a6c4dae69d19",
    "_uuid": "8f2839f25d086af736a60e9eeb907d3b93b6e0e5",
    "execution": {
     "iopub.execute_input": "2022-09-12T12:49:58.761425Z",
     "iopub.status.busy": "2022-09-12T12:49:58.760460Z",
     "iopub.status.idle": "2022-09-12T12:50:16.819965Z",
     "shell.execute_reply": "2022-09-12T12:50:16.818574Z"
    },
    "papermill": {
     "duration": 18.08176,
     "end_time": "2022-09-12T12:50:16.822691",
     "exception": false,
     "start_time": "2022-09-12T12:49:58.740931",
     "status": "completed"
    },
    "tags": []
   },
   "outputs": [
    {
     "name": "stdout",
     "output_type": "stream",
     "text": [
      "Collecting pickle5\r\n",
      "  Downloading pickle5-0.0.12-cp37-cp37m-manylinux_2_5_x86_64.manylinux1_x86_64.whl (256 kB)\r\n",
      "\u001b[2K     \u001b[90m━━━━━━━━━━━━━━━━━━━━━━━━━━━━━━━━━━━━━━━\u001b[0m \u001b[32m256.4/256.4 kB\u001b[0m \u001b[31m1.4 MB/s\u001b[0m eta \u001b[36m0:00:00\u001b[0m\r\n",
      "\u001b[?25hInstalling collected packages: pickle5\r\n",
      "Successfully installed pickle5-0.0.12\r\n",
      "\u001b[33mWARNING: Running pip as the 'root' user can result in broken permissions and conflicting behaviour with the system package manager. It is recommended to use a virtual environment instead: https://pip.pypa.io/warnings/venv\u001b[0m\u001b[33m\r\n",
      "\u001b[0m"
     ]
    }
   ],
   "source": [
    "import numpy as np # linear algebra\n",
    "import pandas as pd # data processing, CSV file I/O (e.g. pd.read_csv)\n",
    "import tensorflow as tf\n",
    "\n",
    "!pip install pickle5\n",
    "import pickle5 as pickle"
   ]
  },
  {
   "cell_type": "code",
   "execution_count": 2,
   "id": "7823a15c",
   "metadata": {
    "execution": {
     "iopub.execute_input": "2022-09-12T12:50:16.855415Z",
     "iopub.status.busy": "2022-09-12T12:50:16.854345Z",
     "iopub.status.idle": "2022-09-12T12:50:16.914160Z",
     "shell.execute_reply": "2022-09-12T12:50:16.912706Z"
    },
    "papermill": {
     "duration": 0.078905,
     "end_time": "2022-09-12T12:50:16.916698",
     "exception": false,
     "start_time": "2022-09-12T12:50:16.837793",
     "status": "completed"
    },
    "tags": []
   },
   "outputs": [],
   "source": [
    "with open('../input/content-based-filtering-main/content_user_to_genre.pickle', 'rb') as f:\n",
    "        user_to_genre = pickle.load(f)\n",
    "\n",
    "movie_list=pd.read_csv('../input/content-based-filtering-main/content_movie_list.csv')"
   ]
  },
  {
   "cell_type": "code",
   "execution_count": 3,
   "id": "53122679",
   "metadata": {
    "execution": {
     "iopub.execute_input": "2022-09-12T12:50:16.948285Z",
     "iopub.status.busy": "2022-09-12T12:50:16.947283Z",
     "iopub.status.idle": "2022-09-12T12:50:16.957348Z",
     "shell.execute_reply": "2022-09-12T12:50:16.956592Z"
    },
    "papermill": {
     "duration": 0.027775,
     "end_time": "2022-09-12T12:50:16.959236",
     "exception": false,
     "start_time": "2022-09-12T12:50:16.931461",
     "status": "completed"
    },
    "tags": []
   },
   "outputs": [
    {
     "data": {
      "text/plain": [
       "{'glist': array([[3.9  , 5.   , 0.   , 0.   , 4.   , 4.2  , 4.   , 4.   , 0.   ,\n",
       "         3.   , 4.   , 0.   , 4.25 , 3.875]]),\n",
       " 'g_count': array([[5., 1., 0., 0., 5., 5., 2., 9., 0., 1., 1., 0., 2., 8.]]),\n",
       " 'rating_count': 16,\n",
       " 'rating_sum': 65.0,\n",
       " 'movies': {6874: 4.0,\n",
       "  8798: 3.5,\n",
       "  46970: 4.0,\n",
       "  48516: 4.0,\n",
       "  60756: 5.0,\n",
       "  71535: 3.0,\n",
       "  74458: 4.0,\n",
       "  77455: 3.0,\n",
       "  80489: 4.5,\n",
       "  80906: 5.0,\n",
       "  89774: 5.0,\n",
       "  91658: 2.5,\n",
       "  106782: 5.0,\n",
       "  112552: 4.0,\n",
       "  115713: 3.5,\n",
       "  122882: 5.0},\n",
       " 'rating_ave': 4.0625}"
      ]
     },
     "execution_count": 3,
     "metadata": {},
     "output_type": "execute_result"
    }
   ],
   "source": [
    "#Example data for user with user_id 2 \n",
    "user_to_genre[2]"
   ]
  },
  {
   "cell_type": "code",
   "execution_count": 4,
   "id": "c61883d6",
   "metadata": {
    "execution": {
     "iopub.execute_input": "2022-09-12T12:50:16.990343Z",
     "iopub.status.busy": "2022-09-12T12:50:16.989946Z",
     "iopub.status.idle": "2022-09-12T12:50:17.010641Z",
     "shell.execute_reply": "2022-09-12T12:50:17.009786Z"
    },
    "papermill": {
     "duration": 0.038529,
     "end_time": "2022-09-12T12:50:17.012564",
     "exception": false,
     "start_time": "2022-09-12T12:50:16.974035",
     "status": "completed"
    },
    "tags": []
   },
   "outputs": [
    {
     "data": {
      "text/html": [
       "<div>\n",
       "<style scoped>\n",
       "    .dataframe tbody tr th:only-of-type {\n",
       "        vertical-align: middle;\n",
       "    }\n",
       "\n",
       "    .dataframe tbody tr th {\n",
       "        vertical-align: top;\n",
       "    }\n",
       "\n",
       "    .dataframe thead th {\n",
       "        text-align: right;\n",
       "    }\n",
       "</style>\n",
       "<table border=\"1\" class=\"dataframe\">\n",
       "  <thead>\n",
       "    <tr style=\"text-align: right;\">\n",
       "      <th></th>\n",
       "      <th>movieId</th>\n",
       "      <th>title</th>\n",
       "      <th>genres</th>\n",
       "    </tr>\n",
       "  </thead>\n",
       "  <tbody>\n",
       "    <tr>\n",
       "      <th>0</th>\n",
       "      <td>4054</td>\n",
       "      <td>Save the Last Dance (2001)</td>\n",
       "      <td>Drama|Romance</td>\n",
       "    </tr>\n",
       "    <tr>\n",
       "      <th>1</th>\n",
       "      <td>4069</td>\n",
       "      <td>Wedding Planner, The (2001)</td>\n",
       "      <td>Comedy|Romance</td>\n",
       "    </tr>\n",
       "    <tr>\n",
       "      <th>2</th>\n",
       "      <td>4148</td>\n",
       "      <td>Hannibal (2001)</td>\n",
       "      <td>Horror|Thriller</td>\n",
       "    </tr>\n",
       "    <tr>\n",
       "      <th>3</th>\n",
       "      <td>4149</td>\n",
       "      <td>Saving Silverman (Evil Woman) (2001)</td>\n",
       "      <td>Comedy|Romance</td>\n",
       "    </tr>\n",
       "    <tr>\n",
       "      <th>4</th>\n",
       "      <td>4153</td>\n",
       "      <td>Down to Earth (2001)</td>\n",
       "      <td>Comedy|Fantasy|Romance</td>\n",
       "    </tr>\n",
       "    <tr>\n",
       "      <th>...</th>\n",
       "      <td>...</td>\n",
       "      <td>...</td>\n",
       "      <td>...</td>\n",
       "    </tr>\n",
       "    <tr>\n",
       "      <th>689</th>\n",
       "      <td>168252</td>\n",
       "      <td>Logan (2017)</td>\n",
       "      <td>Action|Sci-Fi</td>\n",
       "    </tr>\n",
       "    <tr>\n",
       "      <th>690</th>\n",
       "      <td>176371</td>\n",
       "      <td>Blade Runner 2049 (2017)</td>\n",
       "      <td>Sci-Fi</td>\n",
       "    </tr>\n",
       "    <tr>\n",
       "      <th>691</th>\n",
       "      <td>177765</td>\n",
       "      <td>Coco (2017)</td>\n",
       "      <td>Adventure|Animation|Children</td>\n",
       "    </tr>\n",
       "    <tr>\n",
       "      <th>692</th>\n",
       "      <td>179819</td>\n",
       "      <td>Star Wars: The Last Jedi (2017)</td>\n",
       "      <td>Action|Adventure|Fantasy|Sci-Fi</td>\n",
       "    </tr>\n",
       "    <tr>\n",
       "      <th>693</th>\n",
       "      <td>187593</td>\n",
       "      <td>Deadpool 2 (2018)</td>\n",
       "      <td>Action|Comedy|Sci-Fi</td>\n",
       "    </tr>\n",
       "  </tbody>\n",
       "</table>\n",
       "<p>694 rows × 3 columns</p>\n",
       "</div>"
      ],
      "text/plain": [
       "     movieId                                 title  \\\n",
       "0       4054            Save the Last Dance (2001)   \n",
       "1       4069           Wedding Planner, The (2001)   \n",
       "2       4148                       Hannibal (2001)   \n",
       "3       4149  Saving Silverman (Evil Woman) (2001)   \n",
       "4       4153                  Down to Earth (2001)   \n",
       "..       ...                                   ...   \n",
       "689   168252                          Logan (2017)   \n",
       "690   176371              Blade Runner 2049 (2017)   \n",
       "691   177765                           Coco (2017)   \n",
       "692   179819       Star Wars: The Last Jedi (2017)   \n",
       "693   187593                     Deadpool 2 (2018)   \n",
       "\n",
       "                              genres  \n",
       "0                      Drama|Romance  \n",
       "1                     Comedy|Romance  \n",
       "2                    Horror|Thriller  \n",
       "3                     Comedy|Romance  \n",
       "4             Comedy|Fantasy|Romance  \n",
       "..                               ...  \n",
       "689                    Action|Sci-Fi  \n",
       "690                           Sci-Fi  \n",
       "691     Adventure|Animation|Children  \n",
       "692  Action|Adventure|Fantasy|Sci-Fi  \n",
       "693             Action|Comedy|Sci-Fi  \n",
       "\n",
       "[694 rows x 3 columns]"
      ]
     },
     "execution_count": 4,
     "metadata": {},
     "output_type": "execute_result"
    }
   ],
   "source": [
    "movie_list"
   ]
  },
  {
   "cell_type": "markdown",
   "id": "3d18b75d",
   "metadata": {
    "papermill": {
     "duration": 0.014749,
     "end_time": "2022-09-12T12:50:17.042245",
     "exception": false,
     "start_time": "2022-09-12T12:50:17.027496",
     "status": "completed"
    },
    "tags": []
   },
   "source": [
    "## Finding average ratings for all movies "
   ]
  },
  {
   "cell_type": "code",
   "execution_count": 5,
   "id": "c987e637",
   "metadata": {
    "execution": {
     "iopub.execute_input": "2022-09-12T12:50:17.073935Z",
     "iopub.status.busy": "2022-09-12T12:50:17.073367Z",
     "iopub.status.idle": "2022-09-12T12:50:17.081997Z",
     "shell.execute_reply": "2022-09-12T12:50:17.081202Z"
    },
    "papermill": {
     "duration": 0.027029,
     "end_time": "2022-09-12T12:50:17.084217",
     "exception": false,
     "start_time": "2022-09-12T12:50:17.057188",
     "status": "completed"
    },
    "tags": []
   },
   "outputs": [],
   "source": [
    "#creating sum of total rating col and count of total rating col\n",
    "movie_list['total_rating_sum']=0\n",
    "movie_list['total_rating_count']=0\n"
   ]
  },
  {
   "cell_type": "code",
   "execution_count": 6,
   "id": "67d8a95c",
   "metadata": {
    "execution": {
     "iopub.execute_input": "2022-09-12T12:50:17.115884Z",
     "iopub.status.busy": "2022-09-12T12:50:17.115020Z",
     "iopub.status.idle": "2022-09-12T12:51:46.174779Z",
     "shell.execute_reply": "2022-09-12T12:51:46.173601Z"
    },
    "papermill": {
     "duration": 89.078471,
     "end_time": "2022-09-12T12:51:46.177565",
     "exception": false,
     "start_time": "2022-09-12T12:50:17.099094",
     "status": "completed"
    },
    "tags": []
   },
   "outputs": [],
   "source": [
    "#Disable warnings\n",
    "pd.options.mode.chained_assignment = None  # default='warn'\n",
    "\n",
    "#Calculating total ratings for each movies by looping through all users who gave ratings\n",
    "for user in user_to_genre:\n",
    "    #print(user_to_genre[user])\n",
    "    #print(user['movies'])\n",
    "    user_movies=user_to_genre[user]['movies']\n",
    "    for movie in user_movies:\n",
    "        #print(movie,user_movies[movie])\n",
    "        movie_list.loc[:,'total_rating_sum'][movie_list['movieId']==movie]+=user_movies[movie]\n",
    "        movie_list.loc[:,'total_rating_count'][movie_list['movieId']==movie]+=1\n",
    "        \n",
    "    "
   ]
  },
  {
   "cell_type": "code",
   "execution_count": 7,
   "id": "c24457a8",
   "metadata": {
    "execution": {
     "iopub.execute_input": "2022-09-12T12:51:46.211333Z",
     "iopub.status.busy": "2022-09-12T12:51:46.210556Z",
     "iopub.status.idle": "2022-09-12T12:51:46.217633Z",
     "shell.execute_reply": "2022-09-12T12:51:46.216382Z"
    },
    "papermill": {
     "duration": 0.026174,
     "end_time": "2022-09-12T12:51:46.219790",
     "exception": false,
     "start_time": "2022-09-12T12:51:46.193616",
     "status": "completed"
    },
    "tags": []
   },
   "outputs": [],
   "source": [
    "#Average rating =total_ratings/total_ratings_count\n",
    "movie_list.loc[:,'avg rating']=movie_list.loc[:,'total_rating_sum'] / movie_list.loc[:,'total_rating_count']"
   ]
  },
  {
   "cell_type": "code",
   "execution_count": 8,
   "id": "6b8a8dc6",
   "metadata": {
    "execution": {
     "iopub.execute_input": "2022-09-12T12:51:46.252153Z",
     "iopub.status.busy": "2022-09-12T12:51:46.251272Z",
     "iopub.status.idle": "2022-09-12T12:51:46.259877Z",
     "shell.execute_reply": "2022-09-12T12:51:46.259110Z"
    },
    "papermill": {
     "duration": 0.02675,
     "end_time": "2022-09-12T12:51:46.261932",
     "exception": false,
     "start_time": "2022-09-12T12:51:46.235182",
     "status": "completed"
    },
    "tags": []
   },
   "outputs": [],
   "source": [
    "#Deleting unwanted columns\n",
    "movie_list.drop(['total_rating_sum','total_rating_count'],axis=1,inplace=True)"
   ]
  },
  {
   "cell_type": "code",
   "execution_count": 9,
   "id": "ef4114f4",
   "metadata": {
    "execution": {
     "iopub.execute_input": "2022-09-12T12:51:46.294874Z",
     "iopub.status.busy": "2022-09-12T12:51:46.294192Z",
     "iopub.status.idle": "2022-09-12T12:51:46.309090Z",
     "shell.execute_reply": "2022-09-12T12:51:46.307958Z"
    },
    "papermill": {
     "duration": 0.034033,
     "end_time": "2022-09-12T12:51:46.311507",
     "exception": false,
     "start_time": "2022-09-12T12:51:46.277474",
     "status": "completed"
    },
    "tags": []
   },
   "outputs": [
    {
     "data": {
      "text/html": [
       "<div>\n",
       "<style scoped>\n",
       "    .dataframe tbody tr th:only-of-type {\n",
       "        vertical-align: middle;\n",
       "    }\n",
       "\n",
       "    .dataframe tbody tr th {\n",
       "        vertical-align: top;\n",
       "    }\n",
       "\n",
       "    .dataframe thead th {\n",
       "        text-align: right;\n",
       "    }\n",
       "</style>\n",
       "<table border=\"1\" class=\"dataframe\">\n",
       "  <thead>\n",
       "    <tr style=\"text-align: right;\">\n",
       "      <th></th>\n",
       "      <th>movieId</th>\n",
       "      <th>title</th>\n",
       "      <th>genres</th>\n",
       "      <th>avg rating</th>\n",
       "    </tr>\n",
       "  </thead>\n",
       "  <tbody>\n",
       "    <tr>\n",
       "      <th>0</th>\n",
       "      <td>4054</td>\n",
       "      <td>Save the Last Dance (2001)</td>\n",
       "      <td>Drama|Romance</td>\n",
       "      <td>2.843750</td>\n",
       "    </tr>\n",
       "    <tr>\n",
       "      <th>1</th>\n",
       "      <td>4069</td>\n",
       "      <td>Wedding Planner, The (2001)</td>\n",
       "      <td>Comedy|Romance</td>\n",
       "      <td>2.909091</td>\n",
       "    </tr>\n",
       "    <tr>\n",
       "      <th>2</th>\n",
       "      <td>4148</td>\n",
       "      <td>Hannibal (2001)</td>\n",
       "      <td>Horror|Thriller</td>\n",
       "      <td>2.935897</td>\n",
       "    </tr>\n",
       "    <tr>\n",
       "      <th>3</th>\n",
       "      <td>4149</td>\n",
       "      <td>Saving Silverman (Evil Woman) (2001)</td>\n",
       "      <td>Comedy|Romance</td>\n",
       "      <td>2.772727</td>\n",
       "    </tr>\n",
       "    <tr>\n",
       "      <th>4</th>\n",
       "      <td>4153</td>\n",
       "      <td>Down to Earth (2001)</td>\n",
       "      <td>Comedy|Fantasy|Romance</td>\n",
       "      <td>2.416667</td>\n",
       "    </tr>\n",
       "    <tr>\n",
       "      <th>...</th>\n",
       "      <td>...</td>\n",
       "      <td>...</td>\n",
       "      <td>...</td>\n",
       "      <td>...</td>\n",
       "    </tr>\n",
       "    <tr>\n",
       "      <th>689</th>\n",
       "      <td>168252</td>\n",
       "      <td>Logan (2017)</td>\n",
       "      <td>Action|Sci-Fi</td>\n",
       "      <td>4.280000</td>\n",
       "    </tr>\n",
       "    <tr>\n",
       "      <th>690</th>\n",
       "      <td>176371</td>\n",
       "      <td>Blade Runner 2049 (2017)</td>\n",
       "      <td>Sci-Fi</td>\n",
       "      <td>3.805556</td>\n",
       "    </tr>\n",
       "    <tr>\n",
       "      <th>691</th>\n",
       "      <td>177765</td>\n",
       "      <td>Coco (2017)</td>\n",
       "      <td>Adventure|Animation|Children</td>\n",
       "      <td>3.538462</td>\n",
       "    </tr>\n",
       "    <tr>\n",
       "      <th>692</th>\n",
       "      <td>179819</td>\n",
       "      <td>Star Wars: The Last Jedi (2017)</td>\n",
       "      <td>Action|Adventure|Fantasy|Sci-Fi</td>\n",
       "      <td>3.125000</td>\n",
       "    </tr>\n",
       "    <tr>\n",
       "      <th>693</th>\n",
       "      <td>187593</td>\n",
       "      <td>Deadpool 2 (2018)</td>\n",
       "      <td>Action|Comedy|Sci-Fi</td>\n",
       "      <td>3.875000</td>\n",
       "    </tr>\n",
       "  </tbody>\n",
       "</table>\n",
       "<p>694 rows × 4 columns</p>\n",
       "</div>"
      ],
      "text/plain": [
       "     movieId                                 title  \\\n",
       "0       4054            Save the Last Dance (2001)   \n",
       "1       4069           Wedding Planner, The (2001)   \n",
       "2       4148                       Hannibal (2001)   \n",
       "3       4149  Saving Silverman (Evil Woman) (2001)   \n",
       "4       4153                  Down to Earth (2001)   \n",
       "..       ...                                   ...   \n",
       "689   168252                          Logan (2017)   \n",
       "690   176371              Blade Runner 2049 (2017)   \n",
       "691   177765                           Coco (2017)   \n",
       "692   179819       Star Wars: The Last Jedi (2017)   \n",
       "693   187593                     Deadpool 2 (2018)   \n",
       "\n",
       "                              genres  avg rating  \n",
       "0                      Drama|Romance    2.843750  \n",
       "1                     Comedy|Romance    2.909091  \n",
       "2                    Horror|Thriller    2.935897  \n",
       "3                     Comedy|Romance    2.772727  \n",
       "4             Comedy|Fantasy|Romance    2.416667  \n",
       "..                               ...         ...  \n",
       "689                    Action|Sci-Fi    4.280000  \n",
       "690                           Sci-Fi    3.805556  \n",
       "691     Adventure|Animation|Children    3.538462  \n",
       "692  Action|Adventure|Fantasy|Sci-Fi    3.125000  \n",
       "693             Action|Comedy|Sci-Fi    3.875000  \n",
       "\n",
       "[694 rows x 4 columns]"
      ]
     },
     "execution_count": 9,
     "metadata": {},
     "output_type": "execute_result"
    }
   ],
   "source": [
    "movie_list"
   ]
  },
  {
   "cell_type": "code",
   "execution_count": 10,
   "id": "1c72fdc3",
   "metadata": {
    "execution": {
     "iopub.execute_input": "2022-09-12T12:51:46.344903Z",
     "iopub.status.busy": "2022-09-12T12:51:46.344138Z",
     "iopub.status.idle": "2022-09-12T12:51:46.353512Z",
     "shell.execute_reply": "2022-09-12T12:51:46.352440Z"
    },
    "papermill": {
     "duration": 0.028557,
     "end_time": "2022-09-12T12:51:46.355759",
     "exception": false,
     "start_time": "2022-09-12T12:51:46.327202",
     "status": "completed"
    },
    "tags": []
   },
   "outputs": [
    {
     "data": {
      "text/html": [
       "<div>\n",
       "<style scoped>\n",
       "    .dataframe tbody tr th:only-of-type {\n",
       "        vertical-align: middle;\n",
       "    }\n",
       "\n",
       "    .dataframe tbody tr th {\n",
       "        vertical-align: top;\n",
       "    }\n",
       "\n",
       "    .dataframe thead th {\n",
       "        text-align: right;\n",
       "    }\n",
       "</style>\n",
       "<table border=\"1\" class=\"dataframe\">\n",
       "  <thead>\n",
       "    <tr style=\"text-align: right;\">\n",
       "      <th></th>\n",
       "    </tr>\n",
       "  </thead>\n",
       "  <tbody>\n",
       "  </tbody>\n",
       "</table>\n",
       "</div>"
      ],
      "text/plain": [
       "Empty DataFrame\n",
       "Columns: []\n",
       "Index: []"
      ]
     },
     "execution_count": 10,
     "metadata": {},
     "output_type": "execute_result"
    }
   ],
   "source": [
    "my_item_vec=pd.DataFrame()\n",
    "my_item_vec"
   ]
  },
  {
   "cell_type": "markdown",
   "id": "e512abab",
   "metadata": {
    "papermill": {
     "duration": 0.015281,
     "end_time": "2022-09-12T12:51:46.386786",
     "exception": false,
     "start_time": "2022-09-12T12:51:46.371505",
     "status": "completed"
    },
    "tags": []
   },
   "source": [
    "## Splitting genres"
   ]
  },
  {
   "cell_type": "code",
   "execution_count": 11,
   "id": "887eab79",
   "metadata": {
    "execution": {
     "iopub.execute_input": "2022-09-12T12:51:46.419743Z",
     "iopub.status.busy": "2022-09-12T12:51:46.419370Z",
     "iopub.status.idle": "2022-09-12T12:51:51.401409Z",
     "shell.execute_reply": "2022-09-12T12:51:51.400296Z"
    },
    "papermill": {
     "duration": 5.001768,
     "end_time": "2022-09-12T12:51:51.404089",
     "exception": false,
     "start_time": "2022-09-12T12:51:46.402321",
     "status": "completed"
    },
    "tags": []
   },
   "outputs": [],
   "source": [
    "#Splitting generes in each row and making rows for all generes and seperating year from title\n",
    "for row in movie_list.values:\n",
    "    categories=row[2].split('|')\n",
    "    #print(categories)\n",
    "    for category in categories:\n",
    "        my_item_vec=my_item_vec.append({'movieId':row[0],'year':row[1][-5:-1],'ave rating':row[3],'title':row[1][:-7],'genres':category},ignore_index=True)\n",
    "    \n",
    "    \n",
    "my_item_vec['movieId']=my_item_vec['movieId'].astype(int)"
   ]
  },
  {
   "cell_type": "code",
   "execution_count": 12,
   "id": "f3e89114",
   "metadata": {
    "execution": {
     "iopub.execute_input": "2022-09-12T12:51:51.438499Z",
     "iopub.status.busy": "2022-09-12T12:51:51.438098Z",
     "iopub.status.idle": "2022-09-12T12:51:51.454447Z",
     "shell.execute_reply": "2022-09-12T12:51:51.453458Z"
    },
    "papermill": {
     "duration": 0.035948,
     "end_time": "2022-09-12T12:51:51.456534",
     "exception": false,
     "start_time": "2022-09-12T12:51:51.420586",
     "status": "completed"
    },
    "tags": []
   },
   "outputs": [
    {
     "data": {
      "text/html": [
       "<div>\n",
       "<style scoped>\n",
       "    .dataframe tbody tr th:only-of-type {\n",
       "        vertical-align: middle;\n",
       "    }\n",
       "\n",
       "    .dataframe tbody tr th {\n",
       "        vertical-align: top;\n",
       "    }\n",
       "\n",
       "    .dataframe thead th {\n",
       "        text-align: right;\n",
       "    }\n",
       "</style>\n",
       "<table border=\"1\" class=\"dataframe\">\n",
       "  <thead>\n",
       "    <tr style=\"text-align: right;\">\n",
       "      <th></th>\n",
       "      <th>movieId</th>\n",
       "      <th>year</th>\n",
       "      <th>ave rating</th>\n",
       "      <th>title</th>\n",
       "      <th>genres</th>\n",
       "    </tr>\n",
       "  </thead>\n",
       "  <tbody>\n",
       "    <tr>\n",
       "      <th>0</th>\n",
       "      <td>4054</td>\n",
       "      <td>2001</td>\n",
       "      <td>2.843750</td>\n",
       "      <td>Save the Last Dance</td>\n",
       "      <td>Drama</td>\n",
       "    </tr>\n",
       "    <tr>\n",
       "      <th>1</th>\n",
       "      <td>4054</td>\n",
       "      <td>2001</td>\n",
       "      <td>2.843750</td>\n",
       "      <td>Save the Last Dance</td>\n",
       "      <td>Romance</td>\n",
       "    </tr>\n",
       "    <tr>\n",
       "      <th>2</th>\n",
       "      <td>4069</td>\n",
       "      <td>2001</td>\n",
       "      <td>2.909091</td>\n",
       "      <td>Wedding Planner, The</td>\n",
       "      <td>Comedy</td>\n",
       "    </tr>\n",
       "    <tr>\n",
       "      <th>3</th>\n",
       "      <td>4069</td>\n",
       "      <td>2001</td>\n",
       "      <td>2.909091</td>\n",
       "      <td>Wedding Planner, The</td>\n",
       "      <td>Romance</td>\n",
       "    </tr>\n",
       "    <tr>\n",
       "      <th>4</th>\n",
       "      <td>4148</td>\n",
       "      <td>2001</td>\n",
       "      <td>2.935897</td>\n",
       "      <td>Hannibal</td>\n",
       "      <td>Horror</td>\n",
       "    </tr>\n",
       "    <tr>\n",
       "      <th>...</th>\n",
       "      <td>...</td>\n",
       "      <td>...</td>\n",
       "      <td>...</td>\n",
       "      <td>...</td>\n",
       "      <td>...</td>\n",
       "    </tr>\n",
       "    <tr>\n",
       "      <th>1878</th>\n",
       "      <td>179819</td>\n",
       "      <td>2017</td>\n",
       "      <td>3.125000</td>\n",
       "      <td>Star Wars: The Last Jedi</td>\n",
       "      <td>Fantasy</td>\n",
       "    </tr>\n",
       "    <tr>\n",
       "      <th>1879</th>\n",
       "      <td>179819</td>\n",
       "      <td>2017</td>\n",
       "      <td>3.125000</td>\n",
       "      <td>Star Wars: The Last Jedi</td>\n",
       "      <td>Sci-Fi</td>\n",
       "    </tr>\n",
       "    <tr>\n",
       "      <th>1880</th>\n",
       "      <td>187593</td>\n",
       "      <td>2018</td>\n",
       "      <td>3.875000</td>\n",
       "      <td>Deadpool 2</td>\n",
       "      <td>Action</td>\n",
       "    </tr>\n",
       "    <tr>\n",
       "      <th>1881</th>\n",
       "      <td>187593</td>\n",
       "      <td>2018</td>\n",
       "      <td>3.875000</td>\n",
       "      <td>Deadpool 2</td>\n",
       "      <td>Comedy</td>\n",
       "    </tr>\n",
       "    <tr>\n",
       "      <th>1882</th>\n",
       "      <td>187593</td>\n",
       "      <td>2018</td>\n",
       "      <td>3.875000</td>\n",
       "      <td>Deadpool 2</td>\n",
       "      <td>Sci-Fi</td>\n",
       "    </tr>\n",
       "  </tbody>\n",
       "</table>\n",
       "<p>1883 rows × 5 columns</p>\n",
       "</div>"
      ],
      "text/plain": [
       "      movieId  year  ave rating                     title   genres\n",
       "0        4054  2001    2.843750       Save the Last Dance    Drama\n",
       "1        4054  2001    2.843750       Save the Last Dance  Romance\n",
       "2        4069  2001    2.909091      Wedding Planner, The   Comedy\n",
       "3        4069  2001    2.909091      Wedding Planner, The  Romance\n",
       "4        4148  2001    2.935897                  Hannibal   Horror\n",
       "...       ...   ...         ...                       ...      ...\n",
       "1878   179819  2017    3.125000  Star Wars: The Last Jedi  Fantasy\n",
       "1879   179819  2017    3.125000  Star Wars: The Last Jedi   Sci-Fi\n",
       "1880   187593  2018    3.875000                Deadpool 2   Action\n",
       "1881   187593  2018    3.875000                Deadpool 2   Comedy\n",
       "1882   187593  2018    3.875000                Deadpool 2   Sci-Fi\n",
       "\n",
       "[1883 rows x 5 columns]"
      ]
     },
     "execution_count": 12,
     "metadata": {},
     "output_type": "execute_result"
    }
   ],
   "source": [
    "my_item_vec"
   ]
  },
  {
   "cell_type": "code",
   "execution_count": 13,
   "id": "810469fa",
   "metadata": {
    "execution": {
     "iopub.execute_input": "2022-09-12T12:51:51.489792Z",
     "iopub.status.busy": "2022-09-12T12:51:51.489421Z",
     "iopub.status.idle": "2022-09-12T12:51:51.494690Z",
     "shell.execute_reply": "2022-09-12T12:51:51.493781Z"
    },
    "papermill": {
     "duration": 0.02454,
     "end_time": "2022-09-12T12:51:51.496831",
     "exception": false,
     "start_time": "2022-09-12T12:51:51.472291",
     "status": "completed"
    },
    "tags": []
   },
   "outputs": [],
   "source": [
    "movie_list_seperated_genres=my_item_vec.copy()"
   ]
  },
  {
   "cell_type": "markdown",
   "id": "41981fed",
   "metadata": {
    "papermill": {
     "duration": 0.015272,
     "end_time": "2022-09-12T12:51:51.527753",
     "exception": false,
     "start_time": "2022-09-12T12:51:51.512481",
     "status": "completed"
    },
    "tags": []
   },
   "source": [
    "## One Hot Encoding generes column"
   ]
  },
  {
   "cell_type": "code",
   "execution_count": 14,
   "id": "5f24ff09",
   "metadata": {
    "execution": {
     "iopub.execute_input": "2022-09-12T12:51:51.561177Z",
     "iopub.status.busy": "2022-09-12T12:51:51.560439Z",
     "iopub.status.idle": "2022-09-12T12:51:52.192586Z",
     "shell.execute_reply": "2022-09-12T12:51:52.191625Z"
    },
    "papermill": {
     "duration": 0.651481,
     "end_time": "2022-09-12T12:51:52.195068",
     "exception": false,
     "start_time": "2022-09-12T12:51:51.543587",
     "status": "completed"
    },
    "tags": []
   },
   "outputs": [],
   "source": [
    "#one hot encoding generes column\n",
    "from sklearn.preprocessing import OneHotEncoder\n",
    "ohe_categories=OneHotEncoder(handle_unknown='ignore',sparse=False)\n",
    "my_item_vec_categories=pd.DataFrame(ohe_categories.fit_transform(my_item_vec['genres'].to_numpy().reshape(-1,1))\n",
    "                         ,columns=[col[3:] for col in ohe_categories.get_feature_names_out()]).astype(int)"
   ]
  },
  {
   "cell_type": "code",
   "execution_count": 15,
   "id": "8bb0a2a6",
   "metadata": {
    "execution": {
     "iopub.execute_input": "2022-09-12T12:51:52.228395Z",
     "iopub.status.busy": "2022-09-12T12:51:52.227659Z",
     "iopub.status.idle": "2022-09-12T12:51:52.246892Z",
     "shell.execute_reply": "2022-09-12T12:51:52.245834Z"
    },
    "papermill": {
     "duration": 0.038276,
     "end_time": "2022-09-12T12:51:52.249177",
     "exception": false,
     "start_time": "2022-09-12T12:51:52.210901",
     "status": "completed"
    },
    "tags": []
   },
   "outputs": [
    {
     "data": {
      "text/html": [
       "<div>\n",
       "<style scoped>\n",
       "    .dataframe tbody tr th:only-of-type {\n",
       "        vertical-align: middle;\n",
       "    }\n",
       "\n",
       "    .dataframe tbody tr th {\n",
       "        vertical-align: top;\n",
       "    }\n",
       "\n",
       "    .dataframe thead th {\n",
       "        text-align: right;\n",
       "    }\n",
       "</style>\n",
       "<table border=\"1\" class=\"dataframe\">\n",
       "  <thead>\n",
       "    <tr style=\"text-align: right;\">\n",
       "      <th></th>\n",
       "      <th>movieId</th>\n",
       "      <th>year</th>\n",
       "      <th>ave rating</th>\n",
       "      <th>title</th>\n",
       "      <th>genres</th>\n",
       "      <th>Action</th>\n",
       "      <th>Adventure</th>\n",
       "      <th>Animation</th>\n",
       "      <th>Children</th>\n",
       "      <th>Comedy</th>\n",
       "      <th>Crime</th>\n",
       "      <th>Documentary</th>\n",
       "      <th>Drama</th>\n",
       "      <th>Fantasy</th>\n",
       "      <th>Horror</th>\n",
       "      <th>Mystery</th>\n",
       "      <th>Romance</th>\n",
       "      <th>Sci-Fi</th>\n",
       "      <th>Thriller</th>\n",
       "    </tr>\n",
       "  </thead>\n",
       "  <tbody>\n",
       "    <tr>\n",
       "      <th>0</th>\n",
       "      <td>4054</td>\n",
       "      <td>2001</td>\n",
       "      <td>2.843750</td>\n",
       "      <td>Save the Last Dance</td>\n",
       "      <td>Drama</td>\n",
       "      <td>0</td>\n",
       "      <td>0</td>\n",
       "      <td>0</td>\n",
       "      <td>0</td>\n",
       "      <td>0</td>\n",
       "      <td>0</td>\n",
       "      <td>0</td>\n",
       "      <td>1</td>\n",
       "      <td>0</td>\n",
       "      <td>0</td>\n",
       "      <td>0</td>\n",
       "      <td>0</td>\n",
       "      <td>0</td>\n",
       "      <td>0</td>\n",
       "    </tr>\n",
       "    <tr>\n",
       "      <th>1</th>\n",
       "      <td>4054</td>\n",
       "      <td>2001</td>\n",
       "      <td>2.843750</td>\n",
       "      <td>Save the Last Dance</td>\n",
       "      <td>Romance</td>\n",
       "      <td>0</td>\n",
       "      <td>0</td>\n",
       "      <td>0</td>\n",
       "      <td>0</td>\n",
       "      <td>0</td>\n",
       "      <td>0</td>\n",
       "      <td>0</td>\n",
       "      <td>0</td>\n",
       "      <td>0</td>\n",
       "      <td>0</td>\n",
       "      <td>0</td>\n",
       "      <td>1</td>\n",
       "      <td>0</td>\n",
       "      <td>0</td>\n",
       "    </tr>\n",
       "    <tr>\n",
       "      <th>2</th>\n",
       "      <td>4069</td>\n",
       "      <td>2001</td>\n",
       "      <td>2.909091</td>\n",
       "      <td>Wedding Planner, The</td>\n",
       "      <td>Comedy</td>\n",
       "      <td>0</td>\n",
       "      <td>0</td>\n",
       "      <td>0</td>\n",
       "      <td>0</td>\n",
       "      <td>1</td>\n",
       "      <td>0</td>\n",
       "      <td>0</td>\n",
       "      <td>0</td>\n",
       "      <td>0</td>\n",
       "      <td>0</td>\n",
       "      <td>0</td>\n",
       "      <td>0</td>\n",
       "      <td>0</td>\n",
       "      <td>0</td>\n",
       "    </tr>\n",
       "    <tr>\n",
       "      <th>3</th>\n",
       "      <td>4069</td>\n",
       "      <td>2001</td>\n",
       "      <td>2.909091</td>\n",
       "      <td>Wedding Planner, The</td>\n",
       "      <td>Romance</td>\n",
       "      <td>0</td>\n",
       "      <td>0</td>\n",
       "      <td>0</td>\n",
       "      <td>0</td>\n",
       "      <td>0</td>\n",
       "      <td>0</td>\n",
       "      <td>0</td>\n",
       "      <td>0</td>\n",
       "      <td>0</td>\n",
       "      <td>0</td>\n",
       "      <td>0</td>\n",
       "      <td>1</td>\n",
       "      <td>0</td>\n",
       "      <td>0</td>\n",
       "    </tr>\n",
       "    <tr>\n",
       "      <th>4</th>\n",
       "      <td>4148</td>\n",
       "      <td>2001</td>\n",
       "      <td>2.935897</td>\n",
       "      <td>Hannibal</td>\n",
       "      <td>Horror</td>\n",
       "      <td>0</td>\n",
       "      <td>0</td>\n",
       "      <td>0</td>\n",
       "      <td>0</td>\n",
       "      <td>0</td>\n",
       "      <td>0</td>\n",
       "      <td>0</td>\n",
       "      <td>0</td>\n",
       "      <td>0</td>\n",
       "      <td>1</td>\n",
       "      <td>0</td>\n",
       "      <td>0</td>\n",
       "      <td>0</td>\n",
       "      <td>0</td>\n",
       "    </tr>\n",
       "  </tbody>\n",
       "</table>\n",
       "</div>"
      ],
      "text/plain": [
       "   movieId  year  ave rating                 title   genres  Action  \\\n",
       "0     4054  2001    2.843750   Save the Last Dance    Drama       0   \n",
       "1     4054  2001    2.843750   Save the Last Dance  Romance       0   \n",
       "2     4069  2001    2.909091  Wedding Planner, The   Comedy       0   \n",
       "3     4069  2001    2.909091  Wedding Planner, The  Romance       0   \n",
       "4     4148  2001    2.935897              Hannibal   Horror       0   \n",
       "\n",
       "   Adventure  Animation  Children  Comedy  Crime  Documentary  Drama  Fantasy  \\\n",
       "0          0          0         0       0      0            0      1        0   \n",
       "1          0          0         0       0      0            0      0        0   \n",
       "2          0          0         0       1      0            0      0        0   \n",
       "3          0          0         0       0      0            0      0        0   \n",
       "4          0          0         0       0      0            0      0        0   \n",
       "\n",
       "   Horror  Mystery  Romance  Sci-Fi  Thriller  \n",
       "0       0        0        0       0         0  \n",
       "1       0        0        1       0         0  \n",
       "2       0        0        0       0         0  \n",
       "3       0        0        1       0         0  \n",
       "4       1        0        0       0         0  "
      ]
     },
     "execution_count": 15,
     "metadata": {},
     "output_type": "execute_result"
    }
   ],
   "source": [
    "my_item_vec=pd.concat([my_item_vec,my_item_vec_categories],axis=1)\n",
    "my_item_vec.head()"
   ]
  },
  {
   "cell_type": "code",
   "execution_count": 16,
   "id": "45f2f2b0",
   "metadata": {
    "execution": {
     "iopub.execute_input": "2022-09-12T12:51:52.283697Z",
     "iopub.status.busy": "2022-09-12T12:51:52.282923Z",
     "iopub.status.idle": "2022-09-12T12:51:52.290219Z",
     "shell.execute_reply": "2022-09-12T12:51:52.289307Z"
    },
    "papermill": {
     "duration": 0.026954,
     "end_time": "2022-09-12T12:51:52.292408",
     "exception": false,
     "start_time": "2022-09-12T12:51:52.265454",
     "status": "completed"
    },
    "tags": []
   },
   "outputs": [],
   "source": [
    "#Dropping unwanted columns\n",
    "my_item_vec.drop(['title','genres'],axis=1,inplace=True)"
   ]
  },
  {
   "cell_type": "code",
   "execution_count": 17,
   "id": "99f52d5b",
   "metadata": {
    "execution": {
     "iopub.execute_input": "2022-09-12T12:51:52.326552Z",
     "iopub.status.busy": "2022-09-12T12:51:52.325589Z",
     "iopub.status.idle": "2022-09-12T12:51:52.342284Z",
     "shell.execute_reply": "2022-09-12T12:51:52.341358Z"
    },
    "papermill": {
     "duration": 0.036337,
     "end_time": "2022-09-12T12:51:52.344714",
     "exception": false,
     "start_time": "2022-09-12T12:51:52.308377",
     "status": "completed"
    },
    "tags": []
   },
   "outputs": [
    {
     "data": {
      "text/html": [
       "<div>\n",
       "<style scoped>\n",
       "    .dataframe tbody tr th:only-of-type {\n",
       "        vertical-align: middle;\n",
       "    }\n",
       "\n",
       "    .dataframe tbody tr th {\n",
       "        vertical-align: top;\n",
       "    }\n",
       "\n",
       "    .dataframe thead th {\n",
       "        text-align: right;\n",
       "    }\n",
       "</style>\n",
       "<table border=\"1\" class=\"dataframe\">\n",
       "  <thead>\n",
       "    <tr style=\"text-align: right;\">\n",
       "      <th></th>\n",
       "      <th>movieId</th>\n",
       "      <th>year</th>\n",
       "      <th>ave rating</th>\n",
       "      <th>Action</th>\n",
       "      <th>Adventure</th>\n",
       "      <th>Animation</th>\n",
       "      <th>Children</th>\n",
       "      <th>Comedy</th>\n",
       "      <th>Crime</th>\n",
       "      <th>Documentary</th>\n",
       "      <th>Drama</th>\n",
       "      <th>Fantasy</th>\n",
       "      <th>Horror</th>\n",
       "      <th>Mystery</th>\n",
       "      <th>Romance</th>\n",
       "      <th>Sci-Fi</th>\n",
       "      <th>Thriller</th>\n",
       "    </tr>\n",
       "  </thead>\n",
       "  <tbody>\n",
       "    <tr>\n",
       "      <th>0</th>\n",
       "      <td>4054</td>\n",
       "      <td>2001</td>\n",
       "      <td>2.843750</td>\n",
       "      <td>0</td>\n",
       "      <td>0</td>\n",
       "      <td>0</td>\n",
       "      <td>0</td>\n",
       "      <td>0</td>\n",
       "      <td>0</td>\n",
       "      <td>0</td>\n",
       "      <td>1</td>\n",
       "      <td>0</td>\n",
       "      <td>0</td>\n",
       "      <td>0</td>\n",
       "      <td>0</td>\n",
       "      <td>0</td>\n",
       "      <td>0</td>\n",
       "    </tr>\n",
       "    <tr>\n",
       "      <th>1</th>\n",
       "      <td>4054</td>\n",
       "      <td>2001</td>\n",
       "      <td>2.843750</td>\n",
       "      <td>0</td>\n",
       "      <td>0</td>\n",
       "      <td>0</td>\n",
       "      <td>0</td>\n",
       "      <td>0</td>\n",
       "      <td>0</td>\n",
       "      <td>0</td>\n",
       "      <td>0</td>\n",
       "      <td>0</td>\n",
       "      <td>0</td>\n",
       "      <td>0</td>\n",
       "      <td>1</td>\n",
       "      <td>0</td>\n",
       "      <td>0</td>\n",
       "    </tr>\n",
       "    <tr>\n",
       "      <th>2</th>\n",
       "      <td>4069</td>\n",
       "      <td>2001</td>\n",
       "      <td>2.909091</td>\n",
       "      <td>0</td>\n",
       "      <td>0</td>\n",
       "      <td>0</td>\n",
       "      <td>0</td>\n",
       "      <td>1</td>\n",
       "      <td>0</td>\n",
       "      <td>0</td>\n",
       "      <td>0</td>\n",
       "      <td>0</td>\n",
       "      <td>0</td>\n",
       "      <td>0</td>\n",
       "      <td>0</td>\n",
       "      <td>0</td>\n",
       "      <td>0</td>\n",
       "    </tr>\n",
       "    <tr>\n",
       "      <th>3</th>\n",
       "      <td>4069</td>\n",
       "      <td>2001</td>\n",
       "      <td>2.909091</td>\n",
       "      <td>0</td>\n",
       "      <td>0</td>\n",
       "      <td>0</td>\n",
       "      <td>0</td>\n",
       "      <td>0</td>\n",
       "      <td>0</td>\n",
       "      <td>0</td>\n",
       "      <td>0</td>\n",
       "      <td>0</td>\n",
       "      <td>0</td>\n",
       "      <td>0</td>\n",
       "      <td>1</td>\n",
       "      <td>0</td>\n",
       "      <td>0</td>\n",
       "    </tr>\n",
       "    <tr>\n",
       "      <th>4</th>\n",
       "      <td>4148</td>\n",
       "      <td>2001</td>\n",
       "      <td>2.935897</td>\n",
       "      <td>0</td>\n",
       "      <td>0</td>\n",
       "      <td>0</td>\n",
       "      <td>0</td>\n",
       "      <td>0</td>\n",
       "      <td>0</td>\n",
       "      <td>0</td>\n",
       "      <td>0</td>\n",
       "      <td>0</td>\n",
       "      <td>1</td>\n",
       "      <td>0</td>\n",
       "      <td>0</td>\n",
       "      <td>0</td>\n",
       "      <td>0</td>\n",
       "    </tr>\n",
       "  </tbody>\n",
       "</table>\n",
       "</div>"
      ],
      "text/plain": [
       "   movieId  year  ave rating  Action  Adventure  Animation  Children  Comedy  \\\n",
       "0     4054  2001    2.843750       0          0          0         0       0   \n",
       "1     4054  2001    2.843750       0          0          0         0       0   \n",
       "2     4069  2001    2.909091       0          0          0         0       1   \n",
       "3     4069  2001    2.909091       0          0          0         0       0   \n",
       "4     4148  2001    2.935897       0          0          0         0       0   \n",
       "\n",
       "   Crime  Documentary  Drama  Fantasy  Horror  Mystery  Romance  Sci-Fi  \\\n",
       "0      0            0      1        0       0        0        0       0   \n",
       "1      0            0      0        0       0        0        1       0   \n",
       "2      0            0      0        0       0        0        0       0   \n",
       "3      0            0      0        0       0        0        1       0   \n",
       "4      0            0      0        0       1        0        0       0   \n",
       "\n",
       "   Thriller  \n",
       "0         0  \n",
       "1         0  \n",
       "2         0  \n",
       "3         0  \n",
       "4         0  "
      ]
     },
     "execution_count": 17,
     "metadata": {},
     "output_type": "execute_result"
    }
   ],
   "source": [
    "my_item_vec.head()"
   ]
  },
  {
   "cell_type": "markdown",
   "id": "25123d27",
   "metadata": {
    "papermill": {
     "duration": 0.015905,
     "end_time": "2022-09-12T12:51:52.377038",
     "exception": false,
     "start_time": "2022-09-12T12:51:52.361133",
     "status": "completed"
    },
    "tags": []
   },
   "source": [
    "## Making training set : users and items"
   ]
  },
  {
   "cell_type": "code",
   "execution_count": 18,
   "id": "11dbb145",
   "metadata": {
    "execution": {
     "iopub.execute_input": "2022-09-12T12:51:52.412078Z",
     "iopub.status.busy": "2022-09-12T12:51:52.410997Z",
     "iopub.status.idle": "2022-09-12T12:51:52.421538Z",
     "shell.execute_reply": "2022-09-12T12:51:52.420572Z"
    },
    "papermill": {
     "duration": 0.030583,
     "end_time": "2022-09-12T12:51:52.423945",
     "exception": false,
     "start_time": "2022-09-12T12:51:52.393362",
     "status": "completed"
    },
    "tags": []
   },
   "outputs": [],
   "source": [
    "with open('../input/content-based-filtering-main/content_user_train_header.txt') as header:\n",
    "    for line in header:\n",
    "        #print(line[:-1].split(','))\n",
    "        user_header=line[:-1].split(',')"
   ]
  },
  {
   "cell_type": "code",
   "execution_count": 19,
   "id": "0a9fd9b5",
   "metadata": {
    "execution": {
     "iopub.execute_input": "2022-09-12T12:51:52.459005Z",
     "iopub.status.busy": "2022-09-12T12:51:52.458201Z",
     "iopub.status.idle": "2022-09-12T12:51:52.468718Z",
     "shell.execute_reply": "2022-09-12T12:51:52.467952Z"
    },
    "papermill": {
     "duration": 0.030518,
     "end_time": "2022-09-12T12:51:52.470990",
     "exception": false,
     "start_time": "2022-09-12T12:51:52.440472",
     "status": "completed"
    },
    "tags": []
   },
   "outputs": [],
   "source": [
    "users=pd.DataFrame([],columns=user_header)\n",
    "items=pd.DataFrame([],columns=my_item_vec.columns)\n",
    "y=pd.DataFrame([]) #actual ratings given by users"
   ]
  },
  {
   "cell_type": "code",
   "execution_count": 20,
   "id": "21d3e661",
   "metadata": {
    "execution": {
     "iopub.execute_input": "2022-09-12T12:51:52.505431Z",
     "iopub.status.busy": "2022-09-12T12:51:52.504636Z",
     "iopub.status.idle": "2022-09-12T12:51:56.188626Z",
     "shell.execute_reply": "2022-09-12T12:51:56.187337Z"
    },
    "papermill": {
     "duration": 3.704412,
     "end_time": "2022-09-12T12:51:56.191660",
     "exception": false,
     "start_time": "2022-09-12T12:51:52.487248",
     "status": "completed"
    },
    "tags": []
   },
   "outputs": [],
   "source": [
    "#We are creating training data so that there is 1 user that who has given rating to 1 item\n",
    "\n",
    "for user in user_to_genre:\n",
    "\n",
    "\n",
    "    #get all movie ids in list\n",
    "    movie_dict=user_to_genre[user]['movies']\n",
    "    \n",
    "    #select data of all movies with above movie_ids in my_item_vec\n",
    "    all_movies=my_item_vec[my_item_vec['movieId'].isin(movie_dict)].reset_index(drop=True)\n",
    "    \n",
    "    #select the ratings that user actually gave to the movies\n",
    "    user_ratings=all_movies['movieId'].apply(lambda all_movies_movie_id:movie_dict[all_movies_movie_id])  #returns ratings given to movie by this user\n",
    "    \n",
    "    #Combining to original training data\n",
    "    items=pd.concat([items,all_movies],axis=0,ignore_index=True)\n",
    "    y=pd.concat([y,user_ratings],axis=0,ignore_index=True)\n",
    "    \n",
    "    \n",
    "    #glist contains avg rating of user for different categories\n",
    "    #combining user id, rating count and rating ave with glist\n",
    "    combined_arr=np.c_[np.array([[user,user_to_genre[user]['rating_count'],user_to_genre[user]['rating_ave']]]),user_to_genre[user]['glist']]\n",
    "    \n",
    "    #No of movies rated\n",
    "    num_repeat=all_movies.shape[0]\n",
    "    \n",
    "    #Repeat user data equal to no. of movie data the user has rated\n",
    "    combined_arr_repeated=np.tile(combined_arr,(num_repeat,1))\n",
    "    \n",
    " \n",
    "    #Combining in original training data\n",
    "    users=pd.concat([users,pd.DataFrame(combined_arr_repeated,columns=user_header)],axis=0,ignore_index=True)\n",
    "        "
   ]
  },
  {
   "cell_type": "code",
   "execution_count": 21,
   "id": "9d76cc61",
   "metadata": {
    "execution": {
     "iopub.execute_input": "2022-09-12T12:51:56.227598Z",
     "iopub.status.busy": "2022-09-12T12:51:56.226751Z",
     "iopub.status.idle": "2022-09-12T12:51:56.239269Z",
     "shell.execute_reply": "2022-09-12T12:51:56.238250Z"
    },
    "papermill": {
     "duration": 0.033649,
     "end_time": "2022-09-12T12:51:56.242187",
     "exception": false,
     "start_time": "2022-09-12T12:51:56.208538",
     "status": "completed"
    },
    "tags": []
   },
   "outputs": [],
   "source": [
    "#Converting year from object to float \n",
    "items['year']=items['year'].astype(int)"
   ]
  },
  {
   "cell_type": "code",
   "execution_count": 22,
   "id": "00acdfac",
   "metadata": {
    "execution": {
     "iopub.execute_input": "2022-09-12T12:51:56.277304Z",
     "iopub.status.busy": "2022-09-12T12:51:56.276482Z",
     "iopub.status.idle": "2022-09-12T12:51:56.301372Z",
     "shell.execute_reply": "2022-09-12T12:51:56.300544Z"
    },
    "papermill": {
     "duration": 0.04495,
     "end_time": "2022-09-12T12:51:56.303699",
     "exception": false,
     "start_time": "2022-09-12T12:51:56.258749",
     "status": "completed"
    },
    "tags": []
   },
   "outputs": [
    {
     "data": {
      "text/html": [
       "<div>\n",
       "<style scoped>\n",
       "    .dataframe tbody tr th:only-of-type {\n",
       "        vertical-align: middle;\n",
       "    }\n",
       "\n",
       "    .dataframe tbody tr th {\n",
       "        vertical-align: top;\n",
       "    }\n",
       "\n",
       "    .dataframe thead th {\n",
       "        text-align: right;\n",
       "    }\n",
       "</style>\n",
       "<table border=\"1\" class=\"dataframe\">\n",
       "  <thead>\n",
       "    <tr style=\"text-align: right;\">\n",
       "      <th></th>\n",
       "      <th>user id</th>\n",
       "      <th>rating count</th>\n",
       "      <th>rating ave</th>\n",
       "      <th>Action</th>\n",
       "      <th>Adventure</th>\n",
       "      <th>Animation</th>\n",
       "      <th>Children</th>\n",
       "      <th>Comedy</th>\n",
       "      <th>Crime</th>\n",
       "      <th>Documentary</th>\n",
       "      <th>Drama</th>\n",
       "      <th>Fantasy</th>\n",
       "      <th>Horror</th>\n",
       "      <th>Mystery</th>\n",
       "      <th>Romance</th>\n",
       "      <th>Sci-Fi</th>\n",
       "      <th>Thriller</th>\n",
       "    </tr>\n",
       "  </thead>\n",
       "  <tbody>\n",
       "    <tr>\n",
       "      <th>0</th>\n",
       "      <td>2.0</td>\n",
       "      <td>16.0</td>\n",
       "      <td>4.0625</td>\n",
       "      <td>3.9</td>\n",
       "      <td>5.0</td>\n",
       "      <td>0.0</td>\n",
       "      <td>0.0</td>\n",
       "      <td>4.0</td>\n",
       "      <td>4.2</td>\n",
       "      <td>4.0</td>\n",
       "      <td>4.0</td>\n",
       "      <td>0.0</td>\n",
       "      <td>3.0</td>\n",
       "      <td>4.0</td>\n",
       "      <td>0.0</td>\n",
       "      <td>4.25</td>\n",
       "      <td>3.875</td>\n",
       "    </tr>\n",
       "    <tr>\n",
       "      <th>1</th>\n",
       "      <td>2.0</td>\n",
       "      <td>16.0</td>\n",
       "      <td>4.0625</td>\n",
       "      <td>3.9</td>\n",
       "      <td>5.0</td>\n",
       "      <td>0.0</td>\n",
       "      <td>0.0</td>\n",
       "      <td>4.0</td>\n",
       "      <td>4.2</td>\n",
       "      <td>4.0</td>\n",
       "      <td>4.0</td>\n",
       "      <td>0.0</td>\n",
       "      <td>3.0</td>\n",
       "      <td>4.0</td>\n",
       "      <td>0.0</td>\n",
       "      <td>4.25</td>\n",
       "      <td>3.875</td>\n",
       "    </tr>\n",
       "    <tr>\n",
       "      <th>2</th>\n",
       "      <td>2.0</td>\n",
       "      <td>16.0</td>\n",
       "      <td>4.0625</td>\n",
       "      <td>3.9</td>\n",
       "      <td>5.0</td>\n",
       "      <td>0.0</td>\n",
       "      <td>0.0</td>\n",
       "      <td>4.0</td>\n",
       "      <td>4.2</td>\n",
       "      <td>4.0</td>\n",
       "      <td>4.0</td>\n",
       "      <td>0.0</td>\n",
       "      <td>3.0</td>\n",
       "      <td>4.0</td>\n",
       "      <td>0.0</td>\n",
       "      <td>4.25</td>\n",
       "      <td>3.875</td>\n",
       "    </tr>\n",
       "    <tr>\n",
       "      <th>3</th>\n",
       "      <td>2.0</td>\n",
       "      <td>16.0</td>\n",
       "      <td>4.0625</td>\n",
       "      <td>3.9</td>\n",
       "      <td>5.0</td>\n",
       "      <td>0.0</td>\n",
       "      <td>0.0</td>\n",
       "      <td>4.0</td>\n",
       "      <td>4.2</td>\n",
       "      <td>4.0</td>\n",
       "      <td>4.0</td>\n",
       "      <td>0.0</td>\n",
       "      <td>3.0</td>\n",
       "      <td>4.0</td>\n",
       "      <td>0.0</td>\n",
       "      <td>4.25</td>\n",
       "      <td>3.875</td>\n",
       "    </tr>\n",
       "    <tr>\n",
       "      <th>4</th>\n",
       "      <td>2.0</td>\n",
       "      <td>16.0</td>\n",
       "      <td>4.0625</td>\n",
       "      <td>3.9</td>\n",
       "      <td>5.0</td>\n",
       "      <td>0.0</td>\n",
       "      <td>0.0</td>\n",
       "      <td>4.0</td>\n",
       "      <td>4.2</td>\n",
       "      <td>4.0</td>\n",
       "      <td>4.0</td>\n",
       "      <td>0.0</td>\n",
       "      <td>3.0</td>\n",
       "      <td>4.0</td>\n",
       "      <td>0.0</td>\n",
       "      <td>4.25</td>\n",
       "      <td>3.875</td>\n",
       "    </tr>\n",
       "  </tbody>\n",
       "</table>\n",
       "</div>"
      ],
      "text/plain": [
       "   user id  rating count  rating ave  Action  Adventure  Animation  Children  \\\n",
       "0      2.0          16.0      4.0625     3.9        5.0        0.0       0.0   \n",
       "1      2.0          16.0      4.0625     3.9        5.0        0.0       0.0   \n",
       "2      2.0          16.0      4.0625     3.9        5.0        0.0       0.0   \n",
       "3      2.0          16.0      4.0625     3.9        5.0        0.0       0.0   \n",
       "4      2.0          16.0      4.0625     3.9        5.0        0.0       0.0   \n",
       "\n",
       "   Comedy  Crime  Documentary  Drama  Fantasy  Horror  Mystery  Romance  \\\n",
       "0     4.0    4.2          4.0    4.0      0.0     3.0      4.0      0.0   \n",
       "1     4.0    4.2          4.0    4.0      0.0     3.0      4.0      0.0   \n",
       "2     4.0    4.2          4.0    4.0      0.0     3.0      4.0      0.0   \n",
       "3     4.0    4.2          4.0    4.0      0.0     3.0      4.0      0.0   \n",
       "4     4.0    4.2          4.0    4.0      0.0     3.0      4.0      0.0   \n",
       "\n",
       "   Sci-Fi  Thriller  \n",
       "0    4.25     3.875  \n",
       "1    4.25     3.875  \n",
       "2    4.25     3.875  \n",
       "3    4.25     3.875  \n",
       "4    4.25     3.875  "
      ]
     },
     "execution_count": 22,
     "metadata": {},
     "output_type": "execute_result"
    }
   ],
   "source": [
    "users.head()"
   ]
  },
  {
   "cell_type": "code",
   "execution_count": 23,
   "id": "92dfdd65",
   "metadata": {
    "execution": {
     "iopub.execute_input": "2022-09-12T12:51:56.339580Z",
     "iopub.status.busy": "2022-09-12T12:51:56.338803Z",
     "iopub.status.idle": "2022-09-12T12:51:56.358151Z",
     "shell.execute_reply": "2022-09-12T12:51:56.357262Z"
    },
    "papermill": {
     "duration": 0.039699,
     "end_time": "2022-09-12T12:51:56.360138",
     "exception": false,
     "start_time": "2022-09-12T12:51:56.320439",
     "status": "completed"
    },
    "tags": []
   },
   "outputs": [
    {
     "data": {
      "text/html": [
       "<div>\n",
       "<style scoped>\n",
       "    .dataframe tbody tr th:only-of-type {\n",
       "        vertical-align: middle;\n",
       "    }\n",
       "\n",
       "    .dataframe tbody tr th {\n",
       "        vertical-align: top;\n",
       "    }\n",
       "\n",
       "    .dataframe thead th {\n",
       "        text-align: right;\n",
       "    }\n",
       "</style>\n",
       "<table border=\"1\" class=\"dataframe\">\n",
       "  <thead>\n",
       "    <tr style=\"text-align: right;\">\n",
       "      <th></th>\n",
       "      <th>movieId</th>\n",
       "      <th>year</th>\n",
       "      <th>ave rating</th>\n",
       "      <th>Action</th>\n",
       "      <th>Adventure</th>\n",
       "      <th>Animation</th>\n",
       "      <th>Children</th>\n",
       "      <th>Comedy</th>\n",
       "      <th>Crime</th>\n",
       "      <th>Documentary</th>\n",
       "      <th>Drama</th>\n",
       "      <th>Fantasy</th>\n",
       "      <th>Horror</th>\n",
       "      <th>Mystery</th>\n",
       "      <th>Romance</th>\n",
       "      <th>Sci-Fi</th>\n",
       "      <th>Thriller</th>\n",
       "    </tr>\n",
       "  </thead>\n",
       "  <tbody>\n",
       "    <tr>\n",
       "      <th>0</th>\n",
       "      <td>6874</td>\n",
       "      <td>2003</td>\n",
       "      <td>3.961832</td>\n",
       "      <td>1</td>\n",
       "      <td>0</td>\n",
       "      <td>0</td>\n",
       "      <td>0</td>\n",
       "      <td>0</td>\n",
       "      <td>0</td>\n",
       "      <td>0</td>\n",
       "      <td>0</td>\n",
       "      <td>0</td>\n",
       "      <td>0</td>\n",
       "      <td>0</td>\n",
       "      <td>0</td>\n",
       "      <td>0</td>\n",
       "      <td>0</td>\n",
       "    </tr>\n",
       "    <tr>\n",
       "      <th>1</th>\n",
       "      <td>6874</td>\n",
       "      <td>2003</td>\n",
       "      <td>3.961832</td>\n",
       "      <td>0</td>\n",
       "      <td>0</td>\n",
       "      <td>0</td>\n",
       "      <td>0</td>\n",
       "      <td>0</td>\n",
       "      <td>1</td>\n",
       "      <td>0</td>\n",
       "      <td>0</td>\n",
       "      <td>0</td>\n",
       "      <td>0</td>\n",
       "      <td>0</td>\n",
       "      <td>0</td>\n",
       "      <td>0</td>\n",
       "      <td>0</td>\n",
       "    </tr>\n",
       "    <tr>\n",
       "      <th>2</th>\n",
       "      <td>6874</td>\n",
       "      <td>2003</td>\n",
       "      <td>3.961832</td>\n",
       "      <td>0</td>\n",
       "      <td>0</td>\n",
       "      <td>0</td>\n",
       "      <td>0</td>\n",
       "      <td>0</td>\n",
       "      <td>0</td>\n",
       "      <td>0</td>\n",
       "      <td>0</td>\n",
       "      <td>0</td>\n",
       "      <td>0</td>\n",
       "      <td>0</td>\n",
       "      <td>0</td>\n",
       "      <td>0</td>\n",
       "      <td>1</td>\n",
       "    </tr>\n",
       "    <tr>\n",
       "      <th>3</th>\n",
       "      <td>8798</td>\n",
       "      <td>2004</td>\n",
       "      <td>3.761364</td>\n",
       "      <td>1</td>\n",
       "      <td>0</td>\n",
       "      <td>0</td>\n",
       "      <td>0</td>\n",
       "      <td>0</td>\n",
       "      <td>0</td>\n",
       "      <td>0</td>\n",
       "      <td>0</td>\n",
       "      <td>0</td>\n",
       "      <td>0</td>\n",
       "      <td>0</td>\n",
       "      <td>0</td>\n",
       "      <td>0</td>\n",
       "      <td>0</td>\n",
       "    </tr>\n",
       "    <tr>\n",
       "      <th>4</th>\n",
       "      <td>8798</td>\n",
       "      <td>2004</td>\n",
       "      <td>3.761364</td>\n",
       "      <td>0</td>\n",
       "      <td>0</td>\n",
       "      <td>0</td>\n",
       "      <td>0</td>\n",
       "      <td>0</td>\n",
       "      <td>1</td>\n",
       "      <td>0</td>\n",
       "      <td>0</td>\n",
       "      <td>0</td>\n",
       "      <td>0</td>\n",
       "      <td>0</td>\n",
       "      <td>0</td>\n",
       "      <td>0</td>\n",
       "      <td>0</td>\n",
       "    </tr>\n",
       "  </tbody>\n",
       "</table>\n",
       "</div>"
      ],
      "text/plain": [
       "  movieId  year  ave rating Action Adventure Animation Children Comedy Crime  \\\n",
       "0    6874  2003    3.961832      1         0         0        0      0     0   \n",
       "1    6874  2003    3.961832      0         0         0        0      0     1   \n",
       "2    6874  2003    3.961832      0         0         0        0      0     0   \n",
       "3    8798  2004    3.761364      1         0         0        0      0     0   \n",
       "4    8798  2004    3.761364      0         0         0        0      0     1   \n",
       "\n",
       "  Documentary Drama Fantasy Horror Mystery Romance Sci-Fi Thriller  \n",
       "0           0     0       0      0       0       0      0        0  \n",
       "1           0     0       0      0       0       0      0        0  \n",
       "2           0     0       0      0       0       0      0        1  \n",
       "3           0     0       0      0       0       0      0        0  \n",
       "4           0     0       0      0       0       0      0        0  "
      ]
     },
     "execution_count": 23,
     "metadata": {},
     "output_type": "execute_result"
    }
   ],
   "source": [
    "items.head()"
   ]
  },
  {
   "cell_type": "code",
   "execution_count": 24,
   "id": "b95115bd",
   "metadata": {
    "execution": {
     "iopub.execute_input": "2022-09-12T12:51:56.396164Z",
     "iopub.status.busy": "2022-09-12T12:51:56.395410Z",
     "iopub.status.idle": "2022-09-12T12:51:56.405911Z",
     "shell.execute_reply": "2022-09-12T12:51:56.404942Z"
    },
    "papermill": {
     "duration": 0.03087,
     "end_time": "2022-09-12T12:51:56.408026",
     "exception": false,
     "start_time": "2022-09-12T12:51:56.377156",
     "status": "completed"
    },
    "tags": []
   },
   "outputs": [
    {
     "data": {
      "text/html": [
       "<div>\n",
       "<style scoped>\n",
       "    .dataframe tbody tr th:only-of-type {\n",
       "        vertical-align: middle;\n",
       "    }\n",
       "\n",
       "    .dataframe tbody tr th {\n",
       "        vertical-align: top;\n",
       "    }\n",
       "\n",
       "    .dataframe thead th {\n",
       "        text-align: right;\n",
       "    }\n",
       "</style>\n",
       "<table border=\"1\" class=\"dataframe\">\n",
       "  <thead>\n",
       "    <tr style=\"text-align: right;\">\n",
       "      <th></th>\n",
       "      <th>0</th>\n",
       "    </tr>\n",
       "  </thead>\n",
       "  <tbody>\n",
       "    <tr>\n",
       "      <th>0</th>\n",
       "      <td>4.0</td>\n",
       "    </tr>\n",
       "    <tr>\n",
       "      <th>1</th>\n",
       "      <td>4.0</td>\n",
       "    </tr>\n",
       "    <tr>\n",
       "      <th>2</th>\n",
       "      <td>4.0</td>\n",
       "    </tr>\n",
       "    <tr>\n",
       "      <th>3</th>\n",
       "      <td>3.5</td>\n",
       "    </tr>\n",
       "    <tr>\n",
       "      <th>4</th>\n",
       "      <td>3.5</td>\n",
       "    </tr>\n",
       "  </tbody>\n",
       "</table>\n",
       "</div>"
      ],
      "text/plain": [
       "     0\n",
       "0  4.0\n",
       "1  4.0\n",
       "2  4.0\n",
       "3  3.5\n",
       "4  3.5"
      ]
     },
     "execution_count": 24,
     "metadata": {},
     "output_type": "execute_result"
    }
   ],
   "source": [
    "y.head()"
   ]
  },
  {
   "cell_type": "markdown",
   "id": "e99c49e5",
   "metadata": {
    "papermill": {
     "duration": 0.019073,
     "end_time": "2022-09-12T12:51:56.444644",
     "exception": false,
     "start_time": "2022-09-12T12:51:56.425571",
     "status": "completed"
    },
    "tags": []
   },
   "source": [
    "##### Above, we can see that movie 6874 is an action movie released in 2003. User 2 rates action movies as 3.9 on average. Further, movie 6874 was also listed in the Crime and Thriller genre. MovieLens users gave the movie an average rating of 3.9. A training example consists of a row from both tables and a rating from y_train."
   ]
  },
  {
   "cell_type": "markdown",
   "id": "d082e0b6",
   "metadata": {
    "papermill": {
     "duration": 0.01693,
     "end_time": "2022-09-12T12:51:56.478722",
     "exception": false,
     "start_time": "2022-09-12T12:51:56.461792",
     "status": "completed"
    },
    "tags": []
   },
   "source": [
    "## Processing training data"
   ]
  },
  {
   "cell_type": "code",
   "execution_count": 25,
   "id": "0eeec413",
   "metadata": {
    "execution": {
     "iopub.execute_input": "2022-09-12T12:51:56.515111Z",
     "iopub.status.busy": "2022-09-12T12:51:56.514447Z",
     "iopub.status.idle": "2022-09-12T12:51:56.522164Z",
     "shell.execute_reply": "2022-09-12T12:51:56.520756Z"
    },
    "papermill": {
     "duration": 0.028611,
     "end_time": "2022-09-12T12:51:56.524516",
     "exception": false,
     "start_time": "2022-09-12T12:51:56.495905",
     "status": "completed"
    },
    "tags": []
   },
   "outputs": [
    {
     "name": "stdout",
     "output_type": "stream",
     "text": [
      "User features :  14  :  ['Action', 'Adventure', 'Animation', 'Children', 'Comedy', 'Crime', 'Documentary', 'Drama', 'Fantasy', 'Horror', 'Mystery', 'Romance', 'Sci-Fi', 'Thriller']\n",
      "Item features :  16  :  ['year', 'ave rating', 'Action', 'Adventure', 'Animation', 'Children', 'Comedy', 'Crime', 'Documentary', 'Drama', 'Fantasy', 'Horror', 'Mystery', 'Romance', 'Sci-Fi', 'Thriller']\n"
     ]
    }
   ],
   "source": [
    "#In model we will not use first 3 columns from from users set i.e 'user id','rating count' and 'rating ave' \n",
    "user_features=[col for col in users.columns if col not in ['user id','rating count','rating ave'] ]\n",
    "num_user_features=len(user_features)\n",
    "user_features_start=3   #Model takes values from 3rd column to last column\n",
    "\n",
    "#In model we will not use first column from items set i.e col 'movieId' \n",
    "item_features=[col for col in items.columns if col not in ['movieId'] ]\n",
    "num_item_features=len(item_features)\n",
    "item_features_start=1   #Model takes values from 1st column to last column\n",
    "\n",
    "print('User features : ',num_user_features,' : ',user_features)\n",
    "print('Item features : ',num_item_features,' : ',item_features)"
   ]
  },
  {
   "cell_type": "markdown",
   "id": "585e8c0a",
   "metadata": {
    "papermill": {
     "duration": 0.017032,
     "end_time": "2022-09-12T12:51:56.558991",
     "exception": false,
     "start_time": "2022-09-12T12:51:56.541959",
     "status": "completed"
    },
    "tags": []
   },
   "source": [
    "## Scaling"
   ]
  },
  {
   "cell_type": "code",
   "execution_count": 26,
   "id": "0c9ef6e3",
   "metadata": {
    "execution": {
     "iopub.execute_input": "2022-09-12T12:51:56.594896Z",
     "iopub.status.busy": "2022-09-12T12:51:56.594499Z",
     "iopub.status.idle": "2022-09-12T12:51:56.849690Z",
     "shell.execute_reply": "2022-09-12T12:51:56.848449Z"
    },
    "papermill": {
     "duration": 0.276134,
     "end_time": "2022-09-12T12:51:56.852371",
     "exception": false,
     "start_time": "2022-09-12T12:51:56.576237",
     "status": "completed"
    },
    "tags": []
   },
   "outputs": [],
   "source": [
    "#Scaling data\n",
    "from sklearn.preprocessing import StandardScaler\n",
    "\n",
    "scaledata=True\n",
    "if scaledata:\n",
    "    item_train_save = items.copy()\n",
    "    user_train_save = users.copy()\n",
    "    \n",
    "    scaler_items=StandardScaler()\n",
    "    items=pd.DataFrame(scaler_items.fit_transform(items),columns=items.columns)\n",
    "    \n",
    "    scaler_users=StandardScaler()\n",
    "    users=pd.DataFrame(scaler_users.fit_transform(users),columns=users.columns)\n"
   ]
  },
  {
   "cell_type": "code",
   "execution_count": 27,
   "id": "978dd5aa",
   "metadata": {
    "execution": {
     "iopub.execute_input": "2022-09-12T12:51:56.890239Z",
     "iopub.status.busy": "2022-09-12T12:51:56.889487Z",
     "iopub.status.idle": "2022-09-12T12:51:56.967866Z",
     "shell.execute_reply": "2022-09-12T12:51:56.966816Z"
    },
    "papermill": {
     "duration": 0.100301,
     "end_time": "2022-09-12T12:51:56.970497",
     "exception": false,
     "start_time": "2022-09-12T12:51:56.870196",
     "status": "completed"
    },
    "tags": []
   },
   "outputs": [],
   "source": [
    "#Splitting training and test data\n",
    "from sklearn.model_selection import train_test_split\n",
    "\n",
    "items_train,items_test=train_test_split(items,test_size=0.2,shuffle=True,random_state=1)\n",
    "users_train,users_test=train_test_split(users,test_size=0.2,shuffle=True,random_state=1)\n",
    "y_train,y_test=train_test_split(y,test_size=0.2,shuffle=True,random_state=1)\n"
   ]
  },
  {
   "cell_type": "code",
   "execution_count": 28,
   "id": "88c060d5",
   "metadata": {
    "execution": {
     "iopub.execute_input": "2022-09-12T12:51:57.007894Z",
     "iopub.status.busy": "2022-09-12T12:51:57.007298Z",
     "iopub.status.idle": "2022-09-12T12:51:57.016873Z",
     "shell.execute_reply": "2022-09-12T12:51:57.016088Z"
    },
    "papermill": {
     "duration": 0.0312,
     "end_time": "2022-09-12T12:51:57.019218",
     "exception": false,
     "start_time": "2022-09-12T12:51:56.988018",
     "status": "completed"
    },
    "tags": []
   },
   "outputs": [],
   "source": [
    "#Scale the target ratings using a Min Max Scaler to scale the target to be between -1 and 1. We use scikit-learn because it has an inverse_transform. \n",
    "from sklearn.preprocessing import MinMaxScaler\n",
    "\n",
    "y_scaler=MinMaxScaler((-1,1))\n",
    "y_train_norm=y_scaler.fit_transform(y_train)\n",
    "y_test_norm=y_scaler.transform(y_test)"
   ]
  },
  {
   "cell_type": "markdown",
   "id": "de20838a",
   "metadata": {
    "papermill": {
     "duration": 0.017562,
     "end_time": "2022-09-12T12:51:57.054802",
     "exception": false,
     "start_time": "2022-09-12T12:51:57.037240",
     "status": "completed"
    },
    "tags": []
   },
   "source": [
    "## Making model : Neural Network for content-based filtering\n",
    "Now, let's construct a neural network as described in the figure above. It will have two networks that are combined by a dot product. You will construct the two networks. In this example, they will be identical. Note that these networks do not need to be the same. If the user content was substantially larger than the movie content, you might elect to increase the complexity of the user network relative to the movie network. In this case, the content is similar, so the networks are the same.\n",
    "\n",
    "Use a Keras sequential model\n",
    "The first layer is a dense layer with 256 units and a relu activation.\n",
    "The second layer is a dense layer with 128 units and a relu activation.\n",
    "The third layer is a dense layer with num_outputs units and a linear or no activation."
   ]
  },
  {
   "cell_type": "code",
   "execution_count": 29,
   "id": "a6832f65",
   "metadata": {
    "execution": {
     "iopub.execute_input": "2022-09-12T12:51:57.092414Z",
     "iopub.status.busy": "2022-09-12T12:51:57.092031Z",
     "iopub.status.idle": "2022-09-12T12:51:58.598034Z",
     "shell.execute_reply": "2022-09-12T12:51:58.597270Z"
    },
    "papermill": {
     "duration": 1.52901,
     "end_time": "2022-09-12T12:51:58.601731",
     "exception": false,
     "start_time": "2022-09-12T12:51:57.072721",
     "status": "completed"
    },
    "tags": []
   },
   "outputs": [
    {
     "name": "stdout",
     "output_type": "stream",
     "text": [
      "Model: \"model\"\n",
      "__________________________________________________________________________________________________\n",
      "Layer (type)                    Output Shape         Param #     Connected to                     \n",
      "==================================================================================================\n",
      "input_1 (InputLayer)            [(None, 14)]         0                                            \n",
      "__________________________________________________________________________________________________\n",
      "input_2 (InputLayer)            [(None, 16)]         0                                            \n",
      "__________________________________________________________________________________________________\n",
      "sequential (Sequential)         (None, 32)           40864       input_1[0][0]                    \n",
      "__________________________________________________________________________________________________\n",
      "sequential_1 (Sequential)       (None, 32)           41376       input_2[0][0]                    \n",
      "__________________________________________________________________________________________________\n",
      "tf.math.l2_normalize (TFOpLambd (None, 32)           0           sequential[0][0]                 \n",
      "__________________________________________________________________________________________________\n",
      "tf.math.l2_normalize_1 (TFOpLam (None, 32)           0           sequential_1[0][0]               \n",
      "__________________________________________________________________________________________________\n",
      "dot (Dot)                       (None, 1)            0           tf.math.l2_normalize[0][0]       \n",
      "                                                                 tf.math.l2_normalize_1[0][0]     \n",
      "==================================================================================================\n",
      "Total params: 82,240\n",
      "Trainable params: 82,240\n",
      "Non-trainable params: 0\n",
      "__________________________________________________________________________________________________\n"
     ]
    },
    {
     "name": "stderr",
     "output_type": "stream",
     "text": [
      "2022-09-12 12:51:58.448770: I tensorflow/core/common_runtime/process_util.cc:146] Creating new thread pool with default inter op setting: 2. Tune using inter_op_parallelism_threads for best performance.\n"
     ]
    }
   ],
   "source": [
    "#Making Model\n",
    "num_outputs=32\n",
    "tf.random.set_seed(1)\n",
    "\n",
    "users_NN=tf.keras.models.Sequential([\n",
    "    tf.keras.layers.Dense(256,activation='relu'),\n",
    "    tf.keras.layers.Dense(128,activation='relu'),\n",
    "    tf.keras.layers.Dense(num_outputs,activation='linear'),\n",
    "])\n",
    "\n",
    "items_NN=tf.keras.models.Sequential([\n",
    "    tf.keras.layers.Dense(256,activation='relu'),\n",
    "    tf.keras.layers.Dense(128,activation='relu'),\n",
    "    tf.keras.layers.Dense(num_outputs,activation='linear'),\n",
    "])\n",
    "\n",
    "\n",
    "# create the user input and point to the base network\n",
    "users_input=tf.keras.layers.Input(shape=(num_user_features))\n",
    "vu=users_NN(users_input)\n",
    "vu=tf.linalg.l2_normalize(vu,axis=1)\n",
    "\n",
    "# create the item input and point to the base network\n",
    "items_input=tf.keras.layers.Input(shape=(num_item_features))\n",
    "vm=items_NN(items_input)\n",
    "vm=tf.linalg.l2_normalize(vm,axis=1)\n",
    "\n",
    "# compute the dot product of the two vectors vu and vm\n",
    "output=tf.keras.layers.Dot(axes=1)([vu,vm])\n",
    "\n",
    "#Specify input and output of model\n",
    "model=tf.keras.Model([users_input,items_input],output)\n",
    "\n",
    "model.summary()"
   ]
  },
  {
   "cell_type": "code",
   "execution_count": 30,
   "id": "2a60218c",
   "metadata": {
    "execution": {
     "iopub.execute_input": "2022-09-12T12:51:58.642896Z",
     "iopub.status.busy": "2022-09-12T12:51:58.642011Z",
     "iopub.status.idle": "2022-09-12T12:51:58.662905Z",
     "shell.execute_reply": "2022-09-12T12:51:58.661842Z"
    },
    "papermill": {
     "duration": 0.042419,
     "end_time": "2022-09-12T12:51:58.665258",
     "exception": false,
     "start_time": "2022-09-12T12:51:58.622839",
     "status": "completed"
    },
    "tags": []
   },
   "outputs": [],
   "source": [
    "tf.random.set_seed(1)\n",
    "cost_fun=tf.keras.losses.MeanSquaredError()\n",
    "optimizer=tf.keras.optimizers.Adam(learning_rate=0.01)\n",
    "model.compile(loss=cost_fun,optimizer=optimizer)"
   ]
  },
  {
   "cell_type": "code",
   "execution_count": 31,
   "id": "d43931d8",
   "metadata": {
    "execution": {
     "iopub.execute_input": "2022-09-12T12:51:58.718441Z",
     "iopub.status.busy": "2022-09-12T12:51:58.717670Z",
     "iopub.status.idle": "2022-09-12T12:55:21.567740Z",
     "shell.execute_reply": "2022-09-12T12:55:21.566471Z"
    },
    "papermill": {
     "duration": 203.070653,
     "end_time": "2022-09-12T12:55:21.762952",
     "exception": false,
     "start_time": "2022-09-12T12:51:58.692299",
     "status": "completed"
    },
    "tags": []
   },
   "outputs": [
    {
     "name": "stderr",
     "output_type": "stream",
     "text": [
      "2022-09-12 12:51:58.845750: I tensorflow/compiler/mlir/mlir_graph_optimization_pass.cc:185] None of the MLIR Optimization Passes are enabled (registered 2)\n"
     ]
    },
    {
     "name": "stdout",
     "output_type": "stream",
     "text": [
      "Epoch 1/30\n",
      "1455/1455 [==============================] - 6s 3ms/step - loss: 0.1253\n",
      "Epoch 2/30\n",
      "1455/1455 [==============================] - 5s 3ms/step - loss: 0.1182\n",
      "Epoch 3/30\n",
      "1455/1455 [==============================] - 5s 3ms/step - loss: 0.1167\n",
      "Epoch 4/30\n",
      "1455/1455 [==============================] - 5s 3ms/step - loss: 0.1150\n",
      "Epoch 5/30\n",
      "1455/1455 [==============================] - 5s 3ms/step - loss: 0.1141\n",
      "Epoch 6/30\n",
      "1455/1455 [==============================] - 5s 3ms/step - loss: 0.1127\n",
      "Epoch 7/30\n",
      "1455/1455 [==============================] - 6s 4ms/step - loss: 0.1120\n",
      "Epoch 8/30\n",
      "1455/1455 [==============================] - 5s 3ms/step - loss: 0.1113\n",
      "Epoch 9/30\n",
      "1455/1455 [==============================] - 5s 3ms/step - loss: 0.1103\n",
      "Epoch 10/30\n",
      "1455/1455 [==============================] - 5s 3ms/step - loss: 0.1098\n",
      "Epoch 11/30\n",
      "1455/1455 [==============================] - 5s 3ms/step - loss: 0.1081\n",
      "Epoch 12/30\n",
      "1455/1455 [==============================] - 5s 3ms/step - loss: 0.1074\n",
      "Epoch 13/30\n",
      "1455/1455 [==============================] - 6s 4ms/step - loss: 0.1065\n",
      "Epoch 14/30\n",
      "1455/1455 [==============================] - 5s 3ms/step - loss: 0.1057\n",
      "Epoch 15/30\n",
      "1455/1455 [==============================] - 5s 3ms/step - loss: 0.1052\n",
      "Epoch 16/30\n",
      "1455/1455 [==============================] - 5s 3ms/step - loss: 0.1046\n",
      "Epoch 17/30\n",
      "1455/1455 [==============================] - 5s 3ms/step - loss: 0.1041\n",
      "Epoch 18/30\n",
      "1455/1455 [==============================] - 5s 3ms/step - loss: 0.1039\n",
      "Epoch 19/30\n",
      "1455/1455 [==============================] - 5s 4ms/step - loss: 0.1032\n",
      "Epoch 20/30\n",
      "1455/1455 [==============================] - 5s 3ms/step - loss: 0.1028\n",
      "Epoch 21/30\n",
      "1455/1455 [==============================] - 5s 3ms/step - loss: 0.1023\n",
      "Epoch 22/30\n",
      "1455/1455 [==============================] - 5s 3ms/step - loss: 0.1018\n",
      "Epoch 23/30\n",
      "1455/1455 [==============================] - 5s 3ms/step - loss: 0.1014\n",
      "Epoch 24/30\n",
      "1455/1455 [==============================] - 5s 3ms/step - loss: 0.1010\n",
      "Epoch 25/30\n",
      "1455/1455 [==============================] - 5s 3ms/step - loss: 0.1008\n",
      "Epoch 26/30\n",
      "1455/1455 [==============================] - 5s 4ms/step - loss: 0.1002\n",
      "Epoch 27/30\n",
      "1455/1455 [==============================] - 5s 3ms/step - loss: 0.1000\n",
      "Epoch 28/30\n",
      "1455/1455 [==============================] - 5s 3ms/step - loss: 0.0997\n",
      "Epoch 29/30\n",
      "1455/1455 [==============================] - 5s 3ms/step - loss: 0.0994\n",
      "Epoch 30/30\n",
      "1455/1455 [==============================] - 5s 3ms/step - loss: 0.0990\n"
     ]
    },
    {
     "data": {
      "text/plain": [
       "<keras.callbacks.History at 0x7fefb79dae50>"
      ]
     },
     "execution_count": 31,
     "metadata": {},
     "output_type": "execute_result"
    }
   ],
   "source": [
    "model.fit([users_train[user_features],items_train[item_features]],y_train_norm,epochs=30)"
   ]
  },
  {
   "cell_type": "code",
   "execution_count": 32,
   "id": "78882db8",
   "metadata": {
    "execution": {
     "iopub.execute_input": "2022-09-12T12:55:22.241913Z",
     "iopub.status.busy": "2022-09-12T12:55:22.240983Z",
     "iopub.status.idle": "2022-09-12T12:55:23.194412Z",
     "shell.execute_reply": "2022-09-12T12:55:23.193119Z"
    },
    "papermill": {
     "duration": 1.231194,
     "end_time": "2022-09-12T12:55:23.196783",
     "exception": false,
     "start_time": "2022-09-12T12:55:21.965589",
     "status": "completed"
    },
    "tags": []
   },
   "outputs": [
    {
     "name": "stdout",
     "output_type": "stream",
     "text": [
      "364/364 [==============================] - 1s 2ms/step - loss: 0.1051\n"
     ]
    },
    {
     "data": {
      "text/plain": [
       "0.10508551448583603"
      ]
     },
     "execution_count": 32,
     "metadata": {},
     "output_type": "execute_result"
    }
   ],
   "source": [
    "model.evaluate([users_test[user_features],items_test[item_features]],y_test_norm)"
   ]
  },
  {
   "cell_type": "markdown",
   "id": "055ab344",
   "metadata": {
    "papermill": {
     "duration": 0.194693,
     "end_time": "2022-09-12T12:55:23.583420",
     "exception": false,
     "start_time": "2022-09-12T12:55:23.388727",
     "status": "completed"
    },
    "tags": []
   },
   "source": [
    "# Predictions\n"
   ]
  },
  {
   "cell_type": "code",
   "execution_count": 33,
   "id": "7346e7b7",
   "metadata": {
    "execution": {
     "iopub.execute_input": "2022-09-12T12:55:23.962123Z",
     "iopub.status.busy": "2022-09-12T12:55:23.961715Z",
     "iopub.status.idle": "2022-09-12T12:55:23.968329Z",
     "shell.execute_reply": "2022-09-12T12:55:23.967486Z"
    },
    "papermill": {
     "duration": 0.19852,
     "end_time": "2022-09-12T12:55:23.970312",
     "exception": false,
     "start_time": "2022-09-12T12:55:23.771792",
     "status": "completed"
    },
    "tags": []
   },
   "outputs": [],
   "source": [
    "def predict_user_ratings(model,user_vec,my_item_vec,user_features_start,item_features_start,scaler_items,scaler_users,y_scaler,scaledata):\n",
    "\n",
    "    #All the movies are in my_item_vec \n",
    "    #We will populate user_vec so that its no. of rows is equal to no. of rows in my_item_vec\n",
    "    user_vecs=np.tile(user_vec,(my_item_vec.shape[0],1))\n",
    "\n",
    "    #Scaling data if scaledata = True\n",
    "    if scaledata:\n",
    "        user_vecs=scaler_users.transform(user_vecs)\n",
    "        item_vecs=scaler_items.transform(my_item_vec)\n",
    "\n",
    "    #predict rating\n",
    "    y_p=model.predict([user_vecs[:,user_features_start:],item_vecs[:,item_features_start:]])\n",
    "\n",
    "    #inverse transform predicted rantings to get actual ratings\n",
    "    y_p=y_scaler.inverse_transform(y_p)\n",
    "\n",
    "    return y_p"
   ]
  },
  {
   "cell_type": "markdown",
   "id": "61d6bf49",
   "metadata": {
    "papermill": {
     "duration": 0.188862,
     "end_time": "2022-09-12T12:55:24.345240",
     "exception": false,
     "start_time": "2022-09-12T12:55:24.156378",
     "status": "completed"
    },
    "tags": []
   },
   "source": [
    "## Predictions for a new user\n",
    "\n",
    "First, we'll create a new user and have the model suggest movies for that user. After you have tried this example on the example user content, feel free to change the user content to match your own preferences and see what the model suggests. Note that ratings are between 0.5 and 5.0, inclusive, in half-step increments."
   ]
  },
  {
   "cell_type": "code",
   "execution_count": 34,
   "id": "7bf26e36",
   "metadata": {
    "execution": {
     "iopub.execute_input": "2022-09-12T12:55:24.726141Z",
     "iopub.status.busy": "2022-09-12T12:55:24.725608Z",
     "iopub.status.idle": "2022-09-12T12:55:24.732675Z",
     "shell.execute_reply": "2022-09-12T12:55:24.731822Z"
    },
    "papermill": {
     "duration": 0.198238,
     "end_time": "2022-09-12T12:55:24.734731",
     "exception": false,
     "start_time": "2022-09-12T12:55:24.536493",
     "status": "completed"
    },
    "tags": []
   },
   "outputs": [],
   "source": [
    "new_user_id = 5000\n",
    "new_rating_ave = 1.0\n",
    "new_action = 1.0\n",
    "new_adventure = 1\n",
    "new_animation = 1\n",
    "new_childrens = 1\n",
    "new_comedy = 5\n",
    "new_crime = 1\n",
    "new_documentary = 1\n",
    "new_drama = 1\n",
    "new_fantasy = 1\n",
    "new_horror = 1\n",
    "new_mystery = 1\n",
    "new_romance = 5\n",
    "new_scifi = 5\n",
    "new_thriller = 1\n",
    "new_rating_count = 3\n",
    "\n",
    "user_vec = np.array([[new_user_id, new_rating_count, new_rating_ave,\n",
    "                      new_action, new_adventure, new_animation, new_childrens,\n",
    "                      new_comedy, new_crime, new_documentary,\n",
    "                      new_drama, new_fantasy, new_horror, new_mystery,\n",
    "                      new_romance, new_scifi, new_thriller]])"
   ]
  },
  {
   "cell_type": "code",
   "execution_count": 35,
   "id": "1c917f8f",
   "metadata": {
    "execution": {
     "iopub.execute_input": "2022-09-12T12:55:25.165380Z",
     "iopub.status.busy": "2022-09-12T12:55:25.164429Z",
     "iopub.status.idle": "2022-09-12T12:55:25.445211Z",
     "shell.execute_reply": "2022-09-12T12:55:25.444189Z"
    },
    "papermill": {
     "duration": 0.474808,
     "end_time": "2022-09-12T12:55:25.447941",
     "exception": false,
     "start_time": "2022-09-12T12:55:24.973133",
     "status": "completed"
    },
    "tags": []
   },
   "outputs": [
    {
     "name": "stderr",
     "output_type": "stream",
     "text": [
      "/opt/conda/lib/python3.7/site-packages/sklearn/base.py:451: UserWarning: X does not have valid feature names, but StandardScaler was fitted with feature names\n",
      "  \"X does not have valid feature names, but\"\n"
     ]
    }
   ],
   "source": [
    "#For new user we will predict rating for all the movies\n",
    "y_p=predict_user_ratings(model,user_vec,my_item_vec,user_features_start,item_features_start,scaler_items,scaler_users,y_scaler,scaledata=scaledata)"
   ]
  },
  {
   "cell_type": "code",
   "execution_count": 36,
   "id": "a059b30b",
   "metadata": {
    "execution": {
     "iopub.execute_input": "2022-09-12T12:55:25.831693Z",
     "iopub.status.busy": "2022-09-12T12:55:25.831282Z",
     "iopub.status.idle": "2022-09-12T12:55:25.850173Z",
     "shell.execute_reply": "2022-09-12T12:55:25.849269Z"
    },
    "papermill": {
     "duration": 0.212941,
     "end_time": "2022-09-12T12:55:25.852263",
     "exception": false,
     "start_time": "2022-09-12T12:55:25.639322",
     "status": "completed"
    },
    "tags": []
   },
   "outputs": [
    {
     "data": {
      "text/html": [
       "<div>\n",
       "<style scoped>\n",
       "    .dataframe tbody tr th:only-of-type {\n",
       "        vertical-align: middle;\n",
       "    }\n",
       "\n",
       "    .dataframe tbody tr th {\n",
       "        vertical-align: top;\n",
       "    }\n",
       "\n",
       "    .dataframe thead th {\n",
       "        text-align: right;\n",
       "    }\n",
       "</style>\n",
       "<table border=\"1\" class=\"dataframe\">\n",
       "  <thead>\n",
       "    <tr style=\"text-align: right;\">\n",
       "      <th></th>\n",
       "      <th>movieId</th>\n",
       "      <th>year</th>\n",
       "      <th>ave rating</th>\n",
       "      <th>title</th>\n",
       "      <th>genres</th>\n",
       "      <th>y_p</th>\n",
       "    </tr>\n",
       "  </thead>\n",
       "  <tbody>\n",
       "    <tr>\n",
       "      <th>1617</th>\n",
       "      <td>99007</td>\n",
       "      <td>2013</td>\n",
       "      <td>3.500000</td>\n",
       "      <td>Warm Bodies</td>\n",
       "      <td>Romance</td>\n",
       "      <td>4.883364</td>\n",
       "    </tr>\n",
       "    <tr>\n",
       "      <th>1786</th>\n",
       "      <td>129354</td>\n",
       "      <td>2015</td>\n",
       "      <td>3.250000</td>\n",
       "      <td>Focus</td>\n",
       "      <td>Romance</td>\n",
       "      <td>4.876941</td>\n",
       "    </tr>\n",
       "    <tr>\n",
       "      <th>1446</th>\n",
       "      <td>76293</td>\n",
       "      <td>2010</td>\n",
       "      <td>3.318182</td>\n",
       "      <td>Date Night</td>\n",
       "      <td>Romance</td>\n",
       "      <td>4.866772</td>\n",
       "    </tr>\n",
       "    <tr>\n",
       "      <th>1794</th>\n",
       "      <td>134393</td>\n",
       "      <td>2015</td>\n",
       "      <td>3.200000</td>\n",
       "      <td>Trainwreck</td>\n",
       "      <td>Romance</td>\n",
       "      <td>4.863999</td>\n",
       "    </tr>\n",
       "    <tr>\n",
       "      <th>1522</th>\n",
       "      <td>86882</td>\n",
       "      <td>2011</td>\n",
       "      <td>3.560000</td>\n",
       "      <td>Midnight in Paris</td>\n",
       "      <td>Romance</td>\n",
       "      <td>4.854064</td>\n",
       "    </tr>\n",
       "    <tr>\n",
       "      <th>...</th>\n",
       "      <td>...</td>\n",
       "      <td>...</td>\n",
       "      <td>...</td>\n",
       "      <td>...</td>\n",
       "      <td>...</td>\n",
       "      <td>...</td>\n",
       "    </tr>\n",
       "    <tr>\n",
       "      <th>4</th>\n",
       "      <td>4148</td>\n",
       "      <td>2001</td>\n",
       "      <td>2.935897</td>\n",
       "      <td>Hannibal</td>\n",
       "      <td>Horror</td>\n",
       "      <td>3.036722</td>\n",
       "    </tr>\n",
       "    <tr>\n",
       "      <th>694</th>\n",
       "      <td>8957</td>\n",
       "      <td>2004</td>\n",
       "      <td>3.181818</td>\n",
       "      <td>Saw</td>\n",
       "      <td>Horror</td>\n",
       "      <td>3.018564</td>\n",
       "    </tr>\n",
       "    <tr>\n",
       "      <th>368</th>\n",
       "      <td>6058</td>\n",
       "      <td>2003</td>\n",
       "      <td>3.050000</td>\n",
       "      <td>Final Destination 2</td>\n",
       "      <td>Horror</td>\n",
       "      <td>3.013533</td>\n",
       "    </tr>\n",
       "    <tr>\n",
       "      <th>209</th>\n",
       "      <td>5219</td>\n",
       "      <td>2002</td>\n",
       "      <td>3.083333</td>\n",
       "      <td>Resident Evil</td>\n",
       "      <td>Horror</td>\n",
       "      <td>3.010256</td>\n",
       "    </tr>\n",
       "    <tr>\n",
       "      <th>184</th>\n",
       "      <td>5065</td>\n",
       "      <td>2002</td>\n",
       "      <td>3.076923</td>\n",
       "      <td>Mothman Prophecies, The</td>\n",
       "      <td>Horror</td>\n",
       "      <td>3.008125</td>\n",
       "    </tr>\n",
       "  </tbody>\n",
       "</table>\n",
       "<p>1883 rows × 6 columns</p>\n",
       "</div>"
      ],
      "text/plain": [
       "      movieId  year  ave rating                    title   genres       y_p\n",
       "1617    99007  2013    3.500000              Warm Bodies  Romance  4.883364\n",
       "1786   129354  2015    3.250000                    Focus  Romance  4.876941\n",
       "1446    76293  2010    3.318182               Date Night  Romance  4.866772\n",
       "1794   134393  2015    3.200000               Trainwreck  Romance  4.863999\n",
       "1522    86882  2011    3.560000        Midnight in Paris  Romance  4.854064\n",
       "...       ...   ...         ...                      ...      ...       ...\n",
       "4        4148  2001    2.935897                 Hannibal   Horror  3.036722\n",
       "694      8957  2004    3.181818                      Saw   Horror  3.018564\n",
       "368      6058  2003    3.050000      Final Destination 2   Horror  3.013533\n",
       "209      5219  2002    3.083333            Resident Evil   Horror  3.010256\n",
       "184      5065  2002    3.076923  Mothman Prophecies, The   Horror  3.008125\n",
       "\n",
       "[1883 rows x 6 columns]"
      ]
     },
     "execution_count": 36,
     "metadata": {},
     "output_type": "execute_result"
    }
   ],
   "source": [
    "movie_list_seperated_genres['y_p']=y_p\n",
    "movie_list_seperated_genres.sort_values(by='y_p',ascending=False)\n"
   ]
  },
  {
   "cell_type": "markdown",
   "id": "4d98d13a",
   "metadata": {
    "papermill": {
     "duration": 0.19199,
     "end_time": "2022-09-12T12:55:26.232580",
     "exception": false,
     "start_time": "2022-09-12T12:55:26.040590",
     "status": "completed"
    },
    "tags": []
   },
   "source": [
    "## Prediction for existing user"
   ]
  },
  {
   "cell_type": "code",
   "execution_count": 37,
   "id": "821187d9",
   "metadata": {
    "execution": {
     "iopub.execute_input": "2022-09-12T12:55:26.622709Z",
     "iopub.status.busy": "2022-09-12T12:55:26.621761Z",
     "iopub.status.idle": "2022-09-12T12:55:26.779548Z",
     "shell.execute_reply": "2022-09-12T12:55:26.777845Z"
    },
    "papermill": {
     "duration": 0.355515,
     "end_time": "2022-09-12T12:55:26.782101",
     "exception": false,
     "start_time": "2022-09-12T12:55:26.426586",
     "status": "completed"
    },
    "tags": []
   },
   "outputs": [
    {
     "name": "stdout",
     "output_type": "stream",
     "text": [
      "[ 3.6000000e+01  4.0000000e+00  1.8750000e+00  3.0000000e+00\n",
      "  3.0000000e+00  0.0000000e+00  0.0000000e+00 -4.4408921e-16\n",
      "  1.7500000e+00  0.0000000e+00  1.5000000e+00 -4.4408921e-16\n",
      "  0.0000000e+00  0.0000000e+00  1.0000000e+00  3.0000000e+00\n",
      "  0.0000000e+00]\n"
     ]
    },
    {
     "name": "stderr",
     "output_type": "stream",
     "text": [
      "/opt/conda/lib/python3.7/site-packages/sklearn/base.py:451: UserWarning: X does not have valid feature names, but StandardScaler was fitted with feature names\n",
      "  \"X does not have valid feature names, but\"\n"
     ]
    }
   ],
   "source": [
    "#get ratings for given user id\n",
    "user_id=36\n",
    "\n",
    "old_user_vec=scaler_users.inverse_transform(users_train)[scaler_users.inverse_transform(users_train)[:,0]==user_id][0]\n",
    "print(old_user_vec)\n",
    "\n",
    "# predict rating for all the movies\n",
    "y_p=predict_user_ratings(model,old_user_vec,my_item_vec,user_features_start,item_features_start,scaler_items,scaler_users,y_scaler,scaledata=scaledata)"
   ]
  },
  {
   "cell_type": "code",
   "execution_count": 38,
   "id": "022b7bdd",
   "metadata": {
    "execution": {
     "iopub.execute_input": "2022-09-12T12:55:27.220869Z",
     "iopub.status.busy": "2022-09-12T12:55:27.220182Z",
     "iopub.status.idle": "2022-09-12T12:55:27.247154Z",
     "shell.execute_reply": "2022-09-12T12:55:27.246006Z"
    },
    "papermill": {
     "duration": 0.277204,
     "end_time": "2022-09-12T12:55:27.249540",
     "exception": false,
     "start_time": "2022-09-12T12:55:26.972336",
     "status": "completed"
    },
    "tags": []
   },
   "outputs": [
    {
     "data": {
      "text/html": [
       "<div>\n",
       "<style scoped>\n",
       "    .dataframe tbody tr th:only-of-type {\n",
       "        vertical-align: middle;\n",
       "    }\n",
       "\n",
       "    .dataframe tbody tr th {\n",
       "        vertical-align: top;\n",
       "    }\n",
       "\n",
       "    .dataframe thead th {\n",
       "        text-align: right;\n",
       "    }\n",
       "</style>\n",
       "<table border=\"1\" class=\"dataframe\">\n",
       "  <thead>\n",
       "    <tr style=\"text-align: right;\">\n",
       "      <th></th>\n",
       "      <th>movieId</th>\n",
       "      <th>year</th>\n",
       "      <th>ave rating</th>\n",
       "      <th>title</th>\n",
       "      <th>genres</th>\n",
       "      <th>y_p</th>\n",
       "      <th>y_actual</th>\n",
       "    </tr>\n",
       "  </thead>\n",
       "  <tbody>\n",
       "    <tr>\n",
       "      <th>202</th>\n",
       "      <td>5171</td>\n",
       "      <td>2002</td>\n",
       "      <td>2.863636</td>\n",
       "      <td>Time Machine, The</td>\n",
       "      <td>Adventure</td>\n",
       "      <td>3.530630</td>\n",
       "      <td>3.0</td>\n",
       "    </tr>\n",
       "    <tr>\n",
       "      <th>201</th>\n",
       "      <td>5171</td>\n",
       "      <td>2002</td>\n",
       "      <td>2.863636</td>\n",
       "      <td>Time Machine, The</td>\n",
       "      <td>Action</td>\n",
       "      <td>3.397854</td>\n",
       "      <td>3.0</td>\n",
       "    </tr>\n",
       "    <tr>\n",
       "      <th>203</th>\n",
       "      <td>5171</td>\n",
       "      <td>2002</td>\n",
       "      <td>2.863636</td>\n",
       "      <td>Time Machine, The</td>\n",
       "      <td>Sci-Fi</td>\n",
       "      <td>3.270348</td>\n",
       "      <td>3.0</td>\n",
       "    </tr>\n",
       "    <tr>\n",
       "      <th>351</th>\n",
       "      <td>5956</td>\n",
       "      <td>2002</td>\n",
       "      <td>3.518182</td>\n",
       "      <td>Gangs of New York</td>\n",
       "      <td>Crime</td>\n",
       "      <td>1.860660</td>\n",
       "      <td>2.0</td>\n",
       "    </tr>\n",
       "    <tr>\n",
       "      <th>279</th>\n",
       "      <td>5464</td>\n",
       "      <td>2002</td>\n",
       "      <td>3.520408</td>\n",
       "      <td>Road to Perdition</td>\n",
       "      <td>Crime</td>\n",
       "      <td>1.860514</td>\n",
       "      <td>1.5</td>\n",
       "    </tr>\n",
       "    <tr>\n",
       "      <th>352</th>\n",
       "      <td>5956</td>\n",
       "      <td>2002</td>\n",
       "      <td>3.518182</td>\n",
       "      <td>Gangs of New York</td>\n",
       "      <td>Drama</td>\n",
       "      <td>1.574607</td>\n",
       "      <td>2.0</td>\n",
       "    </tr>\n",
       "    <tr>\n",
       "      <th>280</th>\n",
       "      <td>5464</td>\n",
       "      <td>2002</td>\n",
       "      <td>3.520408</td>\n",
       "      <td>Road to Perdition</td>\n",
       "      <td>Drama</td>\n",
       "      <td>1.572528</td>\n",
       "      <td>1.5</td>\n",
       "    </tr>\n",
       "    <tr>\n",
       "      <th>167</th>\n",
       "      <td>4995</td>\n",
       "      <td>2001</td>\n",
       "      <td>4.000000</td>\n",
       "      <td>Beautiful Mind, A</td>\n",
       "      <td>Romance</td>\n",
       "      <td>1.537954</td>\n",
       "      <td>1.0</td>\n",
       "    </tr>\n",
       "    <tr>\n",
       "      <th>166</th>\n",
       "      <td>4995</td>\n",
       "      <td>2001</td>\n",
       "      <td>4.000000</td>\n",
       "      <td>Beautiful Mind, A</td>\n",
       "      <td>Drama</td>\n",
       "      <td>1.495595</td>\n",
       "      <td>1.0</td>\n",
       "    </tr>\n",
       "  </tbody>\n",
       "</table>\n",
       "</div>"
      ],
      "text/plain": [
       "     movieId  year  ave rating              title     genres       y_p  \\\n",
       "202     5171  2002    2.863636  Time Machine, The  Adventure  3.530630   \n",
       "201     5171  2002    2.863636  Time Machine, The     Action  3.397854   \n",
       "203     5171  2002    2.863636  Time Machine, The     Sci-Fi  3.270348   \n",
       "351     5956  2002    3.518182  Gangs of New York      Crime  1.860660   \n",
       "279     5464  2002    3.520408  Road to Perdition      Crime  1.860514   \n",
       "352     5956  2002    3.518182  Gangs of New York      Drama  1.574607   \n",
       "280     5464  2002    3.520408  Road to Perdition      Drama  1.572528   \n",
       "167     4995  2001    4.000000  Beautiful Mind, A    Romance  1.537954   \n",
       "166     4995  2001    4.000000  Beautiful Mind, A      Drama  1.495595   \n",
       "\n",
       "     y_actual  \n",
       "202       3.0  \n",
       "201       3.0  \n",
       "203       3.0  \n",
       "351       2.0  \n",
       "279       1.5  \n",
       "352       2.0  \n",
       "280       1.5  \n",
       "167       1.0  \n",
       "166       1.0  "
      ]
     },
     "execution_count": 38,
     "metadata": {},
     "output_type": "execute_result"
    }
   ],
   "source": [
    "movie_list_seperated_genres['y_p']=y_p\n",
    "movie_list_seperated_genres['y_actual']=0\n",
    "\n",
    "for i in user_to_genre[user_id]['movies']:\n",
    "    movie_list_seperated_genres['y_actual'][movie_list_seperated_genres['movieId']==i]=user_to_genre[user_id]['movies'][i]\n",
    "    \n",
    "movie_list_seperated_genres[movie_list_seperated_genres['y_actual']!=0].sort_values(by='y_p',ascending=False)\n",
    "\n",
    "#y_actual is the actual rating of user and y_p is predicted rating "
   ]
  },
  {
   "cell_type": "code",
   "execution_count": 39,
   "id": "75ba255e",
   "metadata": {
    "execution": {
     "iopub.execute_input": "2022-09-12T12:55:27.630345Z",
     "iopub.status.busy": "2022-09-12T12:55:27.629627Z",
     "iopub.status.idle": "2022-09-12T12:55:27.635218Z",
     "shell.execute_reply": "2022-09-12T12:55:27.634444Z"
    },
    "papermill": {
     "duration": 0.198282,
     "end_time": "2022-09-12T12:55:27.637176",
     "exception": false,
     "start_time": "2022-09-12T12:55:27.438894",
     "status": "completed"
    },
    "tags": []
   },
   "outputs": [],
   "source": [
    "movie_list_seperated_genres.drop(['y_p','y_actual'],axis=1,inplace=True)"
   ]
  },
  {
   "cell_type": "markdown",
   "id": "2ea43713",
   "metadata": {
    "papermill": {
     "duration": 0.191781,
     "end_time": "2022-09-12T12:55:28.018615",
     "exception": false,
     "start_time": "2022-09-12T12:55:27.826834",
     "status": "completed"
    },
    "tags": []
   },
   "source": [
    "## Finding Similar Items\n",
    "The neural network above produces two feature vectors, a user feature vector Vu, and a movie feature vector Vm. These are 32 entry vectors whose values are difficult to interpret. However, similar items will have similar vectors. This information can be used to make recommendations. For example, if a user has rated \"Toy Story 3\" highly, one could recommend similar movies by selecting movies with similar movie feature vectors.\n",
    "<br>\n",
    "A similarity measure is the squared distance between the two vectors"
   ]
  },
  {
   "cell_type": "markdown",
   "id": "4c8bf2ba",
   "metadata": {
    "papermill": {
     "duration": 0.193314,
     "end_time": "2022-09-12T12:55:28.405819",
     "exception": false,
     "start_time": "2022-09-12T12:55:28.212505",
     "status": "completed"
    },
    "tags": []
   },
   "source": [
    "## Getting feature vector for movies : Vm"
   ]
  },
  {
   "cell_type": "markdown",
   "id": "ac49b099",
   "metadata": {
    "papermill": {
     "duration": 0.191395,
     "end_time": "2022-09-12T12:55:28.790925",
     "exception": false,
     "start_time": "2022-09-12T12:55:28.599530",
     "status": "completed"
    },
    "tags": []
   },
   "source": [
    "A matrix of distances between movies can be computed once when the model is trained and then reused for new recommendations without retraining. The first step, once a model is trained, is to obtain the movie feature vector Vm, for each of the movies. To do this, we will use the trained item_NN and build a small model to allow us to run the movie vectors through it to generate Vm."
   ]
  },
  {
   "cell_type": "code",
   "execution_count": 40,
   "id": "69dc6304",
   "metadata": {
    "execution": {
     "iopub.execute_input": "2022-09-12T12:55:29.170712Z",
     "iopub.status.busy": "2022-09-12T12:55:29.170027Z",
     "iopub.status.idle": "2022-09-12T12:55:29.197005Z",
     "shell.execute_reply": "2022-09-12T12:55:29.195365Z"
    },
    "papermill": {
     "duration": 0.220206,
     "end_time": "2022-09-12T12:55:29.199582",
     "exception": false,
     "start_time": "2022-09-12T12:55:28.979376",
     "status": "completed"
    },
    "tags": []
   },
   "outputs": [
    {
     "name": "stdout",
     "output_type": "stream",
     "text": [
      "Model: \"model_1\"\n",
      "_________________________________________________________________\n",
      "Layer (type)                 Output Shape              Param #   \n",
      "=================================================================\n",
      "input_3 (InputLayer)         [(None, 16)]              0         \n",
      "_________________________________________________________________\n",
      "sequential_1 (Sequential)    (None, 32)                41376     \n",
      "_________________________________________________________________\n",
      "tf.math.l2_normalize_2 (TFOp (None, 32)                0         \n",
      "=================================================================\n",
      "Total params: 41,376\n",
      "Trainable params: 41,376\n",
      "Non-trainable params: 0\n",
      "_________________________________________________________________\n"
     ]
    }
   ],
   "source": [
    "input_item_m=tf.keras.layers.Input(shape=(num_item_features))\n",
    "vm_m=items_NN(input_item_m)\n",
    "vm_m=tf.linalg.l2_normalize(vm_m)\n",
    "\n",
    "model_m=tf.keras.Model(input_item_m,vm_m)\n",
    "model_m.summary()"
   ]
  },
  {
   "cell_type": "code",
   "execution_count": 41,
   "id": "07aeba7b",
   "metadata": {
    "execution": {
     "iopub.execute_input": "2022-09-12T12:55:29.631195Z",
     "iopub.status.busy": "2022-09-12T12:55:29.630511Z",
     "iopub.status.idle": "2022-09-12T12:55:29.803140Z",
     "shell.execute_reply": "2022-09-12T12:55:29.802298Z"
    },
    "papermill": {
     "duration": 0.36617,
     "end_time": "2022-09-12T12:55:29.805364",
     "exception": false,
     "start_time": "2022-09-12T12:55:29.439194",
     "status": "completed"
    },
    "tags": []
   },
   "outputs": [
    {
     "data": {
      "text/plain": [
       "(1883, 32)"
      ]
     },
     "execution_count": 41,
     "metadata": {},
     "output_type": "execute_result"
    }
   ],
   "source": [
    "scaled_my_item_vec=scaler_items.transform(my_item_vec)\n",
    "vms=model_m.predict(scaled_my_item_vec[:,item_features_start:])\n",
    "vms.shape"
   ]
  },
  {
   "cell_type": "markdown",
   "id": "bceddd6e",
   "metadata": {
    "papermill": {
     "duration": 0.189128,
     "end_time": "2022-09-12T12:55:30.181790",
     "exception": false,
     "start_time": "2022-09-12T12:55:29.992662",
     "status": "completed"
    },
    "tags": []
   },
   "source": [
    "## Recommending movies with minimum squared distance"
   ]
  },
  {
   "cell_type": "code",
   "execution_count": 42,
   "id": "23303853",
   "metadata": {
    "execution": {
     "iopub.execute_input": "2022-09-12T12:55:30.559244Z",
     "iopub.status.busy": "2022-09-12T12:55:30.558320Z",
     "iopub.status.idle": "2022-09-12T12:55:30.868855Z",
     "shell.execute_reply": "2022-09-12T12:55:30.867648Z"
    },
    "papermill": {
     "duration": 0.502417,
     "end_time": "2022-09-12T12:55:30.871740",
     "exception": false,
     "start_time": "2022-09-12T12:55:30.369323",
     "status": "completed"
    },
    "tags": []
   },
   "outputs": [
    {
     "data": {
      "text/plain": [
       "array([[0.        , 0.0053455 , 0.00451232, ..., 0.04139123, 0.03457515,\n",
       "        0.04883843],\n",
       "       [0.0053455 , 0.        , 0.00063399, ..., 0.05638801, 0.04584567,\n",
       "        0.06480497],\n",
       "       [0.00451232, 0.00063399, 0.        , ..., 0.048853  , 0.03959933,\n",
       "        0.05709736],\n",
       "       ...,\n",
       "       [0.04139123, 0.05638801, 0.048853  , ..., 0.        , 0.00188521,\n",
       "        0.000645  ],\n",
       "       [0.03457515, 0.04584567, 0.03959933, ..., 0.00188521, 0.        ,\n",
       "        0.00380668],\n",
       "       [0.04883843, 0.06480497, 0.05709736, ..., 0.000645  , 0.00380668,\n",
       "        0.        ]])"
      ]
     },
     "execution_count": 42,
     "metadata": {},
     "output_type": "execute_result"
    }
   ],
   "source": [
    "dist=np.zeros((vms.shape[0],vms.shape[0]))\n",
    "\n",
    "#Calculating squared distance from each movie to every other movie\n",
    "for i in range(len(vms)):\n",
    "    dist[i]=np.sum(np.square(vms[i]-vms),axis=1).reshape((1,-1))\n",
    "    \n",
    "dist"
   ]
  },
  {
   "cell_type": "code",
   "execution_count": 43,
   "id": "a5cff8c0",
   "metadata": {
    "execution": {
     "iopub.execute_input": "2022-09-12T12:55:31.251303Z",
     "iopub.status.busy": "2022-09-12T12:55:31.250275Z",
     "iopub.status.idle": "2022-09-12T12:55:31.277304Z",
     "shell.execute_reply": "2022-09-12T12:55:31.276222Z"
    },
    "papermill": {
     "duration": 0.2178,
     "end_time": "2022-09-12T12:55:31.279535",
     "exception": false,
     "start_time": "2022-09-12T12:55:31.061735",
     "status": "completed"
    },
    "tags": []
   },
   "outputs": [
    {
     "data": {
      "text/plain": [
       "masked_array(\n",
       "  data=[[--, 0.005345500074326992, 0.004512324929237366, ...,\n",
       "         0.04139123111963272, 0.03457515314221382, 0.048838432878255844],\n",
       "        [0.005345500074326992, --, 0.0006339946412481368, ...,\n",
       "         0.056388009339571, 0.045845672488212585, 0.06480497121810913],\n",
       "        [0.004512324929237366, 0.0006339946412481368, --, ...,\n",
       "         0.04885300248861313, 0.03959932550787926, 0.057097360491752625],\n",
       "        ...,\n",
       "        [0.04139123111963272, 0.056388009339571, 0.04885300248861313,\n",
       "         ..., --, 0.0018852080684155226, 0.000645002699457109],\n",
       "        [0.03457515314221382, 0.045845672488212585, 0.03959932550787926,\n",
       "         ..., 0.0018852080684155226, --, 0.00380668044090271],\n",
       "        [0.048838432878255844, 0.06480497121810913, 0.057097360491752625,\n",
       "         ..., 0.000645002699457109, 0.00380668044090271, --]],\n",
       "  mask=[[ True, False, False, ..., False, False, False],\n",
       "        [False,  True, False, ..., False, False, False],\n",
       "        [False, False,  True, ..., False, False, False],\n",
       "        ...,\n",
       "        [False, False, False, ...,  True, False, False],\n",
       "        [False, False, False, ..., False,  True, False],\n",
       "        [False, False, False, ..., False, False,  True]],\n",
       "  fill_value=1e+20)"
      ]
     },
     "execution_count": 43,
     "metadata": {},
     "output_type": "execute_result"
    }
   ],
   "source": [
    "#masking so that we dont consider distance from a movie to itself\n",
    "masked_dist=np.ma.masked_array(dist,mask=np.identity(dist.shape[0]))\n",
    "masked_dist"
   ]
  },
  {
   "cell_type": "code",
   "execution_count": 44,
   "id": "f9225707",
   "metadata": {
    "execution": {
     "iopub.execute_input": "2022-09-12T12:55:31.661118Z",
     "iopub.status.busy": "2022-09-12T12:55:31.660444Z",
     "iopub.status.idle": "2022-09-12T12:55:31.683875Z",
     "shell.execute_reply": "2022-09-12T12:55:31.682800Z"
    },
    "papermill": {
     "duration": 0.217477,
     "end_time": "2022-09-12T12:55:31.685987",
     "exception": false,
     "start_time": "2022-09-12T12:55:31.468510",
     "status": "completed"
    },
    "tags": []
   },
   "outputs": [
    {
     "data": {
      "text/plain": [
       "array([ 192,    3,   20, ..., 1754, 1756, 1757])"
      ]
     },
     "execution_count": 44,
     "metadata": {},
     "output_type": "execute_result"
    }
   ],
   "source": [
    "#For each row, getting index of movie with min distance\n",
    "min_dist_movie_index=np.argmin(masked_dist,axis=1)\n",
    "min_dist_movie_index"
   ]
  },
  {
   "cell_type": "code",
   "execution_count": 45,
   "id": "ff58e599",
   "metadata": {
    "execution": {
     "iopub.execute_input": "2022-09-12T12:55:32.067263Z",
     "iopub.status.busy": "2022-09-12T12:55:32.066338Z",
     "iopub.status.idle": "2022-09-12T12:55:32.079944Z",
     "shell.execute_reply": "2022-09-12T12:55:32.079199Z"
    },
    "papermill": {
     "duration": 0.209003,
     "end_time": "2022-09-12T12:55:32.082406",
     "exception": false,
     "start_time": "2022-09-12T12:55:31.873403",
     "status": "completed"
    },
    "tags": []
   },
   "outputs": [],
   "source": [
    "recommend_df=pd.DataFrame()\n",
    "recommend_df['movie 1']=movie_list_seperated_genres['title'] +' ( '+movie_list_seperated_genres['year']+' ) '\n",
    "recommend_df['movie 1 genres']=movie_list_seperated_genres['genres']\n",
    "\n",
    "recommend_df['movie 2']=( movie_list_seperated_genres.loc[min_dist_movie_index,'title'] +' ( '+movie_list_seperated_genres.loc[min_dist_movie_index,'year']+' ) ' ).values\n",
    "recommend_df['movie 2 genres']=movie_list_seperated_genres.loc[min_dist_movie_index,'genres'].values"
   ]
  },
  {
   "cell_type": "code",
   "execution_count": 46,
   "id": "1aff6990",
   "metadata": {
    "execution": {
     "iopub.execute_input": "2022-09-12T12:55:32.512500Z",
     "iopub.status.busy": "2022-09-12T12:55:32.511826Z",
     "iopub.status.idle": "2022-09-12T12:55:32.527437Z",
     "shell.execute_reply": "2022-09-12T12:55:32.526701Z"
    },
    "papermill": {
     "duration": 0.257083,
     "end_time": "2022-09-12T12:55:32.529613",
     "exception": false,
     "start_time": "2022-09-12T12:55:32.272530",
     "status": "completed"
    },
    "tags": []
   },
   "outputs": [
    {
     "data": {
      "text/html": [
       "<div>\n",
       "<style scoped>\n",
       "    .dataframe tbody tr th:only-of-type {\n",
       "        vertical-align: middle;\n",
       "    }\n",
       "\n",
       "    .dataframe tbody tr th {\n",
       "        vertical-align: top;\n",
       "    }\n",
       "\n",
       "    .dataframe thead th {\n",
       "        text-align: right;\n",
       "    }\n",
       "</style>\n",
       "<table border=\"1\" class=\"dataframe\">\n",
       "  <thead>\n",
       "    <tr style=\"text-align: right;\">\n",
       "      <th></th>\n",
       "      <th>movie 1</th>\n",
       "      <th>movie 1 genres</th>\n",
       "      <th>movie 2</th>\n",
       "      <th>movie 2 genres</th>\n",
       "    </tr>\n",
       "  </thead>\n",
       "  <tbody>\n",
       "    <tr>\n",
       "      <th>0</th>\n",
       "      <td>Save the Last Dance ( 2001 )</td>\n",
       "      <td>Drama</td>\n",
       "      <td>John Q ( 2002 )</td>\n",
       "      <td>Drama</td>\n",
       "    </tr>\n",
       "    <tr>\n",
       "      <th>1</th>\n",
       "      <td>Save the Last Dance ( 2001 )</td>\n",
       "      <td>Romance</td>\n",
       "      <td>Wedding Planner, The ( 2001 )</td>\n",
       "      <td>Romance</td>\n",
       "    </tr>\n",
       "    <tr>\n",
       "      <th>2</th>\n",
       "      <td>Wedding Planner, The ( 2001 )</td>\n",
       "      <td>Comedy</td>\n",
       "      <td>Spy Kids ( 2001 )</td>\n",
       "      <td>Comedy</td>\n",
       "    </tr>\n",
       "    <tr>\n",
       "      <th>3</th>\n",
       "      <td>Wedding Planner, The ( 2001 )</td>\n",
       "      <td>Romance</td>\n",
       "      <td>Save the Last Dance ( 2001 )</td>\n",
       "      <td>Romance</td>\n",
       "    </tr>\n",
       "    <tr>\n",
       "      <th>4</th>\n",
       "      <td>Hannibal ( 2001 )</td>\n",
       "      <td>Horror</td>\n",
       "      <td>Fast and the Furious, The ( 2001 )</td>\n",
       "      <td>Thriller</td>\n",
       "    </tr>\n",
       "    <tr>\n",
       "      <th>5</th>\n",
       "      <td>Hannibal ( 2001 )</td>\n",
       "      <td>Thriller</td>\n",
       "      <td>Silent Hill ( 2006 )</td>\n",
       "      <td>Horror</td>\n",
       "    </tr>\n",
       "    <tr>\n",
       "      <th>6</th>\n",
       "      <td>Saving Silverman (Evil Woman) ( 2001 )</td>\n",
       "      <td>Comedy</td>\n",
       "      <td>Bad Boys II ( 2003 )</td>\n",
       "      <td>Comedy</td>\n",
       "    </tr>\n",
       "    <tr>\n",
       "      <th>7</th>\n",
       "      <td>Saving Silverman (Evil Woman) ( 2001 )</td>\n",
       "      <td>Romance</td>\n",
       "      <td>Save the Last Dance ( 2001 )</td>\n",
       "      <td>Romance</td>\n",
       "    </tr>\n",
       "    <tr>\n",
       "      <th>8</th>\n",
       "      <td>Down to Earth ( 2001 )</td>\n",
       "      <td>Comedy</td>\n",
       "      <td>Joe Dirt ( 2001 )</td>\n",
       "      <td>Comedy</td>\n",
       "    </tr>\n",
       "    <tr>\n",
       "      <th>9</th>\n",
       "      <td>Down to Earth ( 2001 )</td>\n",
       "      <td>Fantasy</td>\n",
       "      <td>Charlie's Angels: Full Throttle ( 2003 )</td>\n",
       "      <td>Adventure</td>\n",
       "    </tr>\n",
       "    <tr>\n",
       "      <th>10</th>\n",
       "      <td>Down to Earth ( 2001 )</td>\n",
       "      <td>Romance</td>\n",
       "      <td>Legally Blonde 2: Red, White &amp; Blonde ( 2003 )</td>\n",
       "      <td>Comedy</td>\n",
       "    </tr>\n",
       "    <tr>\n",
       "      <th>11</th>\n",
       "      <td>Mexican, The ( 2001 )</td>\n",
       "      <td>Action</td>\n",
       "      <td>Knight's Tale, A ( 2001 )</td>\n",
       "      <td>Action</td>\n",
       "    </tr>\n",
       "    <tr>\n",
       "      <th>12</th>\n",
       "      <td>Mexican, The ( 2001 )</td>\n",
       "      <td>Comedy</td>\n",
       "      <td>Knight's Tale, A ( 2001 )</td>\n",
       "      <td>Comedy</td>\n",
       "    </tr>\n",
       "    <tr>\n",
       "      <th>13</th>\n",
       "      <td>15 Minutes ( 2001 )</td>\n",
       "      <td>Thriller</td>\n",
       "      <td>Hannibal ( 2001 )</td>\n",
       "      <td>Thriller</td>\n",
       "    </tr>\n",
       "    <tr>\n",
       "      <th>14</th>\n",
       "      <td>Heartbreakers ( 2001 )</td>\n",
       "      <td>Comedy</td>\n",
       "      <td>Crocodile Dundee in Los Angeles ( 2001 )</td>\n",
       "      <td>Comedy</td>\n",
       "    </tr>\n",
       "    <tr>\n",
       "      <th>15</th>\n",
       "      <td>Heartbreakers ( 2001 )</td>\n",
       "      <td>Crime</td>\n",
       "      <td>Scary Movie 4 ( 2006 )</td>\n",
       "      <td>Horror</td>\n",
       "    </tr>\n",
       "    <tr>\n",
       "      <th>16</th>\n",
       "      <td>Heartbreakers ( 2001 )</td>\n",
       "      <td>Romance</td>\n",
       "      <td>Crocodile Dundee in Los Angeles ( 2001 )</td>\n",
       "      <td>Comedy</td>\n",
       "    </tr>\n",
       "    <tr>\n",
       "      <th>17</th>\n",
       "      <td>Spy Kids ( 2001 )</td>\n",
       "      <td>Action</td>\n",
       "      <td>Lara Croft: Tomb Raider ( 2001 )</td>\n",
       "      <td>Action</td>\n",
       "    </tr>\n",
       "    <tr>\n",
       "      <th>18</th>\n",
       "      <td>Spy Kids ( 2001 )</td>\n",
       "      <td>Adventure</td>\n",
       "      <td>Lara Croft: Tomb Raider ( 2001 )</td>\n",
       "      <td>Adventure</td>\n",
       "    </tr>\n",
       "    <tr>\n",
       "      <th>19</th>\n",
       "      <td>Spy Kids ( 2001 )</td>\n",
       "      <td>Children</td>\n",
       "      <td>Princess Diaries, The ( 2001 )</td>\n",
       "      <td>Children</td>\n",
       "    </tr>\n",
       "    <tr>\n",
       "      <th>20</th>\n",
       "      <td>Spy Kids ( 2001 )</td>\n",
       "      <td>Comedy</td>\n",
       "      <td>Wedding Planner, The ( 2001 )</td>\n",
       "      <td>Comedy</td>\n",
       "    </tr>\n",
       "    <tr>\n",
       "      <th>21</th>\n",
       "      <td>Along Came a Spider ( 2001 )</td>\n",
       "      <td>Action</td>\n",
       "      <td>Swordfish ( 2001 )</td>\n",
       "      <td>Action</td>\n",
       "    </tr>\n",
       "    <tr>\n",
       "      <th>22</th>\n",
       "      <td>Along Came a Spider ( 2001 )</td>\n",
       "      <td>Crime</td>\n",
       "      <td>Swordfish ( 2001 )</td>\n",
       "      <td>Crime</td>\n",
       "    </tr>\n",
       "    <tr>\n",
       "      <th>23</th>\n",
       "      <td>Along Came a Spider ( 2001 )</td>\n",
       "      <td>Mystery</td>\n",
       "      <td>Saw ( 2004 )</td>\n",
       "      <td>Mystery</td>\n",
       "    </tr>\n",
       "    <tr>\n",
       "      <th>24</th>\n",
       "      <td>Along Came a Spider ( 2001 )</td>\n",
       "      <td>Thriller</td>\n",
       "      <td>Mummy Returns, The ( 2001 )</td>\n",
       "      <td>Thriller</td>\n",
       "    </tr>\n",
       "    <tr>\n",
       "      <th>25</th>\n",
       "      <td>Blow ( 2001 )</td>\n",
       "      <td>Crime</td>\n",
       "      <td>Ocean's Eleven ( 2001 )</td>\n",
       "      <td>Crime</td>\n",
       "    </tr>\n",
       "    <tr>\n",
       "      <th>26</th>\n",
       "      <td>Blow ( 2001 )</td>\n",
       "      <td>Drama</td>\n",
       "      <td>Whale Rider ( 2002 )</td>\n",
       "      <td>Drama</td>\n",
       "    </tr>\n",
       "    <tr>\n",
       "      <th>27</th>\n",
       "      <td>Bridget Jones's Diary ( 2001 )</td>\n",
       "      <td>Comedy</td>\n",
       "      <td>Igby Goes Down ( 2002 )</td>\n",
       "      <td>Comedy</td>\n",
       "    </tr>\n",
       "    <tr>\n",
       "      <th>28</th>\n",
       "      <td>Bridget Jones's Diary ( 2001 )</td>\n",
       "      <td>Drama</td>\n",
       "      <td>Igby Goes Down ( 2002 )</td>\n",
       "      <td>Drama</td>\n",
       "    </tr>\n",
       "    <tr>\n",
       "      <th>29</th>\n",
       "      <td>Bridget Jones's Diary ( 2001 )</td>\n",
       "      <td>Romance</td>\n",
       "      <td>About a Boy ( 2002 )</td>\n",
       "      <td>Romance</td>\n",
       "    </tr>\n",
       "    <tr>\n",
       "      <th>30</th>\n",
       "      <td>Joe Dirt ( 2001 )</td>\n",
       "      <td>Adventure</td>\n",
       "      <td>Charlie's Angels: Full Throttle ( 2003 )</td>\n",
       "      <td>Adventure</td>\n",
       "    </tr>\n",
       "    <tr>\n",
       "      <th>31</th>\n",
       "      <td>Joe Dirt ( 2001 )</td>\n",
       "      <td>Comedy</td>\n",
       "      <td>Down to Earth ( 2001 )</td>\n",
       "      <td>Comedy</td>\n",
       "    </tr>\n",
       "    <tr>\n",
       "      <th>32</th>\n",
       "      <td>Joe Dirt ( 2001 )</td>\n",
       "      <td>Mystery</td>\n",
       "      <td>Crocodile Dundee in Los Angeles ( 2001 )</td>\n",
       "      <td>Drama</td>\n",
       "    </tr>\n",
       "    <tr>\n",
       "      <th>33</th>\n",
       "      <td>Joe Dirt ( 2001 )</td>\n",
       "      <td>Romance</td>\n",
       "      <td>Charlie's Angels: Full Throttle ( 2003 )</td>\n",
       "      <td>Comedy</td>\n",
       "    </tr>\n",
       "    <tr>\n",
       "      <th>34</th>\n",
       "      <td>Crocodile Dundee in Los Angeles ( 2001 )</td>\n",
       "      <td>Comedy</td>\n",
       "      <td>Heartbreakers ( 2001 )</td>\n",
       "      <td>Comedy</td>\n",
       "    </tr>\n",
       "    <tr>\n",
       "      <th>35</th>\n",
       "      <td>Crocodile Dundee in Los Angeles ( 2001 )</td>\n",
       "      <td>Drama</td>\n",
       "      <td>Heartbreakers ( 2001 )</td>\n",
       "      <td>Comedy</td>\n",
       "    </tr>\n",
       "    <tr>\n",
       "      <th>36</th>\n",
       "      <td>Mummy Returns, The ( 2001 )</td>\n",
       "      <td>Action</td>\n",
       "      <td>Swordfish ( 2001 )</td>\n",
       "      <td>Action</td>\n",
       "    </tr>\n",
       "    <tr>\n",
       "      <th>37</th>\n",
       "      <td>Mummy Returns, The ( 2001 )</td>\n",
       "      <td>Adventure</td>\n",
       "      <td>Jay and Silent Bob Strike Back ( 2001 )</td>\n",
       "      <td>Adventure</td>\n",
       "    </tr>\n",
       "    <tr>\n",
       "      <th>38</th>\n",
       "      <td>Mummy Returns, The ( 2001 )</td>\n",
       "      <td>Comedy</td>\n",
       "      <td>Evolution ( 2001 )</td>\n",
       "      <td>Comedy</td>\n",
       "    </tr>\n",
       "    <tr>\n",
       "      <th>39</th>\n",
       "      <td>Mummy Returns, The ( 2001 )</td>\n",
       "      <td>Thriller</td>\n",
       "      <td>Fast and the Furious, The ( 2001 )</td>\n",
       "      <td>Thriller</td>\n",
       "    </tr>\n",
       "    <tr>\n",
       "      <th>40</th>\n",
       "      <td>Knight's Tale, A ( 2001 )</td>\n",
       "      <td>Action</td>\n",
       "      <td>Mexican, The ( 2001 )</td>\n",
       "      <td>Action</td>\n",
       "    </tr>\n",
       "    <tr>\n",
       "      <th>41</th>\n",
       "      <td>Knight's Tale, A ( 2001 )</td>\n",
       "      <td>Comedy</td>\n",
       "      <td>Mexican, The ( 2001 )</td>\n",
       "      <td>Comedy</td>\n",
       "    </tr>\n",
       "    <tr>\n",
       "      <th>42</th>\n",
       "      <td>Knight's Tale, A ( 2001 )</td>\n",
       "      <td>Romance</td>\n",
       "      <td>Rush Hour 2 ( 2001 )</td>\n",
       "      <td>Comedy</td>\n",
       "    </tr>\n",
       "    <tr>\n",
       "      <th>43</th>\n",
       "      <td>Shrek ( 2001 )</td>\n",
       "      <td>Adventure</td>\n",
       "      <td>Monsters, Inc. ( 2001 )</td>\n",
       "      <td>Adventure</td>\n",
       "    </tr>\n",
       "    <tr>\n",
       "      <th>44</th>\n",
       "      <td>Shrek ( 2001 )</td>\n",
       "      <td>Animation</td>\n",
       "      <td>Monsters, Inc. ( 2001 )</td>\n",
       "      <td>Animation</td>\n",
       "    </tr>\n",
       "    <tr>\n",
       "      <th>45</th>\n",
       "      <td>Shrek ( 2001 )</td>\n",
       "      <td>Children</td>\n",
       "      <td>Lilo &amp; Stitch ( 2002 )</td>\n",
       "      <td>Children</td>\n",
       "    </tr>\n",
       "    <tr>\n",
       "      <th>46</th>\n",
       "      <td>Shrek ( 2001 )</td>\n",
       "      <td>Comedy</td>\n",
       "      <td>Importance of Being Earnest, The ( 2002 )</td>\n",
       "      <td>Comedy</td>\n",
       "    </tr>\n",
       "    <tr>\n",
       "      <th>47</th>\n",
       "      <td>Shrek ( 2001 )</td>\n",
       "      <td>Fantasy</td>\n",
       "      <td>Monsters, Inc. ( 2001 )</td>\n",
       "      <td>Fantasy</td>\n",
       "    </tr>\n",
       "    <tr>\n",
       "      <th>48</th>\n",
       "      <td>Shrek ( 2001 )</td>\n",
       "      <td>Romance</td>\n",
       "      <td>Importance of Being Earnest, The ( 2002 )</td>\n",
       "      <td>Romance</td>\n",
       "    </tr>\n",
       "    <tr>\n",
       "      <th>49</th>\n",
       "      <td>Animal, The ( 2001 )</td>\n",
       "      <td>Comedy</td>\n",
       "      <td>Crocodile Dundee in Los Angeles ( 2001 )</td>\n",
       "      <td>Comedy</td>\n",
       "    </tr>\n",
       "  </tbody>\n",
       "</table>\n",
       "</div>"
      ],
      "text/plain": [
       "                                      movie 1 movie 1 genres  \\\n",
       "0               Save the Last Dance ( 2001 )           Drama   \n",
       "1               Save the Last Dance ( 2001 )         Romance   \n",
       "2              Wedding Planner, The ( 2001 )          Comedy   \n",
       "3              Wedding Planner, The ( 2001 )         Romance   \n",
       "4                          Hannibal ( 2001 )          Horror   \n",
       "5                          Hannibal ( 2001 )        Thriller   \n",
       "6     Saving Silverman (Evil Woman) ( 2001 )          Comedy   \n",
       "7     Saving Silverman (Evil Woman) ( 2001 )         Romance   \n",
       "8                     Down to Earth ( 2001 )          Comedy   \n",
       "9                     Down to Earth ( 2001 )         Fantasy   \n",
       "10                    Down to Earth ( 2001 )         Romance   \n",
       "11                     Mexican, The ( 2001 )          Action   \n",
       "12                     Mexican, The ( 2001 )          Comedy   \n",
       "13                       15 Minutes ( 2001 )        Thriller   \n",
       "14                    Heartbreakers ( 2001 )          Comedy   \n",
       "15                    Heartbreakers ( 2001 )           Crime   \n",
       "16                    Heartbreakers ( 2001 )         Romance   \n",
       "17                         Spy Kids ( 2001 )          Action   \n",
       "18                         Spy Kids ( 2001 )       Adventure   \n",
       "19                         Spy Kids ( 2001 )        Children   \n",
       "20                         Spy Kids ( 2001 )          Comedy   \n",
       "21              Along Came a Spider ( 2001 )          Action   \n",
       "22              Along Came a Spider ( 2001 )           Crime   \n",
       "23              Along Came a Spider ( 2001 )         Mystery   \n",
       "24              Along Came a Spider ( 2001 )        Thriller   \n",
       "25                             Blow ( 2001 )           Crime   \n",
       "26                             Blow ( 2001 )           Drama   \n",
       "27            Bridget Jones's Diary ( 2001 )          Comedy   \n",
       "28            Bridget Jones's Diary ( 2001 )           Drama   \n",
       "29            Bridget Jones's Diary ( 2001 )         Romance   \n",
       "30                         Joe Dirt ( 2001 )       Adventure   \n",
       "31                         Joe Dirt ( 2001 )          Comedy   \n",
       "32                         Joe Dirt ( 2001 )         Mystery   \n",
       "33                         Joe Dirt ( 2001 )         Romance   \n",
       "34  Crocodile Dundee in Los Angeles ( 2001 )          Comedy   \n",
       "35  Crocodile Dundee in Los Angeles ( 2001 )           Drama   \n",
       "36               Mummy Returns, The ( 2001 )          Action   \n",
       "37               Mummy Returns, The ( 2001 )       Adventure   \n",
       "38               Mummy Returns, The ( 2001 )          Comedy   \n",
       "39               Mummy Returns, The ( 2001 )        Thriller   \n",
       "40                 Knight's Tale, A ( 2001 )          Action   \n",
       "41                 Knight's Tale, A ( 2001 )          Comedy   \n",
       "42                 Knight's Tale, A ( 2001 )         Romance   \n",
       "43                            Shrek ( 2001 )       Adventure   \n",
       "44                            Shrek ( 2001 )       Animation   \n",
       "45                            Shrek ( 2001 )        Children   \n",
       "46                            Shrek ( 2001 )          Comedy   \n",
       "47                            Shrek ( 2001 )         Fantasy   \n",
       "48                            Shrek ( 2001 )         Romance   \n",
       "49                      Animal, The ( 2001 )          Comedy   \n",
       "\n",
       "                                            movie 2 movie 2 genres  \n",
       "0                                  John Q ( 2002 )           Drama  \n",
       "1                    Wedding Planner, The ( 2001 )         Romance  \n",
       "2                                Spy Kids ( 2001 )          Comedy  \n",
       "3                     Save the Last Dance ( 2001 )         Romance  \n",
       "4               Fast and the Furious, The ( 2001 )        Thriller  \n",
       "5                             Silent Hill ( 2006 )          Horror  \n",
       "6                             Bad Boys II ( 2003 )          Comedy  \n",
       "7                     Save the Last Dance ( 2001 )         Romance  \n",
       "8                                Joe Dirt ( 2001 )          Comedy  \n",
       "9         Charlie's Angels: Full Throttle ( 2003 )       Adventure  \n",
       "10  Legally Blonde 2: Red, White & Blonde ( 2003 )          Comedy  \n",
       "11                       Knight's Tale, A ( 2001 )          Action  \n",
       "12                       Knight's Tale, A ( 2001 )          Comedy  \n",
       "13                               Hannibal ( 2001 )        Thriller  \n",
       "14        Crocodile Dundee in Los Angeles ( 2001 )          Comedy  \n",
       "15                          Scary Movie 4 ( 2006 )          Horror  \n",
       "16        Crocodile Dundee in Los Angeles ( 2001 )          Comedy  \n",
       "17                Lara Croft: Tomb Raider ( 2001 )          Action  \n",
       "18                Lara Croft: Tomb Raider ( 2001 )       Adventure  \n",
       "19                  Princess Diaries, The ( 2001 )        Children  \n",
       "20                   Wedding Planner, The ( 2001 )          Comedy  \n",
       "21                              Swordfish ( 2001 )          Action  \n",
       "22                              Swordfish ( 2001 )           Crime  \n",
       "23                                    Saw ( 2004 )         Mystery  \n",
       "24                     Mummy Returns, The ( 2001 )        Thriller  \n",
       "25                         Ocean's Eleven ( 2001 )           Crime  \n",
       "26                            Whale Rider ( 2002 )           Drama  \n",
       "27                         Igby Goes Down ( 2002 )          Comedy  \n",
       "28                         Igby Goes Down ( 2002 )           Drama  \n",
       "29                            About a Boy ( 2002 )         Romance  \n",
       "30        Charlie's Angels: Full Throttle ( 2003 )       Adventure  \n",
       "31                          Down to Earth ( 2001 )          Comedy  \n",
       "32        Crocodile Dundee in Los Angeles ( 2001 )           Drama  \n",
       "33        Charlie's Angels: Full Throttle ( 2003 )          Comedy  \n",
       "34                          Heartbreakers ( 2001 )          Comedy  \n",
       "35                          Heartbreakers ( 2001 )          Comedy  \n",
       "36                              Swordfish ( 2001 )          Action  \n",
       "37         Jay and Silent Bob Strike Back ( 2001 )       Adventure  \n",
       "38                              Evolution ( 2001 )          Comedy  \n",
       "39              Fast and the Furious, The ( 2001 )        Thriller  \n",
       "40                           Mexican, The ( 2001 )          Action  \n",
       "41                           Mexican, The ( 2001 )          Comedy  \n",
       "42                            Rush Hour 2 ( 2001 )          Comedy  \n",
       "43                         Monsters, Inc. ( 2001 )       Adventure  \n",
       "44                         Monsters, Inc. ( 2001 )       Animation  \n",
       "45                          Lilo & Stitch ( 2002 )        Children  \n",
       "46       Importance of Being Earnest, The ( 2002 )          Comedy  \n",
       "47                         Monsters, Inc. ( 2001 )         Fantasy  \n",
       "48       Importance of Being Earnest, The ( 2002 )         Romance  \n",
       "49        Crocodile Dundee in Los Angeles ( 2001 )          Comedy  "
      ]
     },
     "execution_count": 46,
     "metadata": {},
     "output_type": "execute_result"
    }
   ],
   "source": [
    "recommend_df.head(50)"
   ]
  },
  {
   "cell_type": "code",
   "execution_count": null,
   "id": "5fd41723",
   "metadata": {
    "papermill": {
     "duration": 0.190993,
     "end_time": "2022-09-12T12:55:32.913803",
     "exception": false,
     "start_time": "2022-09-12T12:55:32.722810",
     "status": "completed"
    },
    "tags": []
   },
   "outputs": [],
   "source": []
  }
 ],
 "metadata": {
  "kernelspec": {
   "display_name": "Python 3",
   "language": "python",
   "name": "python3"
  },
  "language_info": {
   "codemirror_mode": {
    "name": "ipython",
    "version": 3
   },
   "file_extension": ".py",
   "mimetype": "text/x-python",
   "name": "python",
   "nbconvert_exporter": "python",
   "pygments_lexer": "ipython3",
   "version": "3.7.12"
  },
  "papermill": {
   "default_parameters": {},
   "duration": 346.439038,
   "end_time": "2022-09-12T12:55:36.212224",
   "environment_variables": {},
   "exception": null,
   "input_path": "__notebook__.ipynb",
   "output_path": "__notebook__.ipynb",
   "parameters": {},
   "start_time": "2022-09-12T12:49:49.773186",
   "version": "2.3.4"
  }
 },
 "nbformat": 4,
 "nbformat_minor": 5
}
