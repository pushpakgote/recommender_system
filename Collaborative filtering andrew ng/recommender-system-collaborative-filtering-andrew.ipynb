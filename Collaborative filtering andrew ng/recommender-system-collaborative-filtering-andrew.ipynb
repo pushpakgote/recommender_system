{
 "cells": [
  {
   "cell_type": "code",
   "execution_count": 1,
   "id": "d87765e5",
   "metadata": {
    "_cell_guid": "b1076dfc-b9ad-4769-8c92-a6c4dae69d19",
    "_uuid": "8f2839f25d086af736a60e9eeb907d3b93b6e0e5",
    "execution": {
     "iopub.execute_input": "2022-09-05T10:33:39.437863Z",
     "iopub.status.busy": "2022-09-05T10:33:39.436494Z",
     "iopub.status.idle": "2022-09-05T10:33:45.070583Z",
     "shell.execute_reply": "2022-09-05T10:33:45.069359Z"
    },
    "papermill": {
     "duration": 5.64901,
     "end_time": "2022-09-05T10:33:45.073615",
     "exception": false,
     "start_time": "2022-09-05T10:33:39.424605",
     "status": "completed"
    },
    "tags": []
   },
   "outputs": [],
   "source": [
    "import tensorflow as tf\n",
    "from tensorflow import keras\n",
    "import numpy as np # linear algebra\n",
    "import pandas as pd\n"
   ]
  },
  {
   "cell_type": "code",
   "execution_count": 2,
   "id": "02948edd",
   "metadata": {
    "execution": {
     "iopub.execute_input": "2022-09-05T10:33:45.092448Z",
     "iopub.status.busy": "2022-09-05T10:33:45.091071Z",
     "iopub.status.idle": "2022-09-05T10:33:45.102028Z",
     "shell.execute_reply": "2022-09-05T10:33:45.100895Z"
    },
    "papermill": {
     "duration": 0.023575,
     "end_time": "2022-09-05T10:33:45.105358",
     "exception": false,
     "start_time": "2022-09-05T10:33:45.081783",
     "status": "completed"
    },
    "tags": []
   },
   "outputs": [],
   "source": [
    "#loading files via numpy\n",
    "from numpy import loadtxt\n",
    "\n",
    "def load_precalc_params_small():\n",
    "\n",
    "    file = open('../input/content-based-filtering-andrewng-dataset/small_movies_X.csv', 'rb')\n",
    "    X = loadtxt(file, delimiter = \",\")\n",
    "\n",
    "    file = open('../input/content-based-filtering-andrewng-dataset/small_movies_W.csv', 'rb')\n",
    "    W = loadtxt(file,delimiter = \",\")\n",
    "\n",
    "    file = open('../input/content-based-filtering-andrewng-dataset/small_movies_b.csv', 'rb')\n",
    "    b = loadtxt(file,delimiter = \",\")\n",
    "    b = b.reshape(1,-1)\n",
    "    num_movies, num_features = X.shape\n",
    "    num_users,_ = W.shape\n",
    "    return (X, W, b, num_movies, num_features, num_users)\n",
    "\n",
    "def load_ratings_small():\n",
    "    file = open('../input/content-based-filtering-andrewng-dataset/small_movies_Y.csv', 'rb')\n",
    "    Y = loadtxt(file,delimiter = \",\")\n",
    "\n",
    "    file = open('../input/content-based-filtering-andrewng-dataset/small_movies_R.csv', 'rb')\n",
    "    R = loadtxt(file,delimiter = \",\")\n",
    "    return(Y,R)"
   ]
  },
  {
   "cell_type": "code",
   "execution_count": 3,
   "id": "dc4b37e5",
   "metadata": {
    "execution": {
     "iopub.execute_input": "2022-09-05T10:33:45.125147Z",
     "iopub.status.busy": "2022-09-05T10:33:45.124770Z",
     "iopub.status.idle": "2022-09-05T10:33:47.916799Z",
     "shell.execute_reply": "2022-09-05T10:33:47.915718Z"
    },
    "papermill": {
     "duration": 2.804128,
     "end_time": "2022-09-05T10:33:47.919532",
     "exception": false,
     "start_time": "2022-09-05T10:33:45.115404",
     "status": "completed"
    },
    "tags": []
   },
   "outputs": [],
   "source": [
    "X, W, b, num_movies, num_features, num_users =load_precalc_params_small()\n",
    "Y, R = load_ratings_small()"
   ]
  },
  {
   "cell_type": "code",
   "execution_count": 4,
   "id": "14e5edfd",
   "metadata": {
    "execution": {
     "iopub.execute_input": "2022-09-05T10:33:47.935670Z",
     "iopub.status.busy": "2022-09-05T10:33:47.935284Z",
     "iopub.status.idle": "2022-09-05T10:33:47.942362Z",
     "shell.execute_reply": "2022-09-05T10:33:47.941212Z"
    },
    "papermill": {
     "duration": 0.018504,
     "end_time": "2022-09-05T10:33:47.945468",
     "exception": false,
     "start_time": "2022-09-05T10:33:47.926964",
     "status": "completed"
    },
    "tags": []
   },
   "outputs": [
    {
     "name": "stdout",
     "output_type": "stream",
     "text": [
      "X (4778, 10)\n",
      "W (443, 10)\n",
      "b (1, 443)\n",
      "Y (4778, 443)\n",
      "R (4778, 443)\n"
     ]
    }
   ],
   "source": [
    "print('X',X.shape)\n",
    "print('W',W.shape)\n",
    "print('b',b.shape)\n",
    "print('Y',Y.shape)\n",
    "print('R',R.shape)"
   ]
  },
  {
   "cell_type": "code",
   "execution_count": 5,
   "id": "6a21560a",
   "metadata": {
    "execution": {
     "iopub.execute_input": "2022-09-05T10:33:47.961872Z",
     "iopub.status.busy": "2022-09-05T10:33:47.961119Z",
     "iopub.status.idle": "2022-09-05T10:33:47.967315Z",
     "shell.execute_reply": "2022-09-05T10:33:47.965920Z"
    },
    "papermill": {
     "duration": 0.017679,
     "end_time": "2022-09-05T10:33:47.970330",
     "exception": false,
     "start_time": "2022-09-05T10:33:47.952651",
     "status": "completed"
    },
    "tags": []
   },
   "outputs": [
    {
     "name": "stdout",
     "output_type": "stream",
     "text": [
      "Avg rating of 1st movie = 3.400 / 5\n"
     ]
    }
   ],
   "source": [
    "#Avg rating\n",
    "#For single user\n",
    "avg_rating=np.mean(Y[0,R[0].astype(bool)])\n",
    "#or\n",
    "#avg_taring=np.mean(Y[0,R[0]==1])\n",
    "\n",
    "print(f\"Avg rating of 1st movie = {avg_rating:0.3f} / 5\")\n"
   ]
  },
  {
   "cell_type": "markdown",
   "id": "c76ce29e",
   "metadata": {
    "papermill": {
     "duration": 0.006861,
     "end_time": "2022-09-05T10:33:47.984816",
     "exception": false,
     "start_time": "2022-09-05T10:33:47.977955",
     "status": "completed"
    },
    "tags": []
   },
   "source": [
    "## Collaborative filtering cost function"
   ]
  },
  {
   "attachments": {
    "73999376-3df0-4209-a53c-271c487f807a.PNG": {
     "image/png": "[encoded data removed]"
    }
   },
   "cell_type": "markdown",
   "id": "6686b9dc",
   "metadata": {
    "papermill": {
     "duration": 0.006854,
     "end_time": "2022-09-05T10:33:47.998744",
     "exception": false,
     "start_time": "2022-09-05T10:33:47.991890",
     "status": "completed"
    },
    "tags": []
   },
   "source": [
    "![collaborative filtering cost func.PNG](attachment:73999376-3df0-4209-a53c-271c487f807a.PNG)"
   ]
  },
  {
   "cell_type": "code",
   "execution_count": 6,
   "id": "cb02d400",
   "metadata": {
    "execution": {
     "iopub.execute_input": "2022-09-05T10:33:48.015392Z",
     "iopub.status.busy": "2022-09-05T10:33:48.014578Z",
     "iopub.status.idle": "2022-09-05T10:33:48.021035Z",
     "shell.execute_reply": "2022-09-05T10:33:48.020029Z"
    },
    "papermill": {
     "duration": 0.017349,
     "end_time": "2022-09-05T10:33:48.023468",
     "exception": false,
     "start_time": "2022-09-05T10:33:48.006119",
     "status": "completed"
    },
    "tags": []
   },
   "outputs": [],
   "source": [
    "def cofi_cost_func(X, W, b, Y, R, lambda_):\n",
    "    # 2 syntax, both works\n",
    "    # 1:\n",
    "    #J=(np.dot(X,W.T)+b - Y)*R\n",
    "    #J=(1/2)* np.sum(J**2) + lambda_/2 * np.sum(W**2) +lambda_/2 * np.sum(X**2)\n",
    "    \n",
    "    #or\n",
    "    # 2:\n",
    "    J = (tf.linalg.matmul(X, tf.transpose(W)) + b - Y)*R      #matmul works different for dimensions>2\n",
    "    J = 0.5 * tf.reduce_sum(J**2) + (lambda_/2) * (tf.reduce_sum(X**2) + tf.reduce_sum(W**2))\n",
    "    \n",
    "    return J"
   ]
  },
  {
   "cell_type": "code",
   "execution_count": 7,
   "id": "f4c813c1",
   "metadata": {
    "execution": {
     "iopub.execute_input": "2022-09-05T10:33:48.040491Z",
     "iopub.status.busy": "2022-09-05T10:33:48.039751Z",
     "iopub.status.idle": "2022-09-05T10:33:48.154425Z",
     "shell.execute_reply": "2022-09-05T10:33:48.153448Z"
    },
    "papermill": {
     "duration": 0.127097,
     "end_time": "2022-09-05T10:33:48.157970",
     "exception": false,
     "start_time": "2022-09-05T10:33:48.030873",
     "status": "completed"
    },
    "tags": []
   },
   "outputs": [
    {
     "name": "stdout",
     "output_type": "stream",
     "text": [
      "Cost: 13.67\n",
      "Cost (with regularization): 28.09\n"
     ]
    },
    {
     "name": "stderr",
     "output_type": "stream",
     "text": [
      "2022-09-05 10:33:48.061401: I tensorflow/core/common_runtime/process_util.cc:146] Creating new thread pool with default inter op setting: 2. Tune using inter_op_parallelism_threads for best performance.\n"
     ]
    }
   ],
   "source": [
    "#Testing if cost function is giving correct values, answer for below values should be 13.67 and 28.09\n",
    "\n",
    "# Reduce the data set size so that this runs faster\n",
    "num_users_r = 4\n",
    "num_movies_r = 5 \n",
    "num_features_r = 3\n",
    "\n",
    "X_r = X[:num_movies_r, :num_features_r]\n",
    "W_r = W[:num_users_r,  :num_features_r]\n",
    "b_r = b[0, :num_users_r].reshape(1,-1)\n",
    "Y_r = Y[:num_movies_r, :num_users_r]\n",
    "R_r = R[:num_movies_r, :num_users_r]\n",
    "\n",
    "# Evaluate cost function\n",
    "J = cofi_cost_func(X_r, W_r, b_r, Y_r, R_r, 0);\n",
    "print(f\"Cost: {J:0.2f}\")\n",
    "\n",
    "# Evaluate cost function with regularization \n",
    "J = cofi_cost_func(X_r, W_r, b_r, Y_r, R_r, 1.5);\n",
    "print(f\"Cost (with regularization): {J:0.2f}\")\n"
   ]
  },
  {
   "cell_type": "code",
   "execution_count": 8,
   "id": "07d5bf5b",
   "metadata": {
    "execution": {
     "iopub.execute_input": "2022-09-05T10:33:48.174680Z",
     "iopub.status.busy": "2022-09-05T10:33:48.174054Z",
     "iopub.status.idle": "2022-09-05T10:33:48.212074Z",
     "shell.execute_reply": "2022-09-05T10:33:48.211012Z"
    },
    "papermill": {
     "duration": 0.048911,
     "end_time": "2022-09-05T10:33:48.214462",
     "exception": false,
     "start_time": "2022-09-05T10:33:48.165551",
     "status": "completed"
    },
    "tags": []
   },
   "outputs": [],
   "source": [
    "movieList_df=pd.read_csv('../input/content-based-filtering-andrewng-dataset/small_movie_list.csv',index_col=0)"
   ]
  },
  {
   "cell_type": "code",
   "execution_count": 9,
   "id": "012bf2c5",
   "metadata": {
    "execution": {
     "iopub.execute_input": "2022-09-05T10:33:48.231364Z",
     "iopub.status.busy": "2022-09-05T10:33:48.230642Z",
     "iopub.status.idle": "2022-09-05T10:33:48.237065Z",
     "shell.execute_reply": "2022-09-05T10:33:48.236173Z"
    },
    "papermill": {
     "duration": 0.017351,
     "end_time": "2022-09-05T10:33:48.239142",
     "exception": false,
     "start_time": "2022-09-05T10:33:48.221791",
     "status": "completed"
    },
    "tags": []
   },
   "outputs": [],
   "source": [
    "movieList=movieList_df['title'].to_list()"
   ]
  },
  {
   "cell_type": "code",
   "execution_count": 10,
   "id": "f8466893",
   "metadata": {
    "execution": {
     "iopub.execute_input": "2022-09-05T10:33:48.255774Z",
     "iopub.status.busy": "2022-09-05T10:33:48.255100Z",
     "iopub.status.idle": "2022-09-05T10:33:48.268128Z",
     "shell.execute_reply": "2022-09-05T10:33:48.267111Z"
    },
    "papermill": {
     "duration": 0.024492,
     "end_time": "2022-09-05T10:33:48.270775",
     "exception": false,
     "start_time": "2022-09-05T10:33:48.246283",
     "status": "completed"
    },
    "tags": []
   },
   "outputs": [
    {
     "name": "stdout",
     "output_type": "stream",
     "text": [
      "\n",
      "New user ratings:\n",
      "\n",
      "Rated 5.0 for  Shrek (2001)\n",
      "Rated 5.0 for  Harry Potter and the Sorcerer's Stone (a.k.a. Harry Potter and the Philosopher's Stone) (2001)\n",
      "Rated 2.0 for  Amelie (Fabuleux destin d'Amélie Poulain, Le) (2001)\n",
      "Rated 5.0 for  Harry Potter and the Chamber of Secrets (2002)\n",
      "Rated 5.0 for  Pirates of the Caribbean: The Curse of the Black Pearl (2003)\n",
      "Rated 5.0 for  Lord of the Rings: The Return of the King, The (2003)\n",
      "Rated 3.0 for  Eternal Sunshine of the Spotless Mind (2004)\n",
      "Rated 5.0 for  Incredibles, The (2004)\n",
      "Rated 2.0 for  Persuasion (2007)\n",
      "Rated 5.0 for  Toy Story 3 (2010)\n",
      "Rated 3.0 for  Inception (2010)\n",
      "Rated 1.0 for  Louis Theroux: Law & Disorder (2008)\n",
      "Rated 1.0 for  Nothing to Declare (Rien à déclarer) (2010)\n"
     ]
    }
   ],
   "source": [
    "my_ratings = np.zeros(num_movies)          #  Initialize my ratings\n",
    "\n",
    "# Check the file small_movie_list.csv for id of each movie in our dataset\n",
    "# For example, Toy Story 3 (2010) has ID 2700, so to rate it \"5\", you can set\n",
    "my_ratings[2700] = 5 \n",
    "\n",
    "#Or suppose you did not enjoy Persuasion (2007), you can set\n",
    "my_ratings[2609] = 2;\n",
    "\n",
    "# We have selected a few movies we liked / did not like and the ratings we\n",
    "# gave are as follows:\n",
    "my_ratings[929]  = 5   # Lord of the Rings: The Return of the King, The\n",
    "my_ratings[246]  = 5   # Shrek (2001)\n",
    "my_ratings[2716] = 3   # Inception\n",
    "my_ratings[1150] = 5   # Incredibles, The (2004)\n",
    "my_ratings[382]  = 2   # Amelie (Fabuleux destin d'Amélie Poulain, Le)\n",
    "my_ratings[366]  = 5   # Harry Potter and the Sorcerer's Stone (a.k.a. Harry Potter and the Philosopher's Stone) (2001)\n",
    "my_ratings[622]  = 5   # Harry Potter and the Chamber of Secrets (2002)\n",
    "my_ratings[988]  = 3   # Eternal Sunshine of the Spotless Mind (2004)\n",
    "my_ratings[2925] = 1   # Louis Theroux: Law & Disorder (2008)\n",
    "my_ratings[2937] = 1   # Nothing to Declare (Rien à déclarer)\n",
    "my_ratings[793]  = 5   # Pirates of the Caribbean: The Curse of the Black Pearl (2003)\n",
    "my_rated = [i for i in range(len(my_ratings)) if my_ratings[i] > 0]\n",
    "\n",
    "print('\\nNew user ratings:\\n')\n",
    "for i in range(len(my_ratings)):\n",
    "    if my_ratings[i] > 0 :\n",
    "        print(f'Rated {my_ratings[i]} for  {movieList_df.loc[i,\"title\"]}');"
   ]
  },
  {
   "cell_type": "code",
   "execution_count": 11,
   "id": "789fd763",
   "metadata": {
    "execution": {
     "iopub.execute_input": "2022-09-05T10:33:48.288857Z",
     "iopub.status.busy": "2022-09-05T10:33:48.288212Z",
     "iopub.status.idle": "2022-09-05T10:33:48.295942Z",
     "shell.execute_reply": "2022-09-05T10:33:48.295104Z"
    },
    "papermill": {
     "duration": 0.019707,
     "end_time": "2022-09-05T10:33:48.298433",
     "exception": false,
     "start_time": "2022-09-05T10:33:48.278726",
     "status": "completed"
    },
    "tags": []
   },
   "outputs": [
    {
     "data": {
      "text/plain": [
       "((4778, 443), (4778,))"
      ]
     },
     "execution_count": 11,
     "metadata": {},
     "output_type": "execute_result"
    }
   ],
   "source": [
    "Y.shape,my_ratings.shape"
   ]
  },
  {
   "cell_type": "code",
   "execution_count": 12,
   "id": "1eeecdc4",
   "metadata": {
    "execution": {
     "iopub.execute_input": "2022-09-05T10:33:48.315485Z",
     "iopub.status.busy": "2022-09-05T10:33:48.314863Z",
     "iopub.status.idle": "2022-09-05T10:33:50.933233Z",
     "shell.execute_reply": "2022-09-05T10:33:50.931912Z"
    },
    "papermill": {
     "duration": 2.630225,
     "end_time": "2022-09-05T10:33:50.936174",
     "exception": false,
     "start_time": "2022-09-05T10:33:48.305949",
     "status": "completed"
    },
    "tags": []
   },
   "outputs": [],
   "source": [
    "Y,R=load_ratings_small()\n",
    "Y=np.c_[my_ratings,Y]\n",
    "R=np.c_[(my_ratings!=0).astype(int),R]"
   ]
  },
  {
   "cell_type": "code",
   "execution_count": 13,
   "id": "1972f2fc",
   "metadata": {
    "execution": {
     "iopub.execute_input": "2022-09-05T10:33:50.954529Z",
     "iopub.status.busy": "2022-09-05T10:33:50.954144Z",
     "iopub.status.idle": "2022-09-05T10:33:50.985188Z",
     "shell.execute_reply": "2022-09-05T10:33:50.984028Z"
    },
    "papermill": {
     "duration": 0.042849,
     "end_time": "2022-09-05T10:33:50.987721",
     "exception": false,
     "start_time": "2022-09-05T10:33:50.944872",
     "status": "completed"
    },
    "tags": []
   },
   "outputs": [],
   "source": [
    "#Normalize \n",
    "Y_mean=(np.sum(Y*R,axis=1)/(np.sum(R,axis=1)+1e-12)).reshape(-1,1)\n",
    "Y_norm=Y-Y_mean*R"
   ]
  },
  {
   "cell_type": "code",
   "execution_count": 14,
   "id": "2e3a92af",
   "metadata": {
    "execution": {
     "iopub.execute_input": "2022-09-05T10:33:51.004658Z",
     "iopub.status.busy": "2022-09-05T10:33:51.004064Z",
     "iopub.status.idle": "2022-09-05T10:33:52.178521Z",
     "shell.execute_reply": "2022-09-05T10:33:52.177292Z"
    },
    "papermill": {
     "duration": 1.18611,
     "end_time": "2022-09-05T10:33:52.181341",
     "exception": false,
     "start_time": "2022-09-05T10:33:50.995231",
     "status": "completed"
    },
    "tags": []
   },
   "outputs": [],
   "source": [
    "num_movies,num_users=Y.shape\n",
    "num_features=100\n",
    "\n",
    "tf.random.set_seed(1234)\n",
    "W=tf.Variable(tf.random.normal((num_users,num_features),dtype=tf.float64),name='W')\n",
    "X=tf.Variable(tf.random.normal((num_movies,num_features),dtype=tf.float64),name='X')\n",
    "b=tf.Variable(tf.random.normal((1,num_users),dtype=tf.float64),name='b')\n",
    "\n",
    "optimizer=tf.keras.optimizers.Adam(learning_rate=1e-1)"
   ]
  },
  {
   "cell_type": "code",
   "execution_count": 15,
   "id": "22034676",
   "metadata": {
    "execution": {
     "iopub.execute_input": "2022-09-05T10:33:52.197919Z",
     "iopub.status.busy": "2022-09-05T10:33:52.197482Z",
     "iopub.status.idle": "2022-09-05T10:34:27.962744Z",
     "shell.execute_reply": "2022-09-05T10:34:27.961887Z"
    },
    "papermill": {
     "duration": 35.776577,
     "end_time": "2022-09-05T10:34:27.965352",
     "exception": false,
     "start_time": "2022-09-05T10:33:52.188775",
     "status": "completed"
    },
    "tags": []
   },
   "outputs": [
    {
     "name": "stdout",
     "output_type": "stream",
     "text": [
      "Training loss at iteration 0: 2321191.3\n",
      "Training loss at iteration 20: 136168.7\n",
      "Training loss at iteration 40: 51863.3\n",
      "Training loss at iteration 60: 24598.8\n",
      "Training loss at iteration 80: 13630.4\n",
      "Training loss at iteration 100: 8487.6\n",
      "Training loss at iteration 120: 5807.7\n",
      "Training loss at iteration 140: 4311.6\n",
      "Training loss at iteration 160: 3435.2\n",
      "Training loss at iteration 180: 2902.1\n"
     ]
    }
   ],
   "source": [
    "#  Using tensorflow , we can find derivative of cost function\n",
    "# here X,W,b are parameters, means we apply gradient descent on them\n",
    "# W=W-alpha*d_J(W,X,b)/dW\n",
    "# X=X-alpha*d_J(W,X,b)/dX\n",
    "# b=b-alpha*d_J(W,X,b)/db\n",
    "#these derivatives can be computed by 'tape' as below\n",
    "\n",
    "\n",
    "iterations=200\n",
    "lambda_=1\n",
    "for i in range(iterations):\n",
    "    # Use TensorFlow’s GradientTape\n",
    "    # to record the operations used to compute the cost \n",
    "\n",
    "    with tf.GradientTape() as tape:\n",
    "        # Compute the cost (forward pass included in cost)\n",
    "        cost=cofi_cost_func(X,W,b,Y_norm,R,lambda_)\n",
    "        \n",
    "    # Use the gradient tape to automatically retrieve\n",
    "    # the gradients of the trainable variables with respect to the loss\n",
    "    grad=tape.gradient(cost,[X,W,b])\n",
    "    \n",
    "    # Run one step of gradient descent by updating\n",
    "    # the value of the variables to minimize the loss.\n",
    "    optimizer.apply_gradients(zip(grad,[X,W,b]))\n",
    "    \n",
    "    # Log periodically.\n",
    "    if i % 20 == 0:\n",
    "        print(f\"Training loss at iteration {i}: {cost:0.1f}\")"
   ]
  },
  {
   "cell_type": "markdown",
   "id": "6c5619f9",
   "metadata": {
    "papermill": {
     "duration": 0.008345,
     "end_time": "2022-09-05T10:34:27.981745",
     "exception": false,
     "start_time": "2022-09-05T10:34:27.973400",
     "status": "completed"
    },
    "tags": []
   },
   "source": [
    "## Predicted ratings"
   ]
  },
  {
   "cell_type": "code",
   "execution_count": 16,
   "id": "13b8cb33",
   "metadata": {
    "execution": {
     "iopub.execute_input": "2022-09-05T10:34:27.999964Z",
     "iopub.status.busy": "2022-09-05T10:34:27.999254Z",
     "iopub.status.idle": "2022-09-05T10:34:28.041513Z",
     "shell.execute_reply": "2022-09-05T10:34:28.040210Z"
    },
    "papermill": {
     "duration": 0.055317,
     "end_time": "2022-09-05T10:34:28.044996",
     "exception": false,
     "start_time": "2022-09-05T10:34:27.989679",
     "status": "completed"
    },
    "tags": []
   },
   "outputs": [],
   "source": [
    "p=np.matmul(X.numpy(),tf.transpose(W.numpy())) + b.numpy()"
   ]
  },
  {
   "cell_type": "code",
   "execution_count": 17,
   "id": "b36572de",
   "metadata": {
    "execution": {
     "iopub.execute_input": "2022-09-05T10:34:28.072407Z",
     "iopub.status.busy": "2022-09-05T10:34:28.071861Z",
     "iopub.status.idle": "2022-09-05T10:34:28.085975Z",
     "shell.execute_reply": "2022-09-05T10:34:28.084744Z"
    },
    "papermill": {
     "duration": 0.03179,
     "end_time": "2022-09-05T10:34:28.089540",
     "exception": false,
     "start_time": "2022-09-05T10:34:28.057750",
     "status": "completed"
    },
    "tags": []
   },
   "outputs": [],
   "source": [
    "pm=p+Y_mean"
   ]
  },
  {
   "cell_type": "markdown",
   "id": "32d0b831",
   "metadata": {
    "papermill": {
     "duration": 0.012214,
     "end_time": "2022-09-05T10:34:28.115208",
     "exception": false,
     "start_time": "2022-09-05T10:34:28.102994",
     "status": "completed"
    },
    "tags": []
   },
   "source": [
    "## pm has predicted ratings for all users for all movies"
   ]
  },
  {
   "cell_type": "code",
   "execution_count": 18,
   "id": "500b4f5d",
   "metadata": {
    "execution": {
     "iopub.execute_input": "2022-09-05T10:34:28.142605Z",
     "iopub.status.busy": "2022-09-05T10:34:28.142068Z",
     "iopub.status.idle": "2022-09-05T10:34:28.178733Z",
     "shell.execute_reply": "2022-09-05T10:34:28.177263Z"
    },
    "papermill": {
     "duration": 0.05355,
     "end_time": "2022-09-05T10:34:28.181359",
     "exception": false,
     "start_time": "2022-09-05T10:34:28.127809",
     "status": "completed"
    },
    "tags": []
   },
   "outputs": [
    {
     "name": "stdout",
     "output_type": "stream",
     "text": [
      "Predicting rating 4.49 for movie My Sassy Girl (Yeopgijeogin geunyeo) (2001)\n",
      "Predicting rating 4.48 for movie Martin Lawrence Live: Runteldat (2002)\n",
      "Predicting rating 4.48 for movie Memento (2000)\n",
      "Predicting rating 4.47 for movie Delirium (2014)\n",
      "Predicting rating 4.47 for movie Laggies (2014)\n",
      "Predicting rating 4.47 for movie One I Love, The (2014)\n",
      "Predicting rating 4.46 for movie Particle Fever (2013)\n",
      "Predicting rating 4.45 for movie Eichmann (2007)\n",
      "Predicting rating 4.45 for movie Battle Royale 2: Requiem (Batoru rowaiaru II: Chinkonka) (2003)\n",
      "Predicting rating 4.45 for movie Into the Abyss (2011)\n",
      "Predicting rating 4.45 for movie Son of the Bride (Hijo de la novia, El) (2001)\n",
      "Predicting rating 4.44 for movie Rivers and Tides (2001)\n",
      "Predicting rating 4.44 for movie George Carlin: It's Bad for Ya! (2008)\n"
     ]
    }
   ],
   "source": [
    "#Giving predictions to 1 user i.e you, you also included your ratings above , so recommendations for you :\n",
    "my_predictions=pm[:,0]\n",
    "\n",
    "sorted_index=tf.argsort(my_predictions,direction='DESCENDING')\n",
    "for i in range(20):\n",
    "    j=sorted_index[i]\n",
    "    if j not in my_rated:\n",
    "        print(f'Predicting rating {my_predictions[j]:0.2f} for movie {movieList[j]}')\n"
   ]
  },
  {
   "cell_type": "code",
   "execution_count": 19,
   "id": "a51b62c0",
   "metadata": {
    "execution": {
     "iopub.execute_input": "2022-09-05T10:34:28.199708Z",
     "iopub.status.busy": "2022-09-05T10:34:28.198808Z",
     "iopub.status.idle": "2022-09-05T10:34:28.207270Z",
     "shell.execute_reply": "2022-09-05T10:34:28.206161Z"
    },
    "papermill": {
     "duration": 0.020538,
     "end_time": "2022-09-05T10:34:28.209966",
     "exception": false,
     "start_time": "2022-09-05T10:34:28.189428",
     "status": "completed"
    },
    "tags": []
   },
   "outputs": [
    {
     "name": "stdout",
     "output_type": "stream",
     "text": [
      "\n",
      "\n",
      "Original vs Predicted ratings:\n",
      "\n",
      "Original 5.0, Predicted 4.90 for Shrek (2001)\n",
      "Original 5.0, Predicted 4.84 for Harry Potter and the Sorcerer's Stone (a.k.a. Harry Potter and the Philosopher's Stone) (2001)\n",
      "Original 2.0, Predicted 2.13 for Amelie (Fabuleux destin d'Amélie Poulain, Le) (2001)\n",
      "Original 5.0, Predicted 4.88 for Harry Potter and the Chamber of Secrets (2002)\n",
      "Original 5.0, Predicted 4.87 for Pirates of the Caribbean: The Curse of the Black Pearl (2003)\n",
      "Original 5.0, Predicted 4.89 for Lord of the Rings: The Return of the King, The (2003)\n",
      "Original 3.0, Predicted 3.00 for Eternal Sunshine of the Spotless Mind (2004)\n",
      "Original 5.0, Predicted 4.90 for Incredibles, The (2004)\n",
      "Original 2.0, Predicted 2.11 for Persuasion (2007)\n",
      "Original 5.0, Predicted 4.80 for Toy Story 3 (2010)\n",
      "Original 3.0, Predicted 3.00 for Inception (2010)\n",
      "Original 1.0, Predicted 1.41 for Louis Theroux: Law & Disorder (2008)\n",
      "Original 1.0, Predicted 1.26 for Nothing to Declare (Rien à déclarer) (2010)\n"
     ]
    }
   ],
   "source": [
    "print('\\n\\nOriginal vs Predicted ratings:\\n')\n",
    "for i in range(len(my_ratings)):\n",
    "    if my_ratings[i] > 0:\n",
    "        print(f'Original {my_ratings[i]}, Predicted {my_predictions[i]:0.2f} for {movieList[i]}')"
   ]
  },
  {
   "cell_type": "markdown",
   "id": "fc516152",
   "metadata": {
    "papermill": {
     "duration": 0.007754,
     "end_time": "2022-09-05T10:34:28.226024",
     "exception": false,
     "start_time": "2022-09-05T10:34:28.218270",
     "status": "completed"
    },
    "tags": []
   },
   "source": [
    "In practice, additional information can be utilized to enhance our predictions. Above, the predicted ratings for the first few hundred movies lie in a small range. We can augment the above by selecting from those top movies, movies that have high average ratings and movies with more than 20 ratings. This section uses a Pandas data frame which has many handy sorting features."
   ]
  },
  {
   "cell_type": "code",
   "execution_count": 20,
   "id": "26828e5b",
   "metadata": {
    "execution": {
     "iopub.execute_input": "2022-09-05T10:34:28.244200Z",
     "iopub.status.busy": "2022-09-05T10:34:28.243808Z",
     "iopub.status.idle": "2022-09-05T10:34:28.264375Z",
     "shell.execute_reply": "2022-09-05T10:34:28.263125Z"
    },
    "papermill": {
     "duration": 0.032829,
     "end_time": "2022-09-05T10:34:28.267001",
     "exception": false,
     "start_time": "2022-09-05T10:34:28.234172",
     "status": "completed"
    },
    "tags": []
   },
   "outputs": [
    {
     "data": {
      "text/html": [
       "<div>\n",
       "<style scoped>\n",
       "    .dataframe tbody tr th:only-of-type {\n",
       "        vertical-align: middle;\n",
       "    }\n",
       "\n",
       "    .dataframe tbody tr th {\n",
       "        vertical-align: top;\n",
       "    }\n",
       "\n",
       "    .dataframe thead th {\n",
       "        text-align: right;\n",
       "    }\n",
       "</style>\n",
       "<table border=\"1\" class=\"dataframe\">\n",
       "  <thead>\n",
       "    <tr style=\"text-align: right;\">\n",
       "      <th></th>\n",
       "      <th>mean rating</th>\n",
       "      <th>number of ratings</th>\n",
       "      <th>title</th>\n",
       "      <th>pred</th>\n",
       "    </tr>\n",
       "  </thead>\n",
       "  <tbody>\n",
       "    <tr>\n",
       "      <th>0</th>\n",
       "      <td>3.400000</td>\n",
       "      <td>5</td>\n",
       "      <td>Yards, The (2000)</td>\n",
       "      <td>2.768113</td>\n",
       "    </tr>\n",
       "    <tr>\n",
       "      <th>1</th>\n",
       "      <td>3.250000</td>\n",
       "      <td>6</td>\n",
       "      <td>Next Friday (2000)</td>\n",
       "      <td>2.741133</td>\n",
       "    </tr>\n",
       "    <tr>\n",
       "      <th>2</th>\n",
       "      <td>2.000000</td>\n",
       "      <td>4</td>\n",
       "      <td>Supernova (2000)</td>\n",
       "      <td>1.324607</td>\n",
       "    </tr>\n",
       "    <tr>\n",
       "      <th>3</th>\n",
       "      <td>2.000000</td>\n",
       "      <td>4</td>\n",
       "      <td>Down to You (2000)</td>\n",
       "      <td>1.604700</td>\n",
       "    </tr>\n",
       "    <tr>\n",
       "      <th>4</th>\n",
       "      <td>2.672414</td>\n",
       "      <td>29</td>\n",
       "      <td>Scream 3 (2000)</td>\n",
       "      <td>2.298114</td>\n",
       "    </tr>\n",
       "    <tr>\n",
       "      <th>...</th>\n",
       "      <td>...</td>\n",
       "      <td>...</td>\n",
       "      <td>...</td>\n",
       "      <td>...</td>\n",
       "    </tr>\n",
       "    <tr>\n",
       "      <th>4773</th>\n",
       "      <td>3.500000</td>\n",
       "      <td>1</td>\n",
       "      <td>Jon Stewart Has Left the Building (2015)</td>\n",
       "      <td>2.917507</td>\n",
       "    </tr>\n",
       "    <tr>\n",
       "      <th>4774</th>\n",
       "      <td>4.000000</td>\n",
       "      <td>1</td>\n",
       "      <td>Black Butler: Book of the Atlantic (2017)</td>\n",
       "      <td>3.408843</td>\n",
       "    </tr>\n",
       "    <tr>\n",
       "      <th>4775</th>\n",
       "      <td>3.500000</td>\n",
       "      <td>1</td>\n",
       "      <td>No Game No Life: Zero (2017)</td>\n",
       "      <td>2.925049</td>\n",
       "    </tr>\n",
       "    <tr>\n",
       "      <th>4776</th>\n",
       "      <td>3.500000</td>\n",
       "      <td>1</td>\n",
       "      <td>Flint (2017)</td>\n",
       "      <td>2.925112</td>\n",
       "    </tr>\n",
       "    <tr>\n",
       "      <th>4777</th>\n",
       "      <td>3.500000</td>\n",
       "      <td>1</td>\n",
       "      <td>Bungo Stray Dogs: Dead Apple (2018)</td>\n",
       "      <td>2.919818</td>\n",
       "    </tr>\n",
       "  </tbody>\n",
       "</table>\n",
       "<p>4778 rows × 4 columns</p>\n",
       "</div>"
      ],
      "text/plain": [
       "      mean rating  number of ratings  \\\n",
       "0        3.400000                  5   \n",
       "1        3.250000                  6   \n",
       "2        2.000000                  4   \n",
       "3        2.000000                  4   \n",
       "4        2.672414                 29   \n",
       "...           ...                ...   \n",
       "4773     3.500000                  1   \n",
       "4774     4.000000                  1   \n",
       "4775     3.500000                  1   \n",
       "4776     3.500000                  1   \n",
       "4777     3.500000                  1   \n",
       "\n",
       "                                          title      pred  \n",
       "0                             Yards, The (2000)  2.768113  \n",
       "1                            Next Friday (2000)  2.741133  \n",
       "2                              Supernova (2000)  1.324607  \n",
       "3                            Down to You (2000)  1.604700  \n",
       "4                               Scream 3 (2000)  2.298114  \n",
       "...                                         ...       ...  \n",
       "4773   Jon Stewart Has Left the Building (2015)  2.917507  \n",
       "4774  Black Butler: Book of the Atlantic (2017)  3.408843  \n",
       "4775               No Game No Life: Zero (2017)  2.925049  \n",
       "4776                               Flint (2017)  2.925112  \n",
       "4777        Bungo Stray Dogs: Dead Apple (2018)  2.919818  \n",
       "\n",
       "[4778 rows x 4 columns]"
      ]
     },
     "execution_count": 20,
     "metadata": {},
     "output_type": "execute_result"
    }
   ],
   "source": [
    "movieList_df['pred']=my_predictions\n",
    "movieList_df"
   ]
  },
  {
   "cell_type": "code",
   "execution_count": 21,
   "id": "5a71c67d",
   "metadata": {
    "execution": {
     "iopub.execute_input": "2022-09-05T10:34:28.287603Z",
     "iopub.status.busy": "2022-09-05T10:34:28.286454Z",
     "iopub.status.idle": "2022-09-05T10:34:28.304644Z",
     "shell.execute_reply": "2022-09-05T10:34:28.303841Z"
    },
    "papermill": {
     "duration": 0.030884,
     "end_time": "2022-09-05T10:34:28.306955",
     "exception": false,
     "start_time": "2022-09-05T10:34:28.276071",
     "status": "completed"
    },
    "tags": []
   },
   "outputs": [
    {
     "data": {
      "text/html": [
       "<div>\n",
       "<style scoped>\n",
       "    .dataframe tbody tr th:only-of-type {\n",
       "        vertical-align: middle;\n",
       "    }\n",
       "\n",
       "    .dataframe tbody tr th {\n",
       "        vertical-align: top;\n",
       "    }\n",
       "\n",
       "    .dataframe thead th {\n",
       "        text-align: right;\n",
       "    }\n",
       "</style>\n",
       "<table border=\"1\" class=\"dataframe\">\n",
       "  <thead>\n",
       "    <tr style=\"text-align: right;\">\n",
       "      <th></th>\n",
       "      <th>pred</th>\n",
       "      <th>mean rating</th>\n",
       "      <th>number of ratings</th>\n",
       "      <th>title</th>\n",
       "    </tr>\n",
       "  </thead>\n",
       "  <tbody>\n",
       "    <tr>\n",
       "      <th>0</th>\n",
       "      <td>2.768113</td>\n",
       "      <td>3.400000</td>\n",
       "      <td>5</td>\n",
       "      <td>Yards, The (2000)</td>\n",
       "    </tr>\n",
       "    <tr>\n",
       "      <th>1</th>\n",
       "      <td>2.741133</td>\n",
       "      <td>3.250000</td>\n",
       "      <td>6</td>\n",
       "      <td>Next Friday (2000)</td>\n",
       "    </tr>\n",
       "    <tr>\n",
       "      <th>2</th>\n",
       "      <td>1.324607</td>\n",
       "      <td>2.000000</td>\n",
       "      <td>4</td>\n",
       "      <td>Supernova (2000)</td>\n",
       "    </tr>\n",
       "    <tr>\n",
       "      <th>3</th>\n",
       "      <td>1.604700</td>\n",
       "      <td>2.000000</td>\n",
       "      <td>4</td>\n",
       "      <td>Down to You (2000)</td>\n",
       "    </tr>\n",
       "    <tr>\n",
       "      <th>4</th>\n",
       "      <td>2.298114</td>\n",
       "      <td>2.672414</td>\n",
       "      <td>29</td>\n",
       "      <td>Scream 3 (2000)</td>\n",
       "    </tr>\n",
       "    <tr>\n",
       "      <th>...</th>\n",
       "      <td>...</td>\n",
       "      <td>...</td>\n",
       "      <td>...</td>\n",
       "      <td>...</td>\n",
       "    </tr>\n",
       "    <tr>\n",
       "      <th>4773</th>\n",
       "      <td>2.917507</td>\n",
       "      <td>3.500000</td>\n",
       "      <td>1</td>\n",
       "      <td>Jon Stewart Has Left the Building (2015)</td>\n",
       "    </tr>\n",
       "    <tr>\n",
       "      <th>4774</th>\n",
       "      <td>3.408843</td>\n",
       "      <td>4.000000</td>\n",
       "      <td>1</td>\n",
       "      <td>Black Butler: Book of the Atlantic (2017)</td>\n",
       "    </tr>\n",
       "    <tr>\n",
       "      <th>4775</th>\n",
       "      <td>2.925049</td>\n",
       "      <td>3.500000</td>\n",
       "      <td>1</td>\n",
       "      <td>No Game No Life: Zero (2017)</td>\n",
       "    </tr>\n",
       "    <tr>\n",
       "      <th>4776</th>\n",
       "      <td>2.925112</td>\n",
       "      <td>3.500000</td>\n",
       "      <td>1</td>\n",
       "      <td>Flint (2017)</td>\n",
       "    </tr>\n",
       "    <tr>\n",
       "      <th>4777</th>\n",
       "      <td>2.919818</td>\n",
       "      <td>3.500000</td>\n",
       "      <td>1</td>\n",
       "      <td>Bungo Stray Dogs: Dead Apple (2018)</td>\n",
       "    </tr>\n",
       "  </tbody>\n",
       "</table>\n",
       "<p>4778 rows × 4 columns</p>\n",
       "</div>"
      ],
      "text/plain": [
       "          pred  mean rating  number of ratings  \\\n",
       "0     2.768113     3.400000                  5   \n",
       "1     2.741133     3.250000                  6   \n",
       "2     1.324607     2.000000                  4   \n",
       "3     1.604700     2.000000                  4   \n",
       "4     2.298114     2.672414                 29   \n",
       "...        ...          ...                ...   \n",
       "4773  2.917507     3.500000                  1   \n",
       "4774  3.408843     4.000000                  1   \n",
       "4775  2.925049     3.500000                  1   \n",
       "4776  2.925112     3.500000                  1   \n",
       "4777  2.919818     3.500000                  1   \n",
       "\n",
       "                                          title  \n",
       "0                             Yards, The (2000)  \n",
       "1                            Next Friday (2000)  \n",
       "2                              Supernova (2000)  \n",
       "3                            Down to You (2000)  \n",
       "4                               Scream 3 (2000)  \n",
       "...                                         ...  \n",
       "4773   Jon Stewart Has Left the Building (2015)  \n",
       "4774  Black Butler: Book of the Atlantic (2017)  \n",
       "4775               No Game No Life: Zero (2017)  \n",
       "4776                               Flint (2017)  \n",
       "4777        Bungo Stray Dogs: Dead Apple (2018)  \n",
       "\n",
       "[4778 rows x 4 columns]"
      ]
     },
     "execution_count": 21,
     "metadata": {},
     "output_type": "execute_result"
    }
   ],
   "source": [
    "#Moving pred col before mean rating col\n",
    "movieList_df=movieList_df.reindex(columns=[\"pred\", \"mean rating\", \"number of ratings\", \"title\"])\n",
    "movieList_df"
   ]
  },
  {
   "cell_type": "code",
   "execution_count": 22,
   "id": "dd7b6674",
   "metadata": {
    "execution": {
     "iopub.execute_input": "2022-09-05T10:34:28.327543Z",
     "iopub.status.busy": "2022-09-05T10:34:28.326747Z",
     "iopub.status.idle": "2022-09-05T10:34:28.347922Z",
     "shell.execute_reply": "2022-09-05T10:34:28.346771Z"
    },
    "papermill": {
     "duration": 0.033997,
     "end_time": "2022-09-05T10:34:28.350151",
     "exception": false,
     "start_time": "2022-09-05T10:34:28.316154",
     "status": "completed"
    },
    "tags": []
   },
   "outputs": [
    {
     "data": {
      "text/html": [
       "<div>\n",
       "<style scoped>\n",
       "    .dataframe tbody tr th:only-of-type {\n",
       "        vertical-align: middle;\n",
       "    }\n",
       "\n",
       "    .dataframe tbody tr th {\n",
       "        vertical-align: top;\n",
       "    }\n",
       "\n",
       "    .dataframe thead th {\n",
       "        text-align: right;\n",
       "    }\n",
       "</style>\n",
       "<table border=\"1\" class=\"dataframe\">\n",
       "  <thead>\n",
       "    <tr style=\"text-align: right;\">\n",
       "      <th></th>\n",
       "      <th>pred</th>\n",
       "      <th>mean rating</th>\n",
       "      <th>number of ratings</th>\n",
       "      <th>title</th>\n",
       "    </tr>\n",
       "  </thead>\n",
       "  <tbody>\n",
       "    <tr>\n",
       "      <th>1743</th>\n",
       "      <td>4.030965</td>\n",
       "      <td>4.252336</td>\n",
       "      <td>107</td>\n",
       "      <td>Departed, The (2006)</td>\n",
       "    </tr>\n",
       "    <tr>\n",
       "      <th>2112</th>\n",
       "      <td>3.985287</td>\n",
       "      <td>4.238255</td>\n",
       "      <td>149</td>\n",
       "      <td>Dark Knight, The (2008)</td>\n",
       "    </tr>\n",
       "    <tr>\n",
       "      <th>211</th>\n",
       "      <td>4.477792</td>\n",
       "      <td>4.122642</td>\n",
       "      <td>159</td>\n",
       "      <td>Memento (2000)</td>\n",
       "    </tr>\n",
       "    <tr>\n",
       "      <th>929</th>\n",
       "      <td>4.887053</td>\n",
       "      <td>4.118919</td>\n",
       "      <td>185</td>\n",
       "      <td>Lord of the Rings: The Return of the King, The...</td>\n",
       "    </tr>\n",
       "    <tr>\n",
       "      <th>2700</th>\n",
       "      <td>4.796530</td>\n",
       "      <td>4.109091</td>\n",
       "      <td>55</td>\n",
       "      <td>Toy Story 3 (2010)</td>\n",
       "    </tr>\n",
       "    <tr>\n",
       "      <th>653</th>\n",
       "      <td>4.357304</td>\n",
       "      <td>4.021277</td>\n",
       "      <td>188</td>\n",
       "      <td>Lord of the Rings: The Two Towers, The (2002)</td>\n",
       "    </tr>\n",
       "    <tr>\n",
       "      <th>1122</th>\n",
       "      <td>4.004469</td>\n",
       "      <td>4.006494</td>\n",
       "      <td>77</td>\n",
       "      <td>Shaun of the Dead (2004)</td>\n",
       "    </tr>\n",
       "    <tr>\n",
       "      <th>1841</th>\n",
       "      <td>3.980647</td>\n",
       "      <td>4.000000</td>\n",
       "      <td>61</td>\n",
       "      <td>Hot Fuzz (2007)</td>\n",
       "    </tr>\n",
       "    <tr>\n",
       "      <th>3083</th>\n",
       "      <td>4.084633</td>\n",
       "      <td>3.993421</td>\n",
       "      <td>76</td>\n",
       "      <td>Dark Knight Rises, The (2012)</td>\n",
       "    </tr>\n",
       "    <tr>\n",
       "      <th>2804</th>\n",
       "      <td>4.434171</td>\n",
       "      <td>3.989362</td>\n",
       "      <td>47</td>\n",
       "      <td>Harry Potter and the Deathly Hallows: Part 1 (...</td>\n",
       "    </tr>\n",
       "    <tr>\n",
       "      <th>773</th>\n",
       "      <td>4.289679</td>\n",
       "      <td>3.960993</td>\n",
       "      <td>141</td>\n",
       "      <td>Finding Nemo (2003)</td>\n",
       "    </tr>\n",
       "    <tr>\n",
       "      <th>1771</th>\n",
       "      <td>4.344993</td>\n",
       "      <td>3.944444</td>\n",
       "      <td>81</td>\n",
       "      <td>Casino Royale (2006)</td>\n",
       "    </tr>\n",
       "    <tr>\n",
       "      <th>2649</th>\n",
       "      <td>4.133482</td>\n",
       "      <td>3.943396</td>\n",
       "      <td>53</td>\n",
       "      <td>How to Train Your Dragon (2010)</td>\n",
       "    </tr>\n",
       "    <tr>\n",
       "      <th>2455</th>\n",
       "      <td>4.175746</td>\n",
       "      <td>3.887931</td>\n",
       "      <td>58</td>\n",
       "      <td>Harry Potter and the Half-Blood Prince (2009)</td>\n",
       "    </tr>\n",
       "    <tr>\n",
       "      <th>361</th>\n",
       "      <td>4.135291</td>\n",
       "      <td>3.871212</td>\n",
       "      <td>132</td>\n",
       "      <td>Monsters, Inc. (2001)</td>\n",
       "    </tr>\n",
       "    <tr>\n",
       "      <th>3014</th>\n",
       "      <td>3.967901</td>\n",
       "      <td>3.869565</td>\n",
       "      <td>69</td>\n",
       "      <td>Avengers, The (2012)</td>\n",
       "    </tr>\n",
       "    <tr>\n",
       "      <th>246</th>\n",
       "      <td>4.897137</td>\n",
       "      <td>3.867647</td>\n",
       "      <td>170</td>\n",
       "      <td>Shrek (2001)</td>\n",
       "    </tr>\n",
       "    <tr>\n",
       "      <th>151</th>\n",
       "      <td>3.971888</td>\n",
       "      <td>3.836364</td>\n",
       "      <td>110</td>\n",
       "      <td>Crouching Tiger, Hidden Dragon (Wo hu cang lon...</td>\n",
       "    </tr>\n",
       "    <tr>\n",
       "      <th>1150</th>\n",
       "      <td>4.898892</td>\n",
       "      <td>3.836000</td>\n",
       "      <td>125</td>\n",
       "      <td>Incredibles, The (2004)</td>\n",
       "    </tr>\n",
       "    <tr>\n",
       "      <th>793</th>\n",
       "      <td>4.874935</td>\n",
       "      <td>3.778523</td>\n",
       "      <td>149</td>\n",
       "      <td>Pirates of the Caribbean: The Curse of the Bla...</td>\n",
       "    </tr>\n",
       "    <tr>\n",
       "      <th>366</th>\n",
       "      <td>4.843375</td>\n",
       "      <td>3.761682</td>\n",
       "      <td>107</td>\n",
       "      <td>Harry Potter and the Sorcerer's Stone (a.k.a. ...</td>\n",
       "    </tr>\n",
       "    <tr>\n",
       "      <th>754</th>\n",
       "      <td>4.021774</td>\n",
       "      <td>3.723684</td>\n",
       "      <td>76</td>\n",
       "      <td>X2: X-Men United (2003)</td>\n",
       "    </tr>\n",
       "    <tr>\n",
       "      <th>79</th>\n",
       "      <td>4.242984</td>\n",
       "      <td>3.699248</td>\n",
       "      <td>133</td>\n",
       "      <td>X-Men (2000)</td>\n",
       "    </tr>\n",
       "    <tr>\n",
       "      <th>622</th>\n",
       "      <td>4.878342</td>\n",
       "      <td>3.598039</td>\n",
       "      <td>102</td>\n",
       "      <td>Harry Potter and the Chamber of Secrets (2002)</td>\n",
       "    </tr>\n",
       "  </tbody>\n",
       "</table>\n",
       "</div>"
      ],
      "text/plain": [
       "          pred  mean rating  number of ratings  \\\n",
       "1743  4.030965     4.252336                107   \n",
       "2112  3.985287     4.238255                149   \n",
       "211   4.477792     4.122642                159   \n",
       "929   4.887053     4.118919                185   \n",
       "2700  4.796530     4.109091                 55   \n",
       "653   4.357304     4.021277                188   \n",
       "1122  4.004469     4.006494                 77   \n",
       "1841  3.980647     4.000000                 61   \n",
       "3083  4.084633     3.993421                 76   \n",
       "2804  4.434171     3.989362                 47   \n",
       "773   4.289679     3.960993                141   \n",
       "1771  4.344993     3.944444                 81   \n",
       "2649  4.133482     3.943396                 53   \n",
       "2455  4.175746     3.887931                 58   \n",
       "361   4.135291     3.871212                132   \n",
       "3014  3.967901     3.869565                 69   \n",
       "246   4.897137     3.867647                170   \n",
       "151   3.971888     3.836364                110   \n",
       "1150  4.898892     3.836000                125   \n",
       "793   4.874935     3.778523                149   \n",
       "366   4.843375     3.761682                107   \n",
       "754   4.021774     3.723684                 76   \n",
       "79    4.242984     3.699248                133   \n",
       "622   4.878342     3.598039                102   \n",
       "\n",
       "                                                  title  \n",
       "1743                               Departed, The (2006)  \n",
       "2112                            Dark Knight, The (2008)  \n",
       "211                                      Memento (2000)  \n",
       "929   Lord of the Rings: The Return of the King, The...  \n",
       "2700                                 Toy Story 3 (2010)  \n",
       "653       Lord of the Rings: The Two Towers, The (2002)  \n",
       "1122                           Shaun of the Dead (2004)  \n",
       "1841                                    Hot Fuzz (2007)  \n",
       "3083                      Dark Knight Rises, The (2012)  \n",
       "2804  Harry Potter and the Deathly Hallows: Part 1 (...  \n",
       "773                                 Finding Nemo (2003)  \n",
       "1771                               Casino Royale (2006)  \n",
       "2649                    How to Train Your Dragon (2010)  \n",
       "2455      Harry Potter and the Half-Blood Prince (2009)  \n",
       "361                               Monsters, Inc. (2001)  \n",
       "3014                               Avengers, The (2012)  \n",
       "246                                        Shrek (2001)  \n",
       "151   Crouching Tiger, Hidden Dragon (Wo hu cang lon...  \n",
       "1150                            Incredibles, The (2004)  \n",
       "793   Pirates of the Caribbean: The Curse of the Bla...  \n",
       "366   Harry Potter and the Sorcerer's Stone (a.k.a. ...  \n",
       "754                             X2: X-Men United (2003)  \n",
       "79                                         X-Men (2000)  \n",
       "622      Harry Potter and the Chamber of Secrets (2002)  "
      ]
     },
     "execution_count": 22,
     "metadata": {},
     "output_type": "execute_result"
    }
   ],
   "source": [
    "#Taking top 300 highest rated movies from your prediction, filtering with 'number of ratings'>20 and then sorting by 'mean rating'\n",
    "movieList_df.loc[sorted_index[:300]].loc[(movieList_df['number of ratings']>20)].sort_values('mean rating',ascending=False)"
   ]
  },
  {
   "cell_type": "code",
   "execution_count": null,
   "id": "fe3a3632",
   "metadata": {
    "papermill": {
     "duration": 0.009156,
     "end_time": "2022-09-05T10:34:28.368580",
     "exception": false,
     "start_time": "2022-09-05T10:34:28.359424",
     "status": "completed"
    },
    "tags": []
   },
   "outputs": [],
   "source": []
  }
 ],
 "metadata": {
  "kernelspec": {
   "display_name": "Python 3",
   "language": "python",
   "name": "python3"
  },
  "language_info": {
   "codemirror_mode": {
    "name": "ipython",
    "version": 3
   },
   "file_extension": ".py",
   "mimetype": "text/x-python",
   "name": "python",
   "nbconvert_exporter": "python",
   "pygments_lexer": "ipython3",
   "version": "3.7.12"
  },
  "papermill": {
   "default_parameters": {},
   "duration": 61.173981,
   "end_time": "2022-09-05T10:34:31.660403",
   "environment_variables": {},
   "exception": null,
   "input_path": "__notebook__.ipynb",
   "output_path": "__notebook__.ipynb",
   "parameters": {},
   "start_time": "2022-09-05T10:33:30.486422",
   "version": "2.3.4"
  }
 },
 "nbformat": 4,
 "nbformat_minor": 5
}
